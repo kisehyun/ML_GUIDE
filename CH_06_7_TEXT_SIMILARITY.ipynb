{
 "cells": [
  {
   "cell_type": "markdown",
   "id": "3eb2d3b1",
   "metadata": {},
   "source": [
    "# 문서 유사도\n",
    "\n",
    "- 일반적으로 **코사인 유사도**를 기반으로 한다. 코사인 유사도는 벡터와 벡터 간의 유사도를 비교할 때 벡터의 **상호 방향성**이 얼마나 유사한지에 기반한다."
   ]
  },
  {
   "cell_type": "code",
   "execution_count": 11,
   "id": "1c569c0c",
   "metadata": {},
   "outputs": [],
   "source": [
    "import numpy as np"
   ]
  },
  {
   "cell_type": "code",
   "execution_count": 28,
   "id": "374b0994",
   "metadata": {},
   "outputs": [],
   "source": [
    "def get_cos_sim(v1, v2) :\n",
    "    dot_product = np.dot(v1, v2)\n",
    "    l2_norm = (np.sqrt(sum(np.square(v1))) * np.sqrt(sum(np.square(v2))))\n",
    "    sim = dot_product / l2_norm\n",
    "    \n",
    "    return sim"
   ]
  },
  {
   "cell_type": "markdown",
   "id": "4e87665a",
   "metadata": {},
   "source": [
    "numpy를 활용해서 cosine 유사도 구하기"
   ]
  },
  {
   "cell_type": "code",
   "execution_count": 29,
   "id": "6b445e0b",
   "metadata": {},
   "outputs": [],
   "source": [
    "from sklearn.feature_extraction.text import TfidfVectorizer"
   ]
  },
  {
   "cell_type": "code",
   "execution_count": 30,
   "id": "35fbf608",
   "metadata": {},
   "outputs": [],
   "source": [
    "tfidf = TfidfVectorizer(lowercase = True)"
   ]
  },
  {
   "cell_type": "code",
   "execution_count": 31,
   "id": "29494d10",
   "metadata": {},
   "outputs": [],
   "source": [
    "docs = ['if you take the blue pill, the story ends',\n",
    "       'if you take the red pill, you stay in Wonderland',\n",
    "       'if you take the red pill, I show you how deep the rabbit hole goes']"
   ]
  },
  {
   "cell_type": "markdown",
   "id": "4da4560c",
   "metadata": {},
   "source": [
    "다음과 같은 text들이 있을 때 각 text간의 코사인 유사도를 구한다."
   ]
  },
  {
   "cell_type": "code",
   "execution_count": 32,
   "id": "81858f05",
   "metadata": {},
   "outputs": [],
   "source": [
    "tfidf_vect = tfidf.fit_transform(docs)"
   ]
  },
  {
   "cell_type": "code",
   "execution_count": 33,
   "id": "bfad561d",
   "metadata": {},
   "outputs": [
    {
     "data": {
      "text/plain": [
       "(3, 18)"
      ]
     },
     "execution_count": 33,
     "metadata": {},
     "output_type": "execute_result"
    }
   ],
   "source": [
    "tfidf_vect.shape"
   ]
  },
  {
   "cell_type": "code",
   "execution_count": 34,
   "id": "9b92e16e",
   "metadata": {},
   "outputs": [],
   "source": [
    "doc1 = np.array(tfidf_vect.todense()[0]).reshape(-1, )\n",
    "doc2 = np.array(tfidf_vect.todense()[1]).reshape(-1, )"
   ]
  },
  {
   "cell_type": "code",
   "execution_count": 35,
   "id": "1b3be346",
   "metadata": {},
   "outputs": [
    {
     "data": {
      "text/plain": [
       "0.40207758214950134"
      ]
     },
     "execution_count": 35,
     "metadata": {},
     "output_type": "execute_result"
    }
   ],
   "source": [
    "get_cos_sim(doc1, doc2)"
   ]
  },
  {
   "cell_type": "code",
   "execution_count": 36,
   "id": "d6d90888",
   "metadata": {},
   "outputs": [],
   "source": [
    "doc2 = np.array(tfidf_vect.todense()[1]).reshape(-1, )\n",
    "doc3 = np.array(tfidf_vect.todense()[2]).reshape(-1, )"
   ]
  },
  {
   "cell_type": "code",
   "execution_count": 37,
   "id": "30ba6dc8",
   "metadata": {},
   "outputs": [
    {
     "data": {
      "text/plain": [
       "0.45647296026166395"
      ]
     },
     "execution_count": 37,
     "metadata": {},
     "output_type": "execute_result"
    }
   ],
   "source": [
    "get_cos_sim(doc2, doc3)"
   ]
  },
  {
   "cell_type": "code",
   "execution_count": 38,
   "id": "c1828e7c",
   "metadata": {},
   "outputs": [],
   "source": [
    "from sklearn.metrics.pairwise import cosine_similarity"
   ]
  },
  {
   "cell_type": "code",
   "execution_count": 39,
   "id": "f03120ab",
   "metadata": {},
   "outputs": [
    {
     "data": {
      "text/plain": [
       "array([[1.        , 0.40207758, 0.40425045],\n",
       "       [0.40207758, 1.        , 0.45647296],\n",
       "       [0.40425045, 0.45647296, 1.        ]])"
      ]
     },
     "execution_count": 39,
     "metadata": {},
     "output_type": "execute_result"
    }
   ],
   "source": [
    "cosine_similarity(tfidf_vect, tfidf_vect)"
   ]
  },
  {
   "cell_type": "markdown",
   "id": "1e156089",
   "metadata": {},
   "source": [
    "***\n",
    "## Opinion Review"
   ]
  },
  {
   "cell_type": "code",
   "execution_count": 43,
   "id": "56cd3b72",
   "metadata": {},
   "outputs": [],
   "source": [
    "import pandas as pd\n",
    "import glob, os\n",
    "from sklearn.cluster import KMeans"
   ]
  },
  {
   "cell_type": "code",
   "execution_count": 42,
   "id": "88cb9648",
   "metadata": {},
   "outputs": [],
   "source": [
    "path = './topics/'"
   ]
  },
  {
   "cell_type": "code",
   "execution_count": 44,
   "id": "344b03dd",
   "metadata": {},
   "outputs": [],
   "source": [
    "all_files = glob.glob(os.path.join(path, '*.data'))"
   ]
  },
  {
   "cell_type": "code",
   "execution_count": 86,
   "id": "b5306050",
   "metadata": {},
   "outputs": [],
   "source": [
    "file_names = []\n",
    "texts = []"
   ]
  },
  {
   "cell_type": "code",
   "execution_count": 87,
   "id": "4862ef59",
   "metadata": {},
   "outputs": [],
   "source": [
    "for file in all_files :\n",
    "    data = pd.read_table(file, index_col = None, header = 0, encoding = 'latin1')\n",
    "    filename = file.split('/')[2].split('.')[0]\n",
    "    file_names.append(filename)\n",
    "    texts.append(data.to_string())"
   ]
  },
  {
   "cell_type": "code",
   "execution_count": 88,
   "id": "15732263",
   "metadata": {},
   "outputs": [],
   "source": [
    "doc_data = pd.DataFrame({'filename' : file_names, 'text' : texts})"
   ]
  },
  {
   "cell_type": "code",
   "execution_count": 89,
   "id": "91db8278",
   "metadata": {},
   "outputs": [],
   "source": [
    "tfidf = TfidfVectorizer(lowercase = True, stop_words = 'english', ngram_range = (1, 2), min_df = 0.05, max_df = 0.95)"
   ]
  },
  {
   "cell_type": "code",
   "execution_count": 90,
   "id": "ab717dae",
   "metadata": {},
   "outputs": [],
   "source": [
    "features = tfidf.fit_transform(doc_data['text'])"
   ]
  },
  {
   "cell_type": "code",
   "execution_count": 91,
   "id": "6f4c9115",
   "metadata": {},
   "outputs": [
    {
     "data": {
      "text/plain": [
       "(51, 4418)"
      ]
     },
     "execution_count": 91,
     "metadata": {},
     "output_type": "execute_result"
    }
   ],
   "source": [
    "features.shape"
   ]
  },
  {
   "cell_type": "code",
   "execution_count": 92,
   "id": "ddc6f72b",
   "metadata": {},
   "outputs": [],
   "source": [
    "km = KMeans(random_state = 42, max_iter = 10000, n_clusters = 3)"
   ]
  },
  {
   "cell_type": "code",
   "execution_count": 93,
   "id": "1a6427c1",
   "metadata": {},
   "outputs": [
    {
     "data": {
      "text/plain": [
       "KMeans(max_iter=10000, n_clusters=3, random_state=42)"
      ]
     },
     "execution_count": 93,
     "metadata": {},
     "output_type": "execute_result"
    }
   ],
   "source": [
    "km.fit(features)"
   ]
  },
  {
   "cell_type": "code",
   "execution_count": 94,
   "id": "059ec713",
   "metadata": {},
   "outputs": [],
   "source": [
    "cls = km.labels_"
   ]
  },
  {
   "cell_type": "code",
   "execution_count": 95,
   "id": "9f313a35",
   "metadata": {},
   "outputs": [],
   "source": [
    "cls_center = km.cluster_centers_"
   ]
  },
  {
   "cell_type": "code",
   "execution_count": 96,
   "id": "87218ffc",
   "metadata": {},
   "outputs": [],
   "source": [
    "doc_data['label'] = cls"
   ]
  },
  {
   "cell_type": "code",
   "execution_count": 97,
   "id": "aa3f2f14",
   "metadata": {},
   "outputs": [],
   "source": [
    "h_idx = doc_data[doc_data.label == 1].index"
   ]
  },
  {
   "cell_type": "code",
   "execution_count": 98,
   "id": "8dc9656d",
   "metadata": {},
   "outputs": [
    {
     "data": {
      "text/plain": [
       "Int64Index([1, 18, 22, 23, 29, 35, 42, 43, 45, 47], dtype='int64')"
      ]
     },
     "execution_count": 98,
     "metadata": {},
     "output_type": "execute_result"
    }
   ],
   "source": [
    "h_idx"
   ]
  },
  {
   "cell_type": "code",
   "execution_count": 99,
   "id": "306c9a16",
   "metadata": {},
   "outputs": [],
   "source": [
    "comp_doc = doc_data.iloc[h_idx[0]]['filename']"
   ]
  },
  {
   "cell_type": "code",
   "execution_count": 102,
   "id": "51cbb9d8",
   "metadata": {},
   "outputs": [
    {
     "data": {
      "text/plain": [
       "array([[1.        , 0.16857284, 0.08719997, 0.0824738 , 0.0564993 ,\n",
       "        0.96717521, 0.1445608 , 0.27935015, 0.05514648, 0.20177631]])"
      ]
     },
     "execution_count": 102,
     "metadata": {},
     "output_type": "execute_result"
    }
   ],
   "source": [
    "cosine_similarity(features[h_idx[0]], features[h_idx])"
   ]
  }
 ],
 "metadata": {
  "kernelspec": {
   "display_name": "Python 3",
   "language": "python",
   "name": "python3"
  },
  "language_info": {
   "codemirror_mode": {
    "name": "ipython",
    "version": 3
   },
   "file_extension": ".py",
   "mimetype": "text/x-python",
   "name": "python",
   "nbconvert_exporter": "python",
   "pygments_lexer": "ipython3",
   "version": "3.8.8"
  }
 },
 "nbformat": 4,
 "nbformat_minor": 5
}
