{
 "cells": [
  {
   "cell_type": "markdown",
   "id": "d05c7822",
   "metadata": {},
   "source": [
    "# 텍스트 분석\n",
    "***\n",
    "\n",
    "## 토픽 모델링\n",
    "\n",
    "토픽 모델링이란 문서들의 주제를 찾아내는 것으로 머신러닝 기반의 주요 기법은 **LSA(Latent Semantic Analysis)**와 **LDA(Latent Dirichlet Allocation)**이다.\n",
    "\n",
    "### 1. LDA"
   ]
  },
  {
   "cell_type": "code",
   "execution_count": 1,
   "id": "d5e83fbf",
   "metadata": {},
   "outputs": [],
   "source": [
    "from sklearn.datasets import fetch_20newsgroups\n",
    "from sklearn.feature_extraction.text import TfidfVectorizer\n",
    "from sklearn.decomposition import LatentDirichletAllocation"
   ]
  },
  {
   "cell_type": "code",
   "execution_count": 2,
   "id": "d85e7f0c",
   "metadata": {},
   "outputs": [],
   "source": [
    "categories = ['rec.motorcycles', 'rec.sport.baseball', 'comp.graphics', 'comp.windows.x', 'talk.politics.mideast',\n",
    "              'soc.religion.christian', 'sci.electronics', 'sci.med']"
   ]
  },
  {
   "cell_type": "code",
   "execution_count": 3,
   "id": "217f9ad5",
   "metadata": {},
   "outputs": [],
   "source": [
    "news = fetch_20newsgroups(subset = 'all', remove = ['headers', 'footers', 'quotes'], categories = categories)"
   ]
  },
  {
   "cell_type": "code",
   "execution_count": 4,
   "id": "d6e6ee18",
   "metadata": {},
   "outputs": [],
   "source": [
    "tfidf = TfidfVectorizer(max_features = 2000, stop_words = 'english', lowercase = True, ngram_range = (1, 2))"
   ]
  },
  {
   "cell_type": "code",
   "execution_count": 5,
   "id": "343c0db4",
   "metadata": {},
   "outputs": [],
   "source": [
    "tfidf_vect = tfidf.fit_transform(news.data)"
   ]
  },
  {
   "cell_type": "code",
   "execution_count": 6,
   "id": "0e12e05e",
   "metadata": {},
   "outputs": [],
   "source": [
    "lda = LatentDirichletAllocation(random_state = 42, n_components = 8)"
   ]
  },
  {
   "cell_type": "code",
   "execution_count": 7,
   "id": "a5c5c229",
   "metadata": {},
   "outputs": [
    {
     "data": {
      "text/plain": [
       "LatentDirichletAllocation(n_components=8, random_state=42)"
      ]
     },
     "execution_count": 7,
     "metadata": {},
     "output_type": "execute_result"
    }
   ],
   "source": [
    "lda.fit(tfidf_vect)"
   ]
  },
  {
   "cell_type": "code",
   "execution_count": 8,
   "id": "e2cba7d3",
   "metadata": {},
   "outputs": [
    {
     "data": {
      "text/plain": [
       "(8, 2000)"
      ]
     },
     "execution_count": 8,
     "metadata": {},
     "output_type": "execute_result"
    }
   ],
   "source": [
    "lda.components_.shape"
   ]
  },
  {
   "cell_type": "markdown",
   "id": "c6c59153",
   "metadata": {},
   "source": [
    "lda의 components는 각 토픽별(8개)로 각 feature가 토픽마다 할당된 정도를 의미한다. 높은 값일수록 해당 feature는 그 토픽의 중심 word가 된다."
   ]
  },
  {
   "cell_type": "code",
   "execution_count": 28,
   "id": "0ff0f84e",
   "metadata": {},
   "outputs": [],
   "source": [
    "import pandas as pd"
   ]
  },
  {
   "cell_type": "code",
   "execution_count": 45,
   "id": "0bb4af16",
   "metadata": {},
   "outputs": [],
   "source": [
    "comp = pd.DataFrame({'topic1' : lda.components_[0], 'topic2' : lda.components_[1],\n",
    "                    'topic3' : lda.components_[2], 'topic4' : lda.components_[3],\n",
    "                    'topic5' : lda.components_[4], 'topic6' : lda.components_[5],\n",
    "                    'topic7' : lda.components_[6], 'topic8' : lda.components_[7]}, index = tfidf.get_feature_names())"
   ]
  },
  {
   "cell_type": "code",
   "execution_count": 46,
   "id": "1b457304",
   "metadata": {},
   "outputs": [
    {
     "data": {
      "text/html": [
       "<div>\n",
       "<style scoped>\n",
       "    .dataframe tbody tr th:only-of-type {\n",
       "        vertical-align: middle;\n",
       "    }\n",
       "\n",
       "    .dataframe tbody tr th {\n",
       "        vertical-align: top;\n",
       "    }\n",
       "\n",
       "    .dataframe thead th {\n",
       "        text-align: right;\n",
       "    }\n",
       "</style>\n",
       "<table border=\"1\" class=\"dataframe\">\n",
       "  <thead>\n",
       "    <tr style=\"text-align: right;\">\n",
       "      <th></th>\n",
       "      <th>topic1</th>\n",
       "      <th>topic2</th>\n",
       "      <th>topic3</th>\n",
       "      <th>topic4</th>\n",
       "      <th>topic5</th>\n",
       "      <th>topic6</th>\n",
       "      <th>topic7</th>\n",
       "      <th>topic8</th>\n",
       "    </tr>\n",
       "  </thead>\n",
       "  <tbody>\n",
       "    <tr>\n",
       "      <th>00</th>\n",
       "      <td>0.519589</td>\n",
       "      <td>0.125117</td>\n",
       "      <td>0.125703</td>\n",
       "      <td>10.620845</td>\n",
       "      <td>2.663954</td>\n",
       "      <td>0.414047</td>\n",
       "      <td>0.125030</td>\n",
       "      <td>5.449856</td>\n",
       "    </tr>\n",
       "    <tr>\n",
       "      <th>00 00</th>\n",
       "      <td>0.125159</td>\n",
       "      <td>0.125000</td>\n",
       "      <td>0.125000</td>\n",
       "      <td>2.161238</td>\n",
       "      <td>0.125006</td>\n",
       "      <td>0.125000</td>\n",
       "      <td>0.125000</td>\n",
       "      <td>0.125003</td>\n",
       "    </tr>\n",
       "    <tr>\n",
       "      <th>000</th>\n",
       "      <td>0.661151</td>\n",
       "      <td>0.125450</td>\n",
       "      <td>11.195645</td>\n",
       "      <td>0.484808</td>\n",
       "      <td>5.472321</td>\n",
       "      <td>0.125820</td>\n",
       "      <td>0.282969</td>\n",
       "      <td>10.315446</td>\n",
       "    </tr>\n",
       "    <tr>\n",
       "      <th>01</th>\n",
       "      <td>0.125143</td>\n",
       "      <td>0.125130</td>\n",
       "      <td>0.125040</td>\n",
       "      <td>5.751957</td>\n",
       "      <td>0.131944</td>\n",
       "      <td>0.125023</td>\n",
       "      <td>0.125022</td>\n",
       "      <td>2.631434</td>\n",
       "    </tr>\n",
       "    <tr>\n",
       "      <th>02</th>\n",
       "      <td>0.125396</td>\n",
       "      <td>0.125305</td>\n",
       "      <td>0.466798</td>\n",
       "      <td>4.638846</td>\n",
       "      <td>0.846349</td>\n",
       "      <td>0.125011</td>\n",
       "      <td>0.125021</td>\n",
       "      <td>2.381068</td>\n",
       "    </tr>\n",
       "    <tr>\n",
       "      <th>...</th>\n",
       "      <td>...</td>\n",
       "      <td>...</td>\n",
       "      <td>...</td>\n",
       "      <td>...</td>\n",
       "      <td>...</td>\n",
       "      <td>...</td>\n",
       "      <td>...</td>\n",
       "      <td>...</td>\n",
       "    </tr>\n",
       "    <tr>\n",
       "      <th>yes</th>\n",
       "      <td>2.546639</td>\n",
       "      <td>5.671099</td>\n",
       "      <td>2.945623</td>\n",
       "      <td>6.233634</td>\n",
       "      <td>11.465248</td>\n",
       "      <td>3.603143</td>\n",
       "      <td>1.373197</td>\n",
       "      <td>16.442142</td>\n",
       "    </tr>\n",
       "    <tr>\n",
       "      <th>yesterday</th>\n",
       "      <td>0.125518</td>\n",
       "      <td>3.291266</td>\n",
       "      <td>1.612367</td>\n",
       "      <td>0.627138</td>\n",
       "      <td>1.641267</td>\n",
       "      <td>0.376250</td>\n",
       "      <td>0.125001</td>\n",
       "      <td>4.776229</td>\n",
       "    </tr>\n",
       "    <tr>\n",
       "      <th>york</th>\n",
       "      <td>8.206182</td>\n",
       "      <td>0.125045</td>\n",
       "      <td>2.444131</td>\n",
       "      <td>0.194254</td>\n",
       "      <td>4.348075</td>\n",
       "      <td>0.360954</td>\n",
       "      <td>0.125019</td>\n",
       "      <td>0.499134</td>\n",
       "    </tr>\n",
       "    <tr>\n",
       "      <th>young</th>\n",
       "      <td>0.618343</td>\n",
       "      <td>0.318258</td>\n",
       "      <td>0.919693</td>\n",
       "      <td>0.268605</td>\n",
       "      <td>7.373503</td>\n",
       "      <td>2.679148</td>\n",
       "      <td>0.125104</td>\n",
       "      <td>6.353781</td>\n",
       "    </tr>\n",
       "    <tr>\n",
       "      <th>zip</th>\n",
       "      <td>0.125001</td>\n",
       "      <td>0.125003</td>\n",
       "      <td>0.125003</td>\n",
       "      <td>8.771186</td>\n",
       "      <td>0.125000</td>\n",
       "      <td>0.125199</td>\n",
       "      <td>0.125005</td>\n",
       "      <td>0.935332</td>\n",
       "    </tr>\n",
       "  </tbody>\n",
       "</table>\n",
       "<p>2000 rows × 8 columns</p>\n",
       "</div>"
      ],
      "text/plain": [
       "             topic1    topic2     topic3     topic4     topic5    topic6  \\\n",
       "00         0.519589  0.125117   0.125703  10.620845   2.663954  0.414047   \n",
       "00 00      0.125159  0.125000   0.125000   2.161238   0.125006  0.125000   \n",
       "000        0.661151  0.125450  11.195645   0.484808   5.472321  0.125820   \n",
       "01         0.125143  0.125130   0.125040   5.751957   0.131944  0.125023   \n",
       "02         0.125396  0.125305   0.466798   4.638846   0.846349  0.125011   \n",
       "...             ...       ...        ...        ...        ...       ...   \n",
       "yes        2.546639  5.671099   2.945623   6.233634  11.465248  3.603143   \n",
       "yesterday  0.125518  3.291266   1.612367   0.627138   1.641267  0.376250   \n",
       "york       8.206182  0.125045   2.444131   0.194254   4.348075  0.360954   \n",
       "young      0.618343  0.318258   0.919693   0.268605   7.373503  2.679148   \n",
       "zip        0.125001  0.125003   0.125003   8.771186   0.125000  0.125199   \n",
       "\n",
       "             topic7     topic8  \n",
       "00         0.125030   5.449856  \n",
       "00 00      0.125000   0.125003  \n",
       "000        0.282969  10.315446  \n",
       "01         0.125022   2.631434  \n",
       "02         0.125021   2.381068  \n",
       "...             ...        ...  \n",
       "yes        1.373197  16.442142  \n",
       "yesterday  0.125001   4.776229  \n",
       "york       0.125019   0.499134  \n",
       "young      0.125104   6.353781  \n",
       "zip        0.125005   0.935332  \n",
       "\n",
       "[2000 rows x 8 columns]"
      ]
     },
     "execution_count": 46,
     "metadata": {},
     "output_type": "execute_result"
    }
   ],
   "source": [
    "comp"
   ]
  },
  {
   "cell_type": "markdown",
   "id": "6c30cc4c",
   "metadata": {},
   "source": [
    "지금 위의 결과에서는 topic1에서 'york' 단어가 제일 중심단어로 판단된다. "
   ]
  },
  {
   "cell_type": "code",
   "execution_count": 22,
   "id": "d9d13dfe",
   "metadata": {},
   "outputs": [],
   "source": [
    "def display_topic_words(model, features, topn) :\n",
    "    for topic_index, topic in enumerate(model.components_) :\n",
    "\n",
    "        \n",
    "        topic_word_idx = topic.argsort()[::-1]\n",
    "        top_idx = topic_word_idx[:topn]\n",
    "        \n",
    "        all_features = ' '.join([features[i] for i in top_idx])\n",
    "        print(f'Topic # {topic_index + 1}\\n{all_features}\\n')"
   ]
  },
  {
   "cell_type": "code",
   "execution_count": 23,
   "id": "e478a09c",
   "metadata": {},
   "outputs": [],
   "source": [
    "features = tfidf.get_feature_names()"
   ]
  },
  {
   "cell_type": "code",
   "execution_count": 24,
   "id": "9c181192",
   "metadata": {},
   "outputs": [
    {
     "name": "stdout",
     "output_type": "stream",
     "text": [
      "Topic # 1\n",
      "new york york san writes colorado michael francisco san francisco bell baseball nl april angeles los california\n",
      "\n",
      "Topic # 2\n",
      "bike dod ride riding dog bikes just motorcycle road miles ve rear bmw don got\n",
      "\n",
      "Topic # 3\n",
      "israel israeli jews arab jewish arabs state muslims war people peace palestinian palestinians israelis killed\n",
      "\n",
      "Topic # 4\n",
      "thanks window file program know graphics does use windows files using edu mail server hi\n",
      "\n",
      "Topic # 5\n",
      "god people think jesus church say don believe just christian did know like christ christians\n",
      "\n",
      "Topic # 6\n",
      "doctor msg disease medical cause food pain don patients like know just treatment body people\n",
      "\n",
      "Topic # 7\n",
      "banks gordon gordon banks skepticism pitt pitt edu shameful edu soon battery heat ground chain helmet water\n",
      "\n",
      "Topic # 8\n",
      "like don just think year good game know time use ve games team does used\n",
      "\n"
     ]
    }
   ],
   "source": [
    "display_topic_words(lda, features, 15)"
   ]
  }
 ],
 "metadata": {
  "kernelspec": {
   "display_name": "Python 3",
   "language": "python",
   "name": "python3"
  },
  "language_info": {
   "codemirror_mode": {
    "name": "ipython",
    "version": 3
   },
   "file_extension": ".py",
   "mimetype": "text/x-python",
   "name": "python",
   "nbconvert_exporter": "python",
   "pygments_lexer": "ipython3",
   "version": "3.8.8"
  }
 },
 "nbformat": 4,
 "nbformat_minor": 5
}
