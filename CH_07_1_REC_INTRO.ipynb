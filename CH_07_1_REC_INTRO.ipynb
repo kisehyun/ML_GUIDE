{
 "cells": [
  {
   "cell_type": "markdown",
   "id": "df81fbd7",
   "metadata": {},
   "source": [
    "# 추천 시스템\n",
    "***\n",
    "## 유형\n",
    "### 1. **콘텐츠 기반 필터링**\n",
    "- User가 특정 Item을 선호하는 경우 해당 Item과 가장 유사한 Item을 추천하는 방식\n",
    "- 영화, 음악 등의 컨텐츠에 주로 사용될 듯\n",
    "\n",
    "### 2. **협업 필터링**\n",
    "- User별로 Item에 대해 평가한 정보 혹은 이용 이력과 같은 사용자 행동 양식을 기반으로 추천을 수행하는 방식\n",
    "- User가 아직 평가하지 않은 Item에 대해 평가한다.\n",
    "\n",
    "#### 2-1. **최근접 이웃 협업 필터링**\n",
    "- 메모리 협업 필터링이라고도 하며 User 기반과 Item 기반으로 다시 나뉜다.\n",
    "- User 기반 : 특정 User와 유사한 다른 User들을 TOP-N으로 선정해 TOP-N User들이 좋아하는 Item을 추천하는 방식. 즉, 특정 User와 다른 User들 간의 유사도를 기준으로 추천.\n",
    "- Item 기반 : User들이 해당 Item을 평가한 정보를 기반으로 추천. Item간의 유사성 활용이 아님. \n",
    "- User Based 보다 Item Based 추천이 성능이 더 좋다. \n",
    "\n",
    "#### 2-2. **잠재 요인 협업 필터링**\n",
    "- 행렬 분해(Matrix Factorization)를 이용하여 잠재 요인을 추출한다.\n",
    "- 다차원 희소 행렬을 저차원 밀집 행렬로 바꾸어 사용한다.\n",
    "- 행렬 분해에 의해 추출된 잠재요인을 특성 선호도로 가정할 수 있다.\n",
    "\n",
    "행렬 분해는 다차원 -> 저차원 매트릭스로 변환하는 것으로 대표적으로 **SVD(Singular Vector Decomposition)**, **NMF(Non-Negative Matrix Factorization)** 등이 있다.\n",
    "\n",
    "SVD는 **결측치가 없는 행렬에만 적용**을 할 수 있다. 결측치가 많은 경우에는 **SGD**, **ALS** 방식을 이용한다.\n",
    "\n",
    "#### SGD를 활용한 행렬 분해"
   ]
  },
  {
   "cell_type": "code",
   "execution_count": 4,
   "id": "a2984d8b",
   "metadata": {},
   "outputs": [],
   "source": [
    "import numpy as np"
   ]
  },
  {
   "cell_type": "code",
   "execution_count": 5,
   "id": "3fb7b499",
   "metadata": {},
   "outputs": [],
   "source": [
    "R = np.array([[4, np.NaN, np.NaN, 2, np.NaN],\n",
    "             [np.NaN, 5, np.NaN, 3, 1],\n",
    "             [np.NaN, np.NaN, 3, 4, 4],\n",
    "             [5, 2, 1, 2, np.NaN]])"
   ]
  },
  {
   "cell_type": "markdown",
   "id": "942d2ab8",
   "metadata": {},
   "source": [
    "User는 4명, Item은 5개"
   ]
  },
  {
   "cell_type": "code",
   "execution_count": 6,
   "id": "11c0352f",
   "metadata": {},
   "outputs": [],
   "source": [
    "n_users, n_items = R.shape"
   ]
  },
  {
   "cell_type": "code",
   "execution_count": 7,
   "id": "24c664bc",
   "metadata": {},
   "outputs": [],
   "source": [
    "K = 3 # 잠재 요인 차원"
   ]
  },
  {
   "cell_type": "code",
   "execution_count": 8,
   "id": "3d2996c3",
   "metadata": {},
   "outputs": [
    {
     "data": {
      "text/plain": [
       "(4, 5)"
      ]
     },
     "execution_count": 8,
     "metadata": {},
     "output_type": "execute_result"
    }
   ],
   "source": [
    "n_users, n_items"
   ]
  },
  {
   "cell_type": "code",
   "execution_count": 9,
   "id": "86d00864",
   "metadata": {},
   "outputs": [],
   "source": [
    "np.random.seed(42)"
   ]
  },
  {
   "cell_type": "code",
   "execution_count": 10,
   "id": "25946a00",
   "metadata": {},
   "outputs": [],
   "source": [
    "P = np.random.normal(scale = 1. / K, size = (n_users, K))\n",
    "Q = np.random.normal(scale = 1. / K, size = (n_items, K))"
   ]
  },
  {
   "cell_type": "code",
   "execution_count": 11,
   "id": "51a0e3cb",
   "metadata": {},
   "outputs": [
    {
     "data": {
      "text/plain": [
       "((4, 3), (5, 3))"
      ]
     },
     "execution_count": 11,
     "metadata": {},
     "output_type": "execute_result"
    }
   ],
   "source": [
    "P.shape, Q.shape"
   ]
  },
  {
   "cell_type": "code",
   "execution_count": 12,
   "id": "d04addc3",
   "metadata": {},
   "outputs": [],
   "source": [
    "from sklearn.metrics import mean_squared_error"
   ]
  },
  {
   "cell_type": "code",
   "execution_count": 13,
   "id": "d0a435ec",
   "metadata": {},
   "outputs": [],
   "source": [
    "non_zeros = [(i, j, R[i, j]) for i in range(n_users) for j in range(n_items) if R[i, j] > 0]"
   ]
  },
  {
   "cell_type": "code",
   "execution_count": 14,
   "id": "2e7bf080",
   "metadata": {},
   "outputs": [
    {
     "data": {
      "text/plain": [
       "[(0, 0, 4.0),\n",
       " (0, 3, 2.0),\n",
       " (1, 1, 5.0),\n",
       " (1, 3, 3.0),\n",
       " (1, 4, 1.0),\n",
       " (2, 2, 3.0),\n",
       " (2, 3, 4.0),\n",
       " (2, 4, 4.0),\n",
       " (3, 0, 5.0),\n",
       " (3, 1, 2.0),\n",
       " (3, 2, 1.0),\n",
       " (3, 3, 2.0)]"
      ]
     },
     "execution_count": 14,
     "metadata": {},
     "output_type": "execute_result"
    }
   ],
   "source": [
    "non_zeros"
   ]
  },
  {
   "cell_type": "markdown",
   "id": "8ba8b878",
   "metadata": {},
   "source": [
    "R 행렬에서 값이 0 보다 큰 위치의 행, 열 인덱스와 해당 값을 튜플 형태로 만들어 리스트에 저장"
   ]
  },
  {
   "cell_type": "code",
   "execution_count": 15,
   "id": "8c7eb9e9",
   "metadata": {},
   "outputs": [
    {
     "data": {
      "text/plain": [
       "[0, 0, 1, 1, 1, 2, 2, 2, 3, 3, 3, 3]"
      ]
     },
     "execution_count": 15,
     "metadata": {},
     "output_type": "execute_result"
    }
   ],
   "source": [
    "[v[0] for v in non_zeros]"
   ]
  },
  {
   "cell_type": "code",
   "execution_count": 16,
   "id": "ef73dba5",
   "metadata": {},
   "outputs": [],
   "source": [
    "def get_rmse_err(R, P, Q, non_zeros) :\n",
    "    err = 0\n",
    "    \n",
    "    matrix = np.dot(P, Q.T)\n",
    "    \n",
    "    row_idx = [v[0] for v in non_zeros]\n",
    "    col_idx = [v[1] for v in non_zeros]\n",
    "    \n",
    "    new_R = R[row_idx, col_idx]\n",
    "    \n",
    "    non_zero_matrix = matrix[row_idx, col_idx]\n",
    "    rmse = mean_squared_error(new_R, non_zero_matrix) ** 0.5\n",
    "    return rmse"
   ]
  },
  {
   "cell_type": "code",
   "execution_count": 17,
   "id": "1ce33733",
   "metadata": {},
   "outputs": [],
   "source": [
    "iterations = 1000\n",
    "lr = 0.01\n",
    "l2 = 0.01"
   ]
  },
  {
   "cell_type": "code",
   "execution_count": 18,
   "id": "4d0992b8",
   "metadata": {},
   "outputs": [
    {
     "name": "stdout",
     "output_type": "stream",
     "text": [
      "0번째 iteration step의 RMSE = 3.2920697149118254\n",
      "100번째 iteration step의 RMSE = 0.19350618778208667\n",
      "200번째 iteration step의 RMSE = 0.030945925295917408\n",
      "300번째 iteration step의 RMSE = 0.017061134025438924\n",
      "400번째 iteration step의 RMSE = 0.015204135981955986\n",
      "500번째 iteration step의 RMSE = 0.014871950471629453\n",
      "600번째 iteration step의 RMSE = 0.014796657017388746\n",
      "700번째 iteration step의 RMSE = 0.014758447296047143\n",
      "800번째 iteration step의 RMSE = 0.014720787548844509\n",
      "900번째 iteration step의 RMSE = 0.014680536323574913\n"
     ]
    }
   ],
   "source": [
    "for iteration in range(iterations) :\n",
    "    for i, j, r in non_zeros :\n",
    "        err_ij = r - np.dot(P[i, :], Q[j, :].T)\n",
    "        \n",
    "        P[i, :] = P[i, :] + lr * (err_ij * Q[j, :] - l2 * P[i, :])\n",
    "        Q[j, :] = Q[j, :] + lr * (err_ij * P[i, :] - l2 * Q[j, :])\n",
    "    \n",
    "    rmse = get_rmse_err(R, P, Q, non_zeros)\n",
    "    \n",
    "    if (iteration % 100) == 0 :\n",
    "        print(f'{iteration}번째 iteration step의 RMSE = {rmse}')\n",
    "                                "
   ]
  },
  {
   "cell_type": "code",
   "execution_count": 19,
   "id": "518d8040",
   "metadata": {},
   "outputs": [],
   "source": [
    "pred_matrix = np.dot(P, Q.T)"
   ]
  },
  {
   "cell_type": "code",
   "execution_count": 20,
   "id": "6ccc23a5",
   "metadata": {},
   "outputs": [
    {
     "data": {
      "text/plain": [
       "array([[3.98965296, 2.48787536, 1.34068206, 2.00231596, 1.1846934 ],\n",
       "       [6.10970082, 4.97423562, 2.24094343, 2.99049244, 1.00743279],\n",
       "       [5.40354633, 3.72248629, 2.98826537, 3.98054225, 3.98350837],\n",
       "       [4.9725082 , 2.00940108, 1.0034686 , 1.99766709, 1.07702247]])"
      ]
     },
     "execution_count": 20,
     "metadata": {},
     "output_type": "execute_result"
    }
   ],
   "source": [
    "pred_matrix"
   ]
  },
  {
   "cell_type": "code",
   "execution_count": 21,
   "id": "7d73e0f7",
   "metadata": {},
   "outputs": [
    {
     "data": {
      "text/plain": [
       "array([[ 4., nan, nan,  2., nan],\n",
       "       [nan,  5., nan,  3.,  1.],\n",
       "       [nan, nan,  3.,  4.,  4.],\n",
       "       [ 5.,  2.,  1.,  2., nan]])"
      ]
     },
     "execution_count": 21,
     "metadata": {},
     "output_type": "execute_result"
    }
   ],
   "source": [
    "R"
   ]
  },
  {
   "cell_type": "markdown",
   "id": "2b061108",
   "metadata": {},
   "source": [
    "SGD를 활용해 진행한 행렬분해로 dot product한 결과와 기존 행렬인 R의 값이 거의 유사하다. 또한 결측치 값들이 예측값으로 채워진 것을 알 수 있다."
   ]
  }
 ],
 "metadata": {
  "kernelspec": {
   "display_name": "Python 3",
   "language": "python",
   "name": "python3"
  },
  "language_info": {
   "codemirror_mode": {
    "name": "ipython",
    "version": 3
   },
   "file_extension": ".py",
   "mimetype": "text/x-python",
   "name": "python",
   "nbconvert_exporter": "python",
   "pygments_lexer": "ipython3",
   "version": "3.8.8"
  }
 },
 "nbformat": 4,
 "nbformat_minor": 5
}
