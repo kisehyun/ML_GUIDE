{
 "cells": [
  {
   "cell_type": "markdown",
   "id": "a3d6f7a3",
   "metadata": {},
   "source": [
    "# 텍스트 분석\n",
    "***\n",
    "## Bag of Words = BOW\n",
    "\n",
    "#### Bag of Words는 문서내 모든 단어를 문맥이나 순서와 무관하게 단어에 대해 빈도 값을 부여해 feature를 추출하는 방식이다. 간단히 설명하면 아래 방식과 같다."
   ]
  },
  {
   "cell_type": "code",
   "execution_count": 61,
   "id": "49f1fc63",
   "metadata": {},
   "outputs": [],
   "source": [
    "text1 = \"He likes apple\"\n",
    "text2 = \"Apple is a fruit i love but apple is expensive\"\n",
    "text3 = \"I love apple and banana\""
   ]
  },
  {
   "cell_type": "code",
   "execution_count": 62,
   "id": "3db15fde",
   "metadata": {},
   "outputs": [],
   "source": [
    "words1 = list(map(lambda x : x.lower(), text1.split(' ')))\n",
    "words2 = list(map(lambda x : x.lower(), text2.split(' ')))\n",
    "words3 = list(map(lambda x : x.lower(), text3.split(' ')))"
   ]
  },
  {
   "cell_type": "code",
   "execution_count": 63,
   "id": "e6ffb05a",
   "metadata": {},
   "outputs": [
    {
     "data": {
      "text/plain": [
       "['he', 'likes', 'apple']"
      ]
     },
     "execution_count": 63,
     "metadata": {},
     "output_type": "execute_result"
    }
   ],
   "source": [
    "words1"
   ]
  },
  {
   "cell_type": "code",
   "execution_count": 64,
   "id": "d2f0b6d9",
   "metadata": {},
   "outputs": [
    {
     "data": {
      "text/plain": [
       "['apple', 'is', 'a', 'fruit', 'i', 'love', 'but', 'apple', 'is', 'expensive']"
      ]
     },
     "execution_count": 64,
     "metadata": {},
     "output_type": "execute_result"
    }
   ],
   "source": [
    "words2"
   ]
  },
  {
   "cell_type": "code",
   "execution_count": 65,
   "id": "68b15bfa",
   "metadata": {},
   "outputs": [
    {
     "data": {
      "text/plain": [
       "['i', 'love', 'apple', 'and', 'banana']"
      ]
     },
     "execution_count": 65,
     "metadata": {},
     "output_type": "execute_result"
    }
   ],
   "source": [
    "words3"
   ]
  },
  {
   "cell_type": "code",
   "execution_count": 66,
   "id": "40003ba9",
   "metadata": {},
   "outputs": [],
   "source": [
    "import pandas as pd"
   ]
  },
  {
   "cell_type": "code",
   "execution_count": 67,
   "id": "29d196a3",
   "metadata": {},
   "outputs": [],
   "source": [
    "bow = pd.DataFrame(index = ['문장1', '문장2', '문장3'], columns = list(set(words1 + words2 + words3))).fillna(0)"
   ]
  },
  {
   "cell_type": "code",
   "execution_count": 68,
   "id": "8ae50821",
   "metadata": {},
   "outputs": [],
   "source": [
    "for i in range(1, 4) :\n",
    "    for feature in bow.columns :\n",
    "        for w in globals()[f'words{i}'] :\n",
    "            if w == feature :\n",
    "                bow.loc[f'문장{i}', feature] += 1\n",
    "            else :\n",
    "                pass"
   ]
  },
  {
   "cell_type": "code",
   "execution_count": 69,
   "id": "40340b74",
   "metadata": {},
   "outputs": [
    {
     "data": {
      "text/html": [
       "<div>\n",
       "<style scoped>\n",
       "    .dataframe tbody tr th:only-of-type {\n",
       "        vertical-align: middle;\n",
       "    }\n",
       "\n",
       "    .dataframe tbody tr th {\n",
       "        vertical-align: top;\n",
       "    }\n",
       "\n",
       "    .dataframe thead th {\n",
       "        text-align: right;\n",
       "    }\n",
       "</style>\n",
       "<table border=\"1\" class=\"dataframe\">\n",
       "  <thead>\n",
       "    <tr style=\"text-align: right;\">\n",
       "      <th></th>\n",
       "      <th>is</th>\n",
       "      <th>fruit</th>\n",
       "      <th>and</th>\n",
       "      <th>a</th>\n",
       "      <th>likes</th>\n",
       "      <th>apple</th>\n",
       "      <th>love</th>\n",
       "      <th>i</th>\n",
       "      <th>banana</th>\n",
       "      <th>but</th>\n",
       "      <th>expensive</th>\n",
       "      <th>he</th>\n",
       "    </tr>\n",
       "  </thead>\n",
       "  <tbody>\n",
       "    <tr>\n",
       "      <th>문장1</th>\n",
       "      <td>0</td>\n",
       "      <td>0</td>\n",
       "      <td>0</td>\n",
       "      <td>0</td>\n",
       "      <td>1</td>\n",
       "      <td>1</td>\n",
       "      <td>0</td>\n",
       "      <td>0</td>\n",
       "      <td>0</td>\n",
       "      <td>0</td>\n",
       "      <td>0</td>\n",
       "      <td>1</td>\n",
       "    </tr>\n",
       "    <tr>\n",
       "      <th>문장2</th>\n",
       "      <td>2</td>\n",
       "      <td>1</td>\n",
       "      <td>0</td>\n",
       "      <td>1</td>\n",
       "      <td>0</td>\n",
       "      <td>2</td>\n",
       "      <td>1</td>\n",
       "      <td>1</td>\n",
       "      <td>0</td>\n",
       "      <td>1</td>\n",
       "      <td>1</td>\n",
       "      <td>0</td>\n",
       "    </tr>\n",
       "    <tr>\n",
       "      <th>문장3</th>\n",
       "      <td>0</td>\n",
       "      <td>0</td>\n",
       "      <td>1</td>\n",
       "      <td>0</td>\n",
       "      <td>0</td>\n",
       "      <td>1</td>\n",
       "      <td>1</td>\n",
       "      <td>1</td>\n",
       "      <td>1</td>\n",
       "      <td>0</td>\n",
       "      <td>0</td>\n",
       "      <td>0</td>\n",
       "    </tr>\n",
       "  </tbody>\n",
       "</table>\n",
       "</div>"
      ],
      "text/plain": [
       "     is  fruit  and  a  likes  apple  love  i  banana  but  expensive  he\n",
       "문장1   0      0    0  0      1      1     0  0       0    0          0   1\n",
       "문장2   2      1    0  1      0      2     1  1       0    1          1   0\n",
       "문장3   0      0    1  0      0      1     1  1       1    0          0   0"
      ]
     },
     "execution_count": 69,
     "metadata": {},
     "output_type": "execute_result"
    }
   ],
   "source": [
    "bow"
   ]
  },
  {
   "cell_type": "markdown",
   "id": "3af754f3",
   "metadata": {},
   "source": [
    "각 문장 내 단어들에 대해 문장에서 등장하는 빈도를 값을 가지는 테이블을 생성한다.\n",
    "\n",
    "2번 문장의 경우 applea과 is가 2번씩 등장하므로 2의 값을 가진다.\n",
    "\n",
    "이처럼 BOW는 쉽고 빠르게 구축이 가능하다. 하지만 치명적인 한계 또한 존재하는데 대표적인 단점은 아래와 같다.\n",
    "\n",
    "**- 문맥 의미 반영 부족** : 단어의 순서를 고려하지 않기 떄문에 문맥적인 의미를 고려할 수 없다. 이를 보완하기 위해 n-gram을 사용하긴 하지만 완전히 해소하진 못한다.\n",
    "\n",
    "**- 희소 행렬 문제** : 문서 혹은 문장이 매우 많은 경우 BOW를 적용하면 차원이 굉장히 커진다. 생성된 feature가 100만개 이지만 n번째 문서 혹은 문장에서 사용된 단어는 3개라면 999만9997개 차원의 값이 0으로 채워진다. 이렇게 될 경우 머신러닝 적용할 때 시간과 예측 성능 모두 안좋아 질 수 있다.\n",
    "\n",
    "***\n",
    "\n",
    "BOW의 단점을 보완하기 위해 **feature vectorization**을 사용하는데 크게 두 가지 방식이 존재한다.\n",
    "\n",
    "**- Count 기반** : word feature에 각 문서에서 해당 단어의 빈도 즉 count를 부여하는 방식. 단순히 빈도를 의미하기 때문에 stopwords와 같이 문장에서 자연스럽게 자주 쓰일 수 밖에 없는 단어들까지도 높은 빈도 값을 부여한다.\n",
    "\n",
    "**- TF-IDF** : 개별 문서에서 자주 나타나는 단어는 높은 가중치를, 모든 문서에서 전반적으로 나타나는 단어에 대해서는 페널티를 주는 방식.\n",
    "***\n",
    "Sklearn에 CountVectorizer와 TfidfVectorizer를 사용하면 위의 두 방식을 활용할 수 있다.\n",
    "\n",
    "**- CountVectorizer parameter**(Tfidf도 동일)\n",
    "\n",
    "|Parameter|description|\n",
    "|---|---|\n",
    "|max_df|최대 빈도 수, 과하게 반복되는 단어를 배제할 수 있다.|\n",
    "|min_df|최소 빈도 수, 과하게 빈도가 낮은 단어를 배제한다.|\n",
    "|max_features|추출하는 feature의 개수 제한, 상위 n개까지만 추출|\n",
    "|stop_words|스톱 워드 사용|\n",
    "|n_gram_range|n_gram범위를 정한다. 튜플 형태로 지정|\n",
    "|analyzer|feature 추출 수행 단위 지정, 디폴트는 word로 charcter 단위도 가능하다.|\n",
    "|token_pattern|토큰화하는 정규 표현식 패턴, analyzer = True일 때만 변경 가능|\n",
    "|tokenizer|토큰화를 별도의 커스텀으로 지정할 수 있다.|\n",
    "***\n",
    "\n",
    "### 희소행렬 - COO 형식\n",
    "\n",
    "COO형식은 0이 아닌 데이터만 별도의 array에 저장하고 각 데이터 값이 가리키는 행과 열의 위치를 별도의 배열로 저장하는 방식이다.\n",
    "\n",
    "배열에서 0이 아닌 값들의 위치 정보를 (행, 열)로 변환하고 행의 값들과 열의 값들을 별도로 지정한 후 희소 행렬을 생성한다."
   ]
  },
  {
   "cell_type": "code",
   "execution_count": 1,
   "id": "5bae6f33",
   "metadata": {},
   "outputs": [],
   "source": [
    "import numpy as np"
   ]
  },
  {
   "cell_type": "code",
   "execution_count": 71,
   "id": "76abb97c",
   "metadata": {},
   "outputs": [],
   "source": [
    "dense = np.array([[3, 0, 1], [0, 2, 0]])"
   ]
  },
  {
   "cell_type": "code",
   "execution_count": 2,
   "id": "12e71e4f",
   "metadata": {},
   "outputs": [],
   "source": [
    "from scipy import sparse"
   ]
  },
  {
   "cell_type": "code",
   "execution_count": 73,
   "id": "c3c557f7",
   "metadata": {},
   "outputs": [],
   "source": [
    "data = np.array([3, 1, 2])"
   ]
  },
  {
   "cell_type": "code",
   "execution_count": 74,
   "id": "783b17b2",
   "metadata": {},
   "outputs": [],
   "source": [
    "r = np.array([0, 0, 1])\n",
    "c = np.array([0, 2, 1])"
   ]
  },
  {
   "cell_type": "code",
   "execution_count": 76,
   "id": "cba9315c",
   "metadata": {},
   "outputs": [],
   "source": [
    "coo = sparse.coo_matrix((data, (r, c)))"
   ]
  },
  {
   "cell_type": "code",
   "execution_count": 78,
   "id": "da80e5a8",
   "metadata": {},
   "outputs": [
    {
     "data": {
      "text/plain": [
       "array([[3, 0, 1],\n",
       "       [0, 2, 0]])"
      ]
     },
     "execution_count": 78,
     "metadata": {},
     "output_type": "execute_result"
    }
   ],
   "source": [
    "coo.toarray()"
   ]
  },
  {
   "cell_type": "markdown",
   "id": "4d82cf89",
   "metadata": {},
   "source": [
    "### 희소행렬 - CSR 형식\n",
    "\n",
    "CSR형식은 COO의 문제점을 해결한 것으로 메모리가 적게 들고 빠른 연산이 가능하다.\n",
    "\n",
    "행 위치 배열 내에 있는 고유한 값의 시작 위치만 다시 별도의 위치 배열로 가지는 변환 방식을 의미한다."
   ]
  },
  {
   "cell_type": "code",
   "execution_count": 3,
   "id": "c2166baf",
   "metadata": {},
   "outputs": [],
   "source": [
    "dense = np.array([[0, 0, 1, 0, 0, 5],\n",
    "                 [1, 4, 0, 3, 2, 5],\n",
    "                 [0, 6, 0, 3, 0, 0],\n",
    "                 [2, 0, 0, 0, 0, 0],\n",
    "                 [0, 0, 0, 7, 0, 8],\n",
    "                 [1, 0, 0, 0, 0, 0]])"
   ]
  },
  {
   "cell_type": "code",
   "execution_count": 5,
   "id": "939ee6c2",
   "metadata": {},
   "outputs": [],
   "source": [
    "# 0값이 아닌 데이터 추출\n",
    "not_0 = np.array([1, 5, 1, 4, 3, 2, 5, 6, 3, 2, 7, 8, 1])"
   ]
  },
  {
   "cell_type": "code",
   "execution_count": 6,
   "id": "98dd520b",
   "metadata": {},
   "outputs": [],
   "source": [
    "r_pos = np.array([0, 0, 1, 1, 1, 1, 1, 2, 2, 3, 4, 4, 5]) # 0이 아닌 값이 등장한 행의 인덱스\n",
    "c_pos = np.array([2, 5, 0, 1, 3, 4, 5, 1, 3, 0, 3, 5, 0]) # 0이 아닌 값이 등장한 열의 인덱스 "
   ]
  },
  {
   "cell_type": "code",
   "execution_count": 8,
   "id": "7f24ed7c",
   "metadata": {},
   "outputs": [],
   "source": [
    "# COO형식\n",
    "COO = sparse.coo_matrix((not_0, (r_pos, c_pos)))"
   ]
  },
  {
   "cell_type": "code",
   "execution_count": 10,
   "id": "7032fcb5",
   "metadata": {},
   "outputs": [],
   "source": [
    "# [0, 0, 1, 1, 1, 1, 1, 2, 2, 3, 4, 4, 5]에서 행 위치 배열의 인덱스는 고유한 값이 새로 등장한 인덱스\n",
    "# 즉, 0, 1, 2, 3, 4, 5가 처음 등장한 인덱스를 의미한다.\n",
    "# 따라서 [0, 2, 7, 9, 10, 12]가 되고 맨 끝에 총 항목 개수인 13을 추가한다.\n",
    "\n",
    "# 행 위치 배열의 고유 값의 시작 위치 인덱스를 배열로 생성\n",
    "r_pos_idx = np.array([0, 2, 7, 9, 10, 12, 13])"
   ]
  },
  {
   "cell_type": "code",
   "execution_count": 12,
   "id": "b1527e9d",
   "metadata": {},
   "outputs": [],
   "source": [
    "# CSR형식\n",
    "CSR = sparse.csr_matrix((not_0, c_pos, r_pos_idx))"
   ]
  },
  {
   "cell_type": "markdown",
   "id": "6f00f121",
   "metadata": {},
   "source": [
    "#### COO 형식 원래 배열로 변환"
   ]
  },
  {
   "cell_type": "code",
   "execution_count": 13,
   "id": "69dc3105",
   "metadata": {},
   "outputs": [
    {
     "name": "stdout",
     "output_type": "stream",
     "text": [
      "[[0 0 1 0 0 5]\n",
      " [1 4 0 3 2 5]\n",
      " [0 6 0 3 0 0]\n",
      " [2 0 0 0 0 0]\n",
      " [0 0 0 7 0 8]\n",
      " [1 0 0 0 0 0]]\n"
     ]
    }
   ],
   "source": [
    "print(COO.toarray())"
   ]
  },
  {
   "cell_type": "markdown",
   "id": "f22271da",
   "metadata": {},
   "source": [
    "#### CSR 형식 원래 배열로 변환"
   ]
  },
  {
   "cell_type": "code",
   "execution_count": 14,
   "id": "daef7aca",
   "metadata": {},
   "outputs": [
    {
     "name": "stdout",
     "output_type": "stream",
     "text": [
      "[[0 0 1 0 0 5]\n",
      " [1 4 0 3 2 5]\n",
      " [0 6 0 3 0 0]\n",
      " [2 0 0 0 0 0]\n",
      " [0 0 0 7 0 8]\n",
      " [1 0 0 0 0 0]]\n"
     ]
    }
   ],
   "source": [
    "print(CSR.toarray())"
   ]
  },
  {
   "cell_type": "markdown",
   "id": "d6ac4886",
   "metadata": {},
   "source": [
    "실제 사용시에는 행렬을 파라미터로 사용하면 COO나 CSR 희소 행렬로 생성된다."
   ]
  },
  {
   "cell_type": "code",
   "execution_count": 15,
   "id": "0a48358d",
   "metadata": {},
   "outputs": [],
   "source": [
    "coo = sparse.coo_matrix(dense)"
   ]
  },
  {
   "cell_type": "code",
   "execution_count": 17,
   "id": "f1e35e7d",
   "metadata": {},
   "outputs": [
    {
     "data": {
      "text/plain": [
       "array([[0, 0, 1, 0, 0, 5],\n",
       "       [1, 4, 0, 3, 2, 5],\n",
       "       [0, 6, 0, 3, 0, 0],\n",
       "       [2, 0, 0, 0, 0, 0],\n",
       "       [0, 0, 0, 7, 0, 8],\n",
       "       [1, 0, 0, 0, 0, 0]])"
      ]
     },
     "execution_count": 17,
     "metadata": {},
     "output_type": "execute_result"
    }
   ],
   "source": [
    "coo.toarray()"
   ]
  },
  {
   "cell_type": "code",
   "execution_count": 18,
   "id": "56d46217",
   "metadata": {},
   "outputs": [],
   "source": [
    "csr = sparse.coo_matrix(dense)"
   ]
  },
  {
   "cell_type": "code",
   "execution_count": 19,
   "id": "b740220d",
   "metadata": {},
   "outputs": [
    {
     "data": {
      "text/plain": [
       "array([[0, 0, 1, 0, 0, 5],\n",
       "       [1, 4, 0, 3, 2, 5],\n",
       "       [0, 6, 0, 3, 0, 0],\n",
       "       [2, 0, 0, 0, 0, 0],\n",
       "       [0, 0, 0, 7, 0, 8],\n",
       "       [1, 0, 0, 0, 0, 0]])"
      ]
     },
     "execution_count": 19,
     "metadata": {},
     "output_type": "execute_result"
    }
   ],
   "source": [
    "csr.toarray()"
   ]
  },
  {
   "cell_type": "markdown",
   "id": "a069b8b8",
   "metadata": {},
   "source": [
    "sklearn의 CountVectorizer나 TfidfVectorizer 클래스로 변환된 feature는 모두 CSR 형태의 희소 행렬이다."
   ]
  }
 ],
 "metadata": {
  "kernelspec": {
   "display_name": "Python 3",
   "language": "python",
   "name": "python3"
  },
  "language_info": {
   "codemirror_mode": {
    "name": "ipython",
    "version": 3
   },
   "file_extension": ".py",
   "mimetype": "text/x-python",
   "name": "python",
   "nbconvert_exporter": "python",
   "pygments_lexer": "ipython3",
   "version": "3.8.8"
  }
 },
 "nbformat": 4,
 "nbformat_minor": 5
}
