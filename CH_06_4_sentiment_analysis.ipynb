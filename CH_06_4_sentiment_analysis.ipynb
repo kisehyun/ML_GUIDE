{
 "cells": [
  {
   "cell_type": "markdown",
   "id": "d8993a8b",
   "metadata": {},
   "source": [
    "# 텍스트 분석\n",
    "\n",
    "***\n",
    "\n",
    "**감성분석(Sentiment Analysis)**은 문서의 주관적인 감성/의견/감정/기분 등을 파악하는 방법으로 SNS, 여론조사, 온라인 리뷰, 피드백 등 다양한 분야에서 활용된다. 주관적인 생각으로는 text classification과 동일한 개념이라고 생각한다. 하지만 감성분석은 크게 **지도학습** 방법과 **비지도 학습** 방법이 있다.\n",
    "\n",
    "### 지도학습 기반 감성분석\n"
   ]
  },
  {
   "cell_type": "code",
   "execution_count": 57,
   "id": "8fc81ab2",
   "metadata": {},
   "outputs": [],
   "source": [
    "import pandas as pd"
   ]
  },
  {
   "cell_type": "code",
   "execution_count": 58,
   "id": "770f5998",
   "metadata": {},
   "outputs": [],
   "source": [
    "train = pd.read_csv(\"labeledTrainData.tsv\", header = 0, sep = '\\t', quoting = 3)"
   ]
  },
  {
   "cell_type": "code",
   "execution_count": 59,
   "id": "f673600b",
   "metadata": {
    "scrolled": true
   },
   "outputs": [
    {
     "data": {
      "text/html": [
       "<div>\n",
       "<style scoped>\n",
       "    .dataframe tbody tr th:only-of-type {\n",
       "        vertical-align: middle;\n",
       "    }\n",
       "\n",
       "    .dataframe tbody tr th {\n",
       "        vertical-align: top;\n",
       "    }\n",
       "\n",
       "    .dataframe thead th {\n",
       "        text-align: right;\n",
       "    }\n",
       "</style>\n",
       "<table border=\"1\" class=\"dataframe\">\n",
       "  <thead>\n",
       "    <tr style=\"text-align: right;\">\n",
       "      <th></th>\n",
       "      <th>id</th>\n",
       "      <th>sentiment</th>\n",
       "      <th>review</th>\n",
       "    </tr>\n",
       "  </thead>\n",
       "  <tbody>\n",
       "    <tr>\n",
       "      <th>0</th>\n",
       "      <td>\"5814_8\"</td>\n",
       "      <td>1</td>\n",
       "      <td>\"With all this stuff going down at the moment ...</td>\n",
       "    </tr>\n",
       "    <tr>\n",
       "      <th>1</th>\n",
       "      <td>\"2381_9\"</td>\n",
       "      <td>1</td>\n",
       "      <td>\"\\\"The Classic War of the Worlds\\\" by Timothy ...</td>\n",
       "    </tr>\n",
       "    <tr>\n",
       "      <th>2</th>\n",
       "      <td>\"7759_3\"</td>\n",
       "      <td>0</td>\n",
       "      <td>\"The film starts with a manager (Nicholas Bell...</td>\n",
       "    </tr>\n",
       "    <tr>\n",
       "      <th>3</th>\n",
       "      <td>\"3630_4\"</td>\n",
       "      <td>0</td>\n",
       "      <td>\"It must be assumed that those who praised thi...</td>\n",
       "    </tr>\n",
       "    <tr>\n",
       "      <th>4</th>\n",
       "      <td>\"9495_8\"</td>\n",
       "      <td>1</td>\n",
       "      <td>\"Superbly trashy and wondrously unpretentious ...</td>\n",
       "    </tr>\n",
       "  </tbody>\n",
       "</table>\n",
       "</div>"
      ],
      "text/plain": [
       "         id  sentiment                                             review\n",
       "0  \"5814_8\"          1  \"With all this stuff going down at the moment ...\n",
       "1  \"2381_9\"          1  \"\\\"The Classic War of the Worlds\\\" by Timothy ...\n",
       "2  \"7759_3\"          0  \"The film starts with a manager (Nicholas Bell...\n",
       "3  \"3630_4\"          0  \"It must be assumed that those who praised thi...\n",
       "4  \"9495_8\"          1  \"Superbly trashy and wondrously unpretentious ..."
      ]
     },
     "execution_count": 59,
     "metadata": {},
     "output_type": "execute_result"
    }
   ],
   "source": [
    "train.head()"
   ]
  },
  {
   "cell_type": "code",
   "execution_count": 60,
   "id": "aec3d86d",
   "metadata": {},
   "outputs": [
    {
     "data": {
      "text/plain": [
       "0    12500\n",
       "1    12500\n",
       "Name: sentiment, dtype: int64"
      ]
     },
     "execution_count": 60,
     "metadata": {},
     "output_type": "execute_result"
    }
   ],
   "source": [
    "train['sentiment'].value_counts()"
   ]
  },
  {
   "cell_type": "code",
   "execution_count": 61,
   "id": "01c034cc",
   "metadata": {},
   "outputs": [],
   "source": [
    "test = pd.read_csv('TestData.tsv', header = 0, sep = '\\t', quoting = 3)"
   ]
  },
  {
   "cell_type": "code",
   "execution_count": 62,
   "id": "e230a040",
   "metadata": {
    "scrolled": true
   },
   "outputs": [
    {
     "data": {
      "text/html": [
       "<div>\n",
       "<style scoped>\n",
       "    .dataframe tbody tr th:only-of-type {\n",
       "        vertical-align: middle;\n",
       "    }\n",
       "\n",
       "    .dataframe tbody tr th {\n",
       "        vertical-align: top;\n",
       "    }\n",
       "\n",
       "    .dataframe thead th {\n",
       "        text-align: right;\n",
       "    }\n",
       "</style>\n",
       "<table border=\"1\" class=\"dataframe\">\n",
       "  <thead>\n",
       "    <tr style=\"text-align: right;\">\n",
       "      <th></th>\n",
       "      <th>id</th>\n",
       "      <th>review</th>\n",
       "    </tr>\n",
       "  </thead>\n",
       "  <tbody>\n",
       "    <tr>\n",
       "      <th>0</th>\n",
       "      <td>\"12311_10\"</td>\n",
       "      <td>\"Naturally in a film who's main themes are of ...</td>\n",
       "    </tr>\n",
       "    <tr>\n",
       "      <th>1</th>\n",
       "      <td>\"8348_2\"</td>\n",
       "      <td>\"This movie is a disaster within a disaster fi...</td>\n",
       "    </tr>\n",
       "    <tr>\n",
       "      <th>2</th>\n",
       "      <td>\"5828_4\"</td>\n",
       "      <td>\"All in all, this is a movie for kids. We saw ...</td>\n",
       "    </tr>\n",
       "    <tr>\n",
       "      <th>3</th>\n",
       "      <td>\"7186_2\"</td>\n",
       "      <td>\"Afraid of the Dark left me with the impressio...</td>\n",
       "    </tr>\n",
       "    <tr>\n",
       "      <th>4</th>\n",
       "      <td>\"12128_7\"</td>\n",
       "      <td>\"A very accurate depiction of small time mob l...</td>\n",
       "    </tr>\n",
       "  </tbody>\n",
       "</table>\n",
       "</div>"
      ],
      "text/plain": [
       "           id                                             review\n",
       "0  \"12311_10\"  \"Naturally in a film who's main themes are of ...\n",
       "1    \"8348_2\"  \"This movie is a disaster within a disaster fi...\n",
       "2    \"5828_4\"  \"All in all, this is a movie for kids. We saw ...\n",
       "3    \"7186_2\"  \"Afraid of the Dark left me with the impressio...\n",
       "4   \"12128_7\"  \"A very accurate depiction of small time mob l..."
      ]
     },
     "execution_count": 62,
     "metadata": {},
     "output_type": "execute_result"
    }
   ],
   "source": [
    "test.head()"
   ]
  },
  {
   "cell_type": "code",
   "execution_count": 63,
   "id": "e7faefad",
   "metadata": {},
   "outputs": [],
   "source": [
    "import re"
   ]
  },
  {
   "cell_type": "code",
   "execution_count": 64,
   "id": "82d18490",
   "metadata": {},
   "outputs": [],
   "source": [
    "train['review'] = train['review'].str.replace('<br />', ' ')\n",
    "test['review'] = test['review'].str.replace('<br />', ' ')"
   ]
  },
  {
   "cell_type": "code",
   "execution_count": 65,
   "id": "0c26f4be",
   "metadata": {},
   "outputs": [],
   "source": [
    "train['review'] = train['review'].apply(lambda x : re.sub(r'[^a-zA-Z]', ' ', x))\n",
    "test['review'] = test['review'].apply(lambda x : re.sub(r'[^a-zA-Z]', ' ', x))"
   ]
  },
  {
   "cell_type": "code",
   "execution_count": 66,
   "id": "662b86f6",
   "metadata": {},
   "outputs": [],
   "source": [
    "import numpy as np\n",
    "from sklearn.model_selection import StratifiedKFold\n",
    "from sklearn.feature_extraction.text import CountVectorizer, TfidfVectorizer\n",
    "from sklearn.ensemble import GradientBoostingClassifier\n",
    "from lightgbm import LGBMClassifier\n",
    "from xgboost import XGBClassifier\n",
    "from sklearn.metrics import accuracy_score, roc_auc_score"
   ]
  },
  {
   "cell_type": "code",
   "execution_count": 67,
   "id": "e42ab9a4",
   "metadata": {},
   "outputs": [],
   "source": [
    "y = train['sentiment']"
   ]
  },
  {
   "cell_type": "code",
   "execution_count": 68,
   "id": "719c6904",
   "metadata": {},
   "outputs": [],
   "source": [
    "skf = StratifiedKFold(n_splits = 10, random_state = 42, shuffle = True)"
   ]
  },
  {
   "cell_type": "code",
   "execution_count": 69,
   "id": "03acf625",
   "metadata": {},
   "outputs": [],
   "source": [
    "gbc = GradientBoostingClassifier(random_state = 42)\n",
    "lgbm = LGBMClassifier(random_state = 42)\n",
    "xgb = XGBClassifier(random_state = 42)"
   ]
  },
  {
   "cell_type": "code",
   "execution_count": 70,
   "id": "f83c0914",
   "metadata": {},
   "outputs": [],
   "source": [
    "def get_model_proba(model, train, test) :\n",
    "    print(f'{model.__class__.__name__} Train & Predict Start!\\n')\n",
    "    model_pred = np.zeros((len(cnt_test)))\n",
    "    for i, idx in enumerate(zip(skf.split(train, y))) :\n",
    "        tr_x, tr_y = train[idx[0][0]], y.iloc[idx[0][0]]\n",
    "        val_x, val_y = train[idx[0][1]], y.iloc[idx[0][1]]\n",
    "    \n",
    "        model.fit(tr_x, tr_y)\n",
    "        \n",
    "        val_pred = model.predict_proba(val_x)[:, 1]\n",
    "        val_cls = [1 if p > 0.5 else 0 for p in val_pred]\n",
    "        \n",
    "        acc = accuracy_score(val_y, val_cls)\n",
    "        roc_auc = roc_auc_score(val_y, val_pred)\n",
    "        \n",
    "        print(f'{i + 1} Fold 정확도 = {acc} / roc_auc = {roc_auc}\\n')\n",
    "        \n",
    "        model_pred += (model.predict_proba(test)[:, 1] / 10)\n",
    "        \n",
    "    return model_pred"
   ]
  },
  {
   "cell_type": "markdown",
   "id": "a24fc522",
   "metadata": {},
   "source": [
    "#### CountVectorizer 적용"
   ]
  },
  {
   "cell_type": "code",
   "execution_count": 71,
   "id": "60bf7ab7",
   "metadata": {},
   "outputs": [],
   "source": [
    "cnt_vect = CountVectorizer(max_features = 3000, ngram_range = (1, 2), stop_words = 'english')"
   ]
  },
  {
   "cell_type": "code",
   "execution_count": null,
   "id": "d211963a",
   "metadata": {},
   "outputs": [],
   "source": [
    "cnt_train = cnt_vect.fit_transform(train['review']).todense()"
   ]
  },
  {
   "cell_type": "code",
   "execution_count": null,
   "id": "8018fb55",
   "metadata": {},
   "outputs": [],
   "source": [
    "cnt_test = cnt_vect.transform(test['review']).todense()"
   ]
  },
  {
   "cell_type": "code",
   "execution_count": null,
   "id": "bc6a6272",
   "metadata": {},
   "outputs": [],
   "source": [
    "xgb_pred = get_model_proba(xgb, cnt_train, cnt_test)\n",
    "lgbm_pred = get_model_proba(lgbm, cnt_train, cnt_test)"
   ]
  },
  {
   "cell_type": "code",
   "execution_count": null,
   "id": "fab71b2b",
   "metadata": {},
   "outputs": [],
   "source": [
    "cnt_pred = xgb_pred * .5 + lgbm_pred * .5"
   ]
  },
  {
   "cell_type": "code",
   "execution_count": null,
   "id": "047319b8",
   "metadata": {},
   "outputs": [],
   "source": [
    "submission = pd.read_csv(\"sampleSubmission.csv\")"
   ]
  },
  {
   "cell_type": "code",
   "execution_count": null,
   "id": "4fd64f97",
   "metadata": {},
   "outputs": [],
   "source": [
    "submission['sentiment'] = cnt_pred"
   ]
  },
  {
   "cell_type": "code",
   "execution_count": null,
   "id": "58406f7e",
   "metadata": {},
   "outputs": [],
   "source": [
    "submission.to_csv('countvect.csv', index = False)"
   ]
  },
  {
   "cell_type": "markdown",
   "id": "99310b49",
   "metadata": {},
   "source": [
    "Competition Late Leaderboard 상에서 0.93810으로 201위 랭크\n",
    "***\n",
    "#### Tfidf 적용"
   ]
  },
  {
   "cell_type": "code",
   "execution_count": null,
   "id": "058eaae8",
   "metadata": {},
   "outputs": [],
   "source": [
    "tfidf = TfidfVectorizer(max_features = 5000, stop_words = 'english')"
   ]
  },
  {
   "cell_type": "code",
   "execution_count": null,
   "id": "1158999e",
   "metadata": {},
   "outputs": [],
   "source": [
    "tfidf_train = tfidf.fit_transform(train['review']).todense()"
   ]
  },
  {
   "cell_type": "code",
   "execution_count": null,
   "id": "aed15361",
   "metadata": {},
   "outputs": [],
   "source": [
    "tfidf_test = tfidf.transform(test['review']).todense()"
   ]
  },
  {
   "cell_type": "code",
   "execution_count": null,
   "id": "782c2688",
   "metadata": {
    "scrolled": true
   },
   "outputs": [],
   "source": [
    "xgb_pred = get_model_proba(xgb, tfidf_train, tfidf_test)\n",
    "lgbm_pred = get_model_proba(lgbm, tfidf_train, tfidf_test)"
   ]
  },
  {
   "cell_type": "code",
   "execution_count": null,
   "id": "f85f8e5f",
   "metadata": {},
   "outputs": [],
   "source": [
    "tfidf_pred = xgb_pred * .5 + lgbm_pred * .5"
   ]
  },
  {
   "cell_type": "code",
   "execution_count": null,
   "id": "9aeb803b",
   "metadata": {},
   "outputs": [],
   "source": [
    "submission['sentiment'] = tfidf_pred"
   ]
  },
  {
   "cell_type": "code",
   "execution_count": null,
   "id": "86de8aea",
   "metadata": {},
   "outputs": [],
   "source": [
    "submission.to_csv('tfidf.csv', index = False)"
   ]
  },
  {
   "cell_type": "markdown",
   "id": "ad2eedd1",
   "metadata": {},
   "source": [
    "### 비지도 학습 기반 감성 분석\n",
    "\n",
    "- 비지도 학습 기반은 Lexicon을 기반으로 한다. 한글 지원하는 Lexicon은 없다고 한다.\n",
    "- 감성 사전을 구현해서 감성 지수(Polarity Score)라는 것을 만든다.\n",
    "\n",
    "#### WordNet은 영어 어휘 사전으로 시맨틱 분석을 제공한다. 각각의 품사로 구성된 개별 단어를 Sysnet이라는 개념을 이용해 표현한다.\n",
    "#### NLTK를 포함한 대표적인 감성 사전은 다음과 같다.\n",
    "- SentiWordNet : 감성 단어 전용의 WordNet으로 Sysnet별로 3가지 감성 점수인 긍정 감성 지수, 부정 감성 지수, 객관성 지수를 할당한다. 문장별로 단어들의 긍정, 부정 감성 지수를 합산하여 최종 감성 지수를 계산하고 긍/부정을 결정한다.\n",
    "- VADER : SNS에 대한 감성 분석을 제공하기 위한 패키지이다. 성능이 좋고 수행 시간이 빨라 대용량 텍스트 데이터에 잘 사용된다.\n",
    "- Pattern : 예측 성능에서 가장 주목받는 패키지로 python 2.x 버전에서만 사용이 가능하다고 한다.\n",
    "***\n",
    "#### WordNet 실습"
   ]
  },
  {
   "cell_type": "code",
   "execution_count": null,
   "id": "a02e68ac",
   "metadata": {},
   "outputs": [],
   "source": [
    "import nltk\n",
    "#nltk.download('all')"
   ]
  },
  {
   "cell_type": "code",
   "execution_count": null,
   "id": "b2054ba0",
   "metadata": {},
   "outputs": [],
   "source": [
    "from nltk.corpus import wordnet"
   ]
  },
  {
   "cell_type": "code",
   "execution_count": null,
   "id": "55395bbd",
   "metadata": {},
   "outputs": [],
   "source": [
    "text = 'present'"
   ]
  },
  {
   "cell_type": "markdown",
   "id": "8af2ff25",
   "metadata": {},
   "source": [
    "present라는 단어의 sysnet을 반환한다."
   ]
  },
  {
   "cell_type": "code",
   "execution_count": null,
   "id": "ddafcc5c",
   "metadata": {},
   "outputs": [],
   "source": [
    "sysnet = wordnet.synsets(text)"
   ]
  },
  {
   "cell_type": "code",
   "execution_count": null,
   "id": "348c9345",
   "metadata": {},
   "outputs": [],
   "source": [
    "sysnet"
   ]
  },
  {
   "cell_type": "markdown",
   "id": "e4685a27",
   "metadata": {},
   "source": [
    "의미, 품사, 의미 인덱스 순서를 가진다. for문으로 각 단어의 시맨틱적인 요소를 살펴보자."
   ]
  },
  {
   "cell_type": "code",
   "execution_count": null,
   "id": "f59c711c",
   "metadata": {},
   "outputs": [],
   "source": [
    "for s in sysnet :\n",
    "    print(f'Sysnet name : {s.name()}')\n",
    "    print(f'품사 : {s.lexname()}')\n",
    "    print(f'정의 : {s.definition()}')\n",
    "    print(f'부명제 : {s.lemma_names()}\\n')"
   ]
  },
  {
   "cell_type": "markdown",
   "id": "d6f54564",
   "metadata": {},
   "source": [
    "WordNet은 어휘 간의 관계를 유사도로 나타낼 수 있다."
   ]
  },
  {
   "cell_type": "code",
   "execution_count": null,
   "id": "56dcd867",
   "metadata": {},
   "outputs": [],
   "source": [
    "tree = wordnet.synset('tree.n.01')\n",
    "cat = wordnet.synset('cat.n.01')\n",
    "dog = wordnet.synset('dog.n.01')\n",
    "flower = wordnet.synset('flower.n.01')\n",
    "tiger = wordnet.synset('tiger.n.01')"
   ]
  },
  {
   "cell_type": "code",
   "execution_count": null,
   "id": "dbe4da2d",
   "metadata": {},
   "outputs": [],
   "source": [
    "entities = [tree, cat, dog, flower, tiger]"
   ]
  },
  {
   "cell_type": "code",
   "execution_count": null,
   "id": "4adea796",
   "metadata": {},
   "outputs": [],
   "source": [
    "e_names = [e.name().split('.')[0] for e in entities]"
   ]
  },
  {
   "cell_type": "code",
   "execution_count": null,
   "id": "22f83f4a",
   "metadata": {},
   "outputs": [],
   "source": [
    "sims = []"
   ]
  },
  {
   "cell_type": "code",
   "execution_count": null,
   "id": "5c6daa9e",
   "metadata": {},
   "outputs": [],
   "source": [
    "for e in entities :\n",
    "    sim = [e.path_similarity(compare) for compare in entities]\n",
    "    sims.append(sim)"
   ]
  },
  {
   "cell_type": "code",
   "execution_count": null,
   "id": "90be5183",
   "metadata": {},
   "outputs": [],
   "source": [
    "sim_df = pd.DataFrame(sims, columns = e_names, index = e_names)"
   ]
  },
  {
   "cell_type": "code",
   "execution_count": null,
   "id": "1a5099c0",
   "metadata": {},
   "outputs": [],
   "source": [
    "sim_df"
   ]
  },
  {
   "cell_type": "markdown",
   "id": "a00d39ee",
   "metadata": {},
   "source": [
    "#### SentiWordNet은 WordNet의 Sysnet과 유사한 Senti_Sysnet 클래스를 가지고 있다. "
   ]
  },
  {
   "cell_type": "code",
   "execution_count": null,
   "id": "473861d4",
   "metadata": {},
   "outputs": [],
   "source": [
    "from nltk.corpus import sentiwordnet as swn"
   ]
  },
  {
   "cell_type": "code",
   "execution_count": null,
   "id": "1af17b35",
   "metadata": {},
   "outputs": [],
   "source": [
    "ss = list(swn.senti_synsets('present'))"
   ]
  },
  {
   "cell_type": "code",
   "execution_count": null,
   "id": "58798956",
   "metadata": {},
   "outputs": [],
   "source": [
    "ss"
   ]
  },
  {
   "cell_type": "markdown",
   "id": "32fab43e",
   "metadata": {},
   "source": [
    "SentiSysnet은 감성 지수와 객관성 지수를 가지고 있다. "
   ]
  },
  {
   "cell_type": "code",
   "execution_count": null,
   "id": "ba9fae28",
   "metadata": {},
   "outputs": [],
   "source": [
    "father = swn.senti_synset('father.n.01')"
   ]
  },
  {
   "cell_type": "code",
   "execution_count": null,
   "id": "ceb28c4d",
   "metadata": {},
   "outputs": [],
   "source": [
    "print(f'father의 긍정 감성 지수 = {father.pos_score()}')\n",
    "print(f'father의 부정 감성 지수 = {father.neg_score()}')\n",
    "print(f'father의 객관성 지수 = {father.obj_score()}')"
   ]
  },
  {
   "cell_type": "markdown",
   "id": "757873b0",
   "metadata": {},
   "source": [
    "아버지를 뜻하는 father의 긍, 부정 지수는 0이고 객관성 지수는 1이다."
   ]
  },
  {
   "cell_type": "code",
   "execution_count": null,
   "id": "449e6a1e",
   "metadata": {},
   "outputs": [],
   "source": [
    "nice = swn.senti_synset('nice.a.01')"
   ]
  },
  {
   "cell_type": "code",
   "execution_count": null,
   "id": "353506b4",
   "metadata": {},
   "outputs": [],
   "source": [
    "print(f'nice의 긍정 감성 지수 = {nice.pos_score()}')\n",
    "print(f'nice의 부정 감성 지수 = {nice.neg_score()}')\n",
    "print(f'nice의 객관성 지수 = {nice.obj_score()}')"
   ]
  },
  {
   "cell_type": "markdown",
   "id": "822d19b5",
   "metadata": {},
   "source": [
    "nice는 긍정 감성 지수가 0.875이다.\n",
    "***\n",
    "WordNet과 SentiWordNet으로 영화 리뷰 감성 분석을 진행해보자."
   ]
  },
  {
   "cell_type": "code",
   "execution_count": null,
   "id": "31f6ce0a",
   "metadata": {},
   "outputs": [],
   "source": [
    "def transform_tag(x) :\n",
    "    if x.startswith('J') :\n",
    "        return wordnet.ADJ\n",
    "    elif x.startswith('N') :\n",
    "        return wordnet.NOUN\n",
    "    elif x.startswith('R') :\n",
    "        return wordnet.ADV\n",
    "    elif x.startswith('V') :\n",
    "        return wordnet.VERB"
   ]
  },
  {
   "cell_type": "code",
   "execution_count": null,
   "id": "4ab99a78",
   "metadata": {},
   "outputs": [],
   "source": [
    "from nltk.stem import WordNetLemmatizer\n",
    "from nltk.corpus import sentiwordnet as swn\n",
    "from nltk import sent_tokenize, word_tokenize, pos_tag"
   ]
  },
  {
   "cell_type": "code",
   "execution_count": 82,
   "id": "3ab16fd2",
   "metadata": {},
   "outputs": [],
   "source": [
    "def get_sentiment(text) :\n",
    "    \n",
    "    sentiment = 0\n",
    "    token_cnt = 0\n",
    "    \n",
    "    lemmatizer = WordNetLemmatizer()\n",
    "    sentences = sent_tokenize(text)\n",
    "    \n",
    "    for sentence in sentences :\n",
    "        \n",
    "        tagged_sentence = pos_tag(word_tokenize(sentence))\n",
    "        \n",
    "        for word, tag in tagged_sentence :\n",
    "            \n",
    "            wn_tag = transform_tag(tag)\n",
    "            if wn_tag not in (wordnet.NOUN, wordnet.ADJ, wordnet.ADV) :\n",
    "                continue\n",
    "            lemma = lemmatizer.lemmatize(word, pos = wn_tag)\n",
    "            if not lemma :\n",
    "                continue\n",
    "                \n",
    "            synsets = wordnet.synsets(lemma, pos = wn_tag)\n",
    "            if not synsets :\n",
    "                continue\n",
    "            \n",
    "            synset = synsets[0]\n",
    "            swn_synset = swn.senti_synset(synset.name())\n",
    "\n",
    "            sentiment += (swn_synset.pos_score() - swn_synset.neg_score())\n",
    "            token_cnt += 1\n",
    "    if not token_cnt :\n",
    "        return 0\n",
    "    \n",
    "    if sentiment >= 0 :\n",
    "        return 1\n",
    "    \n",
    "    return 0"
   ]
  },
  {
   "cell_type": "code",
   "execution_count": 83,
   "id": "64d36b7c",
   "metadata": {},
   "outputs": [],
   "source": [
    "train['preds'] = train['review'].apply(get_sentiment)"
   ]
  },
  {
   "cell_type": "code",
   "execution_count": 91,
   "id": "57ef6d40",
   "metadata": {},
   "outputs": [],
   "source": [
    "acc = np.sum(train.sentiment == train.preds) / train.shape[0]"
   ]
  },
  {
   "cell_type": "code",
   "execution_count": 92,
   "id": "5f6499bb",
   "metadata": {
    "scrolled": true
   },
   "outputs": [
    {
     "data": {
      "text/plain": [
       "0.66128"
      ]
     },
     "execution_count": 92,
     "metadata": {},
     "output_type": "execute_result"
    }
   ],
   "source": [
    "acc"
   ]
  },
  {
   "cell_type": "markdown",
   "id": "1c1f6a52",
   "metadata": {},
   "source": [
    "비지도 학습으로 예측한 모델의 정확도는 66%로 만족할만한 성능은 아니지만 레이블 없이 해냈다는 점에서 의의가 있다.\n",
    "***\n",
    "#### VADER를 이용한 감성 분석"
   ]
  },
  {
   "cell_type": "code",
   "execution_count": 94,
   "id": "fa7d63b6",
   "metadata": {},
   "outputs": [],
   "source": [
    "from vaderSentiment.vaderSentiment import SentimentIntensityAnalyzer"
   ]
  },
  {
   "cell_type": "code",
   "execution_count": 95,
   "id": "2b948999",
   "metadata": {},
   "outputs": [],
   "source": [
    "analyzer = SentimentIntensityAnalyzer()"
   ]
  },
  {
   "cell_type": "code",
   "execution_count": 96,
   "id": "34f77d4b",
   "metadata": {},
   "outputs": [],
   "source": [
    "sent_score = analyzer.polarity_scores(train['review'][0])"
   ]
  },
  {
   "cell_type": "code",
   "execution_count": 97,
   "id": "a90227c2",
   "metadata": {},
   "outputs": [
    {
     "data": {
      "text/plain": [
       "{'neg': 0.126, 'neu': 0.754, 'pos': 0.12, 'compound': -0.8696}"
      ]
     },
     "execution_count": 97,
     "metadata": {},
     "output_type": "execute_result"
    }
   ],
   "source": [
    "sent_score"
   ]
  },
  {
   "cell_type": "code",
   "execution_count": 100,
   "id": "6ffba1d7",
   "metadata": {},
   "outputs": [],
   "source": [
    "def vader_porlarity(text, threshold = 0.1) :\n",
    "    analyzer = SentimentIntensityAnalyzer()\n",
    "    score = analyzer.polarity_scores(text)\n",
    "    \n",
    "    agg_score = score['compound']\n",
    "    sentiment = 1 if agg_score >= threshold else 0\n",
    "    \n",
    "    return sentiment"
   ]
  },
  {
   "cell_type": "code",
   "execution_count": 101,
   "id": "af23c6fc",
   "metadata": {},
   "outputs": [],
   "source": [
    "train['vader_pred'] = train['review'].apply(vader_porlarity)"
   ]
  },
  {
   "cell_type": "code",
   "execution_count": 103,
   "id": "f321a81a",
   "metadata": {},
   "outputs": [],
   "source": [
    "acc = np.sum(train.sentiment == train.vader_pred) / train.shape[0]"
   ]
  },
  {
   "cell_type": "code",
   "execution_count": 104,
   "id": "3507ecc9",
   "metadata": {},
   "outputs": [
    {
     "data": {
      "text/plain": [
       "0.69564"
      ]
     },
     "execution_count": 104,
     "metadata": {},
     "output_type": "execute_result"
    }
   ],
   "source": [
    "acc"
   ]
  },
  {
   "cell_type": "markdown",
   "id": "4aa4211f",
   "metadata": {},
   "source": [
    "SentiWordNet 보다는 성능이 더 좋은 것을 알 수 있다."
   ]
  }
 ],
 "metadata": {
  "kernelspec": {
   "display_name": "Python 3",
   "language": "python",
   "name": "python3"
  },
  "language_info": {
   "codemirror_mode": {
    "name": "ipython",
    "version": 3
   },
   "file_extension": ".py",
   "mimetype": "text/x-python",
   "name": "python",
   "nbconvert_exporter": "python",
   "pygments_lexer": "ipython3",
   "version": "3.8.8"
  }
 },
 "nbformat": 4,
 "nbformat_minor": 5
}
