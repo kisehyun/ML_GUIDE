{
 "cells": [
  {
   "cell_type": "markdown",
   "metadata": {},
   "source": [
    "# Ensemble Learning 3\n",
    "***\n",
    "지난 챕터에서는 앙상블 알고리즘중에서 부스팅 계열의 XGBoost에 대해서 알아보았습니다. 이번 챕터에서는 XGBoost와 함께 부스팅 알고리즘에서 각광을 받는 LightGBM에 대해 공부해보겠습니다. XGBoost는 GradientBoostingClassifier 보다는 수행 속도가 빠른 편이지만 다른 알고리즘과 비교했을 때는 여전히 느리다는 단점이 있습니다. 이러한 문제점을 보완하기 위한 알고리즘이 바로 LightGBM인데 말그대로 'Light'한 알고리즘입니다. XGBoost 보다 수행속도도 훨씬 빠르고 투입되는 컴퓨팅 자원(메모리 등)도 매우 적기 때문에 최근 정형 데이터 마이닝에서 널리 사용되고 있습니다.\n",
    "\n",
    "LightGBM은 일반 부스팅 계열 알고리즘과 달리 '리프 중심 트리 분할' 방식을 사용합니다. 기존 방식은 '균형 트리 분할' 방식을 사용하는데 LightGBM은 손실 값이 높은(= 불순도가 높은) 리프 노드를 지속적으로 분할하면서 규칙 트리를 생성합니다. 이를 통해서 기존 방식 보다 예측 오류 손실을 최소화 할 수 있습니다.\n",
    "***"
   ]
  },
  {
   "cell_type": "code",
   "execution_count": 16,
   "metadata": {},
   "outputs": [],
   "source": [
    "from lightgbm import LGBMClassifier\n",
    "from sklearn.model_selection import train_test_split\n",
    "from sklearn.datasets import load_breast_cancer\n",
    "from sklearn.metrics import accuracy_score\n",
    "import numpy as np\n",
    "from IPython.display import Image"
   ]
  },
  {
   "cell_type": "code",
   "execution_count": 2,
   "metadata": {},
   "outputs": [],
   "source": [
    "cancer = load_breast_cancer()"
   ]
  },
  {
   "cell_type": "code",
   "execution_count": 3,
   "metadata": {},
   "outputs": [],
   "source": [
    "X_train, X_test, y_train, y_test = train_test_split(cancer.data, cancer.target, test_size = .2, random_state = 1214)"
   ]
  },
  {
   "cell_type": "code",
   "execution_count": 4,
   "metadata": {},
   "outputs": [],
   "source": [
    "lgbm_clf = LGBMClassifier(random_state = 1214)"
   ]
  },
  {
   "cell_type": "code",
   "execution_count": 5,
   "metadata": {},
   "outputs": [
    {
     "data": {
      "text/plain": [
       "LGBMClassifier(random_state=1214)"
      ]
     },
     "execution_count": 5,
     "metadata": {},
     "output_type": "execute_result"
    }
   ],
   "source": [
    "lgbm_clf.fit(X_train, y_train)"
   ]
  },
  {
   "cell_type": "code",
   "execution_count": 7,
   "metadata": {},
   "outputs": [],
   "source": [
    "pred = lgbm_clf.predict(X_test)"
   ]
  },
  {
   "cell_type": "code",
   "execution_count": 11,
   "metadata": {},
   "outputs": [
    {
     "name": "stdout",
     "output_type": "stream",
     "text": [
      "0.956140350877193\n"
     ]
    }
   ],
   "source": [
    "print(accuracy_score(y_test, pred))"
   ]
  },
  {
   "cell_type": "markdown",
   "metadata": {},
   "source": [
    "LightGBM 또한 조기 중단 기능이 내재되어 있습니다. "
   ]
  },
  {
   "cell_type": "code",
   "execution_count": 12,
   "metadata": {},
   "outputs": [],
   "source": [
    "lgbm_clf = LGBMClassifier(random_state = 1214)"
   ]
  },
  {
   "cell_type": "code",
   "execution_count": 13,
   "metadata": {
    "scrolled": true
   },
   "outputs": [
    {
     "name": "stdout",
     "output_type": "stream",
     "text": [
      "[1]\tvalid_0's binary_logloss: 0.615519\n",
      "Training until validation scores don't improve for 100 rounds\n",
      "[2]\tvalid_0's binary_logloss: 0.558422\n",
      "[3]\tvalid_0's binary_logloss: 0.505412\n",
      "[4]\tvalid_0's binary_logloss: 0.454327\n",
      "[5]\tvalid_0's binary_logloss: 0.415915\n",
      "[6]\tvalid_0's binary_logloss: 0.386835\n",
      "[7]\tvalid_0's binary_logloss: 0.353972\n",
      "[8]\tvalid_0's binary_logloss: 0.326303\n",
      "[9]\tvalid_0's binary_logloss: 0.305423\n",
      "[10]\tvalid_0's binary_logloss: 0.283576\n",
      "[11]\tvalid_0's binary_logloss: 0.26862\n",
      "[12]\tvalid_0's binary_logloss: 0.250425\n",
      "[13]\tvalid_0's binary_logloss: 0.23721\n",
      "[14]\tvalid_0's binary_logloss: 0.22422\n",
      "[15]\tvalid_0's binary_logloss: 0.210331\n",
      "[16]\tvalid_0's binary_logloss: 0.202753\n",
      "[17]\tvalid_0's binary_logloss: 0.193994\n",
      "[18]\tvalid_0's binary_logloss: 0.186919\n",
      "[19]\tvalid_0's binary_logloss: 0.176512\n",
      "[20]\tvalid_0's binary_logloss: 0.169328\n",
      "[21]\tvalid_0's binary_logloss: 0.159756\n",
      "[22]\tvalid_0's binary_logloss: 0.154245\n",
      "[23]\tvalid_0's binary_logloss: 0.150615\n",
      "[24]\tvalid_0's binary_logloss: 0.148268\n",
      "[25]\tvalid_0's binary_logloss: 0.141871\n",
      "[26]\tvalid_0's binary_logloss: 0.140363\n",
      "[27]\tvalid_0's binary_logloss: 0.138954\n",
      "[28]\tvalid_0's binary_logloss: 0.135687\n",
      "[29]\tvalid_0's binary_logloss: 0.133272\n",
      "[30]\tvalid_0's binary_logloss: 0.13343\n",
      "[31]\tvalid_0's binary_logloss: 0.130066\n",
      "[32]\tvalid_0's binary_logloss: 0.129819\n",
      "[33]\tvalid_0's binary_logloss: 0.124353\n",
      "[34]\tvalid_0's binary_logloss: 0.122655\n",
      "[35]\tvalid_0's binary_logloss: 0.120178\n",
      "[36]\tvalid_0's binary_logloss: 0.119551\n",
      "[37]\tvalid_0's binary_logloss: 0.118456\n",
      "[38]\tvalid_0's binary_logloss: 0.118716\n",
      "[39]\tvalid_0's binary_logloss: 0.11857\n",
      "[40]\tvalid_0's binary_logloss: 0.118041\n",
      "[41]\tvalid_0's binary_logloss: 0.117991\n",
      "[42]\tvalid_0's binary_logloss: 0.118503\n",
      "[43]\tvalid_0's binary_logloss: 0.118657\n",
      "[44]\tvalid_0's binary_logloss: 0.119292\n",
      "[45]\tvalid_0's binary_logloss: 0.120272\n",
      "[46]\tvalid_0's binary_logloss: 0.121546\n",
      "[47]\tvalid_0's binary_logloss: 0.12058\n",
      "[48]\tvalid_0's binary_logloss: 0.122747\n",
      "[49]\tvalid_0's binary_logloss: 0.121792\n",
      "[50]\tvalid_0's binary_logloss: 0.123485\n",
      "[51]\tvalid_0's binary_logloss: 0.124639\n",
      "[52]\tvalid_0's binary_logloss: 0.126432\n",
      "[53]\tvalid_0's binary_logloss: 0.125427\n",
      "[54]\tvalid_0's binary_logloss: 0.124019\n",
      "[55]\tvalid_0's binary_logloss: 0.125236\n",
      "[56]\tvalid_0's binary_logloss: 0.126979\n",
      "[57]\tvalid_0's binary_logloss: 0.129052\n",
      "[58]\tvalid_0's binary_logloss: 0.12957\n",
      "[59]\tvalid_0's binary_logloss: 0.132584\n",
      "[60]\tvalid_0's binary_logloss: 0.135372\n",
      "[61]\tvalid_0's binary_logloss: 0.136743\n",
      "[62]\tvalid_0's binary_logloss: 0.140007\n",
      "[63]\tvalid_0's binary_logloss: 0.141243\n",
      "[64]\tvalid_0's binary_logloss: 0.141088\n",
      "[65]\tvalid_0's binary_logloss: 0.144712\n",
      "[66]\tvalid_0's binary_logloss: 0.146644\n",
      "[67]\tvalid_0's binary_logloss: 0.149857\n",
      "[68]\tvalid_0's binary_logloss: 0.150848\n",
      "[69]\tvalid_0's binary_logloss: 0.151918\n",
      "[70]\tvalid_0's binary_logloss: 0.153566\n",
      "[71]\tvalid_0's binary_logloss: 0.155549\n",
      "[72]\tvalid_0's binary_logloss: 0.15566\n",
      "[73]\tvalid_0's binary_logloss: 0.156843\n",
      "[74]\tvalid_0's binary_logloss: 0.157314\n",
      "[75]\tvalid_0's binary_logloss: 0.158618\n",
      "[76]\tvalid_0's binary_logloss: 0.159625\n",
      "[77]\tvalid_0's binary_logloss: 0.163243\n",
      "[78]\tvalid_0's binary_logloss: 0.162506\n",
      "[79]\tvalid_0's binary_logloss: 0.164285\n",
      "[80]\tvalid_0's binary_logloss: 0.165363\n",
      "[81]\tvalid_0's binary_logloss: 0.164543\n",
      "[82]\tvalid_0's binary_logloss: 0.16778\n",
      "[83]\tvalid_0's binary_logloss: 0.170131\n",
      "[84]\tvalid_0's binary_logloss: 0.172305\n",
      "[85]\tvalid_0's binary_logloss: 0.170507\n",
      "[86]\tvalid_0's binary_logloss: 0.171654\n",
      "[87]\tvalid_0's binary_logloss: 0.169732\n",
      "[88]\tvalid_0's binary_logloss: 0.169733\n",
      "[89]\tvalid_0's binary_logloss: 0.173649\n",
      "[90]\tvalid_0's binary_logloss: 0.172087\n",
      "[91]\tvalid_0's binary_logloss: 0.173283\n",
      "[92]\tvalid_0's binary_logloss: 0.173609\n",
      "[93]\tvalid_0's binary_logloss: 0.173526\n",
      "[94]\tvalid_0's binary_logloss: 0.173882\n",
      "[95]\tvalid_0's binary_logloss: 0.174142\n",
      "[96]\tvalid_0's binary_logloss: 0.171789\n",
      "[97]\tvalid_0's binary_logloss: 0.1712\n",
      "[98]\tvalid_0's binary_logloss: 0.175208\n",
      "[99]\tvalid_0's binary_logloss: 0.176385\n",
      "[100]\tvalid_0's binary_logloss: 0.176991\n",
      "Did not meet early stopping. Best iteration is:\n",
      "[41]\tvalid_0's binary_logloss: 0.117991\n"
     ]
    },
    {
     "data": {
      "text/plain": [
       "LGBMClassifier(random_state=1214)"
      ]
     },
     "execution_count": 13,
     "metadata": {},
     "output_type": "execute_result"
    }
   ],
   "source": [
    "lgbm_clf.fit(X_train, y_train, early_stopping_rounds = 100, eval_metric = 'logloss', eval_set = [(X_test, y_test)])"
   ]
  },
  {
   "cell_type": "markdown",
   "metadata": {},
   "source": [
    "***\n",
    "지금까지 결정트리, 앙상블 알고리즘에 대해 공부해보았는데요. 실제 ML 문제를 해결해보는 간단한 실습을 진행해보도록 하겠습니다.<br>\n",
    "진행 process는 아래와 같습니다.\n",
    "***\n",
    "\n",
    "### 1. Load Data\n",
    "### 2. Data Wrangling & EDA\n",
    "### 3. Modeling & Evaluation\n",
    "### 4. Submission<br>\n",
    "***\n",
    "절차대로 시작해보겠습니다. 먼저 데이터를 불러옵니다.\n",
    "\n",
    "## 1. Load Data"
   ]
  },
  {
   "cell_type": "code",
   "execution_count": 260,
   "metadata": {},
   "outputs": [],
   "source": [
    "import warnings\n",
    "warnings.filterwarnings('ignore')\n",
    "from sklearn.ensemble import GradientBoostingClassifier, RandomForestClassifier, VotingClassifier\n",
    "from sklearn.metrics import *\n",
    "from sklearn.model_selection import GridSearchCV\n",
    "from xgboost import XGBClassifier\n",
    "from lightgbm import LGBMClassifier\n",
    "import matplotlib.pyplot as plt\n",
    "import seaborn as sns\n",
    "%matplotlib inline"
   ]
  },
  {
   "cell_type": "code",
   "execution_count": 226,
   "metadata": {},
   "outputs": [],
   "source": [
    "df = pd.read_csv('C:/Users/ksh/kaggleDacon/Kaggle/chrun/Churn_Modelling.csv')"
   ]
  },
  {
   "cell_type": "code",
   "execution_count": 227,
   "metadata": {},
   "outputs": [],
   "source": [
    "df.drop(['RowNumber', 'CustomerId'], axis = 1, inplace = True) "
   ]
  },
  {
   "cell_type": "markdown",
   "metadata": {},
   "source": [
    "데이터를 훈련용 데이터와 예측 평가 데이터로 나눕니다."
   ]
  },
  {
   "cell_type": "code",
   "execution_count": 228,
   "metadata": {},
   "outputs": [],
   "source": [
    "val_idx = list(df.loc[df.Exited == 0].sample(1600).index) + list(df.loc[df.Exited == 1].sample(400).index)\n",
    "val_idx = set(val_idx)"
   ]
  },
  {
   "cell_type": "code",
   "execution_count": 229,
   "metadata": {},
   "outputs": [],
   "source": [
    "train = df.query('index not in @val_idx')\n",
    "test = df.query('index in @val_idx')\n",
    "\n",
    "train.index = range(train.shape[0])\n",
    "test.index = range(test.shape[0])"
   ]
  },
  {
   "cell_type": "code",
   "execution_count": 230,
   "metadata": {},
   "outputs": [],
   "source": [
    "submission = pd.DataFrame(test.Exited)\n",
    "test.drop('Exited', axis = 1, inplace = True)"
   ]
  },
  {
   "cell_type": "code",
   "execution_count": 231,
   "metadata": {
    "scrolled": true
   },
   "outputs": [
    {
     "name": "stdout",
     "output_type": "stream",
     "text": [
      "<class 'pandas.core.frame.DataFrame'>\n",
      "RangeIndex: 8000 entries, 0 to 7999\n",
      "Data columns (total 12 columns):\n",
      " #   Column           Non-Null Count  Dtype  \n",
      "---  ------           --------------  -----  \n",
      " 0   Surname          8000 non-null   object \n",
      " 1   CreditScore      8000 non-null   int64  \n",
      " 2   Geography        8000 non-null   object \n",
      " 3   Gender           8000 non-null   object \n",
      " 4   Age              8000 non-null   int64  \n",
      " 5   Tenure           8000 non-null   int64  \n",
      " 6   Balance          8000 non-null   float64\n",
      " 7   NumOfProducts    8000 non-null   int64  \n",
      " 8   HasCrCard        8000 non-null   int64  \n",
      " 9   IsActiveMember   8000 non-null   int64  \n",
      " 10  EstimatedSalary  8000 non-null   float64\n",
      " 11  Exited           8000 non-null   int64  \n",
      "dtypes: float64(2), int64(7), object(3)\n",
      "memory usage: 750.1+ KB\n"
     ]
    }
   ],
   "source": [
    "train.info()"
   ]
  },
  {
   "cell_type": "code",
   "execution_count": 232,
   "metadata": {},
   "outputs": [
    {
     "data": {
      "text/html": [
       "<div>\n",
       "<style scoped>\n",
       "    .dataframe tbody tr th:only-of-type {\n",
       "        vertical-align: middle;\n",
       "    }\n",
       "\n",
       "    .dataframe tbody tr th {\n",
       "        vertical-align: top;\n",
       "    }\n",
       "\n",
       "    .dataframe thead th {\n",
       "        text-align: right;\n",
       "    }\n",
       "</style>\n",
       "<table border=\"1\" class=\"dataframe\">\n",
       "  <thead>\n",
       "    <tr style=\"text-align: right;\">\n",
       "      <th></th>\n",
       "      <th>Surname</th>\n",
       "      <th>CreditScore</th>\n",
       "      <th>Geography</th>\n",
       "      <th>Gender</th>\n",
       "      <th>Age</th>\n",
       "      <th>Tenure</th>\n",
       "      <th>Balance</th>\n",
       "      <th>NumOfProducts</th>\n",
       "      <th>HasCrCard</th>\n",
       "      <th>IsActiveMember</th>\n",
       "      <th>EstimatedSalary</th>\n",
       "      <th>Exited</th>\n",
       "    </tr>\n",
       "  </thead>\n",
       "  <tbody>\n",
       "    <tr>\n",
       "      <th>0</th>\n",
       "      <td>Hargrave</td>\n",
       "      <td>619</td>\n",
       "      <td>France</td>\n",
       "      <td>Female</td>\n",
       "      <td>42</td>\n",
       "      <td>2</td>\n",
       "      <td>0.00</td>\n",
       "      <td>1</td>\n",
       "      <td>1</td>\n",
       "      <td>1</td>\n",
       "      <td>101348.88</td>\n",
       "      <td>1</td>\n",
       "    </tr>\n",
       "    <tr>\n",
       "      <th>1</th>\n",
       "      <td>Mitchell</td>\n",
       "      <td>850</td>\n",
       "      <td>Spain</td>\n",
       "      <td>Female</td>\n",
       "      <td>43</td>\n",
       "      <td>2</td>\n",
       "      <td>125510.82</td>\n",
       "      <td>1</td>\n",
       "      <td>1</td>\n",
       "      <td>1</td>\n",
       "      <td>79084.10</td>\n",
       "      <td>0</td>\n",
       "    </tr>\n",
       "    <tr>\n",
       "      <th>2</th>\n",
       "      <td>Bartlett</td>\n",
       "      <td>822</td>\n",
       "      <td>France</td>\n",
       "      <td>Male</td>\n",
       "      <td>50</td>\n",
       "      <td>7</td>\n",
       "      <td>0.00</td>\n",
       "      <td>2</td>\n",
       "      <td>1</td>\n",
       "      <td>1</td>\n",
       "      <td>10062.80</td>\n",
       "      <td>0</td>\n",
       "    </tr>\n",
       "    <tr>\n",
       "      <th>3</th>\n",
       "      <td>Obinna</td>\n",
       "      <td>376</td>\n",
       "      <td>Germany</td>\n",
       "      <td>Female</td>\n",
       "      <td>29</td>\n",
       "      <td>4</td>\n",
       "      <td>115046.74</td>\n",
       "      <td>4</td>\n",
       "      <td>1</td>\n",
       "      <td>0</td>\n",
       "      <td>119346.88</td>\n",
       "      <td>1</td>\n",
       "    </tr>\n",
       "    <tr>\n",
       "      <th>4</th>\n",
       "      <td>He</td>\n",
       "      <td>501</td>\n",
       "      <td>France</td>\n",
       "      <td>Male</td>\n",
       "      <td>44</td>\n",
       "      <td>4</td>\n",
       "      <td>142051.07</td>\n",
       "      <td>2</td>\n",
       "      <td>0</td>\n",
       "      <td>1</td>\n",
       "      <td>74940.50</td>\n",
       "      <td>0</td>\n",
       "    </tr>\n",
       "  </tbody>\n",
       "</table>\n",
       "</div>"
      ],
      "text/plain": [
       "    Surname  CreditScore Geography  Gender  Age  ...  NumOfProducts  HasCrCard  IsActiveMember  EstimatedSalary  Exited\n",
       "0  Hargrave          619    France  Female   42  ...              1          1               1        101348.88       1\n",
       "1  Mitchell          850     Spain  Female   43  ...              1          1               1         79084.10       0\n",
       "2  Bartlett          822    France    Male   50  ...              2          1               1         10062.80       0\n",
       "3    Obinna          376   Germany  Female   29  ...              4          1               0        119346.88       1\n",
       "4        He          501    France    Male   44  ...              2          0               1         74940.50       0\n",
       "\n",
       "[5 rows x 12 columns]"
      ]
     },
     "execution_count": 232,
     "metadata": {},
     "output_type": "execute_result"
    }
   ],
   "source": [
    "train.head()"
   ]
  },
  {
   "cell_type": "code",
   "execution_count": 233,
   "metadata": {},
   "outputs": [
    {
     "data": {
      "text/html": [
       "<div>\n",
       "<style scoped>\n",
       "    .dataframe tbody tr th:only-of-type {\n",
       "        vertical-align: middle;\n",
       "    }\n",
       "\n",
       "    .dataframe tbody tr th {\n",
       "        vertical-align: top;\n",
       "    }\n",
       "\n",
       "    .dataframe thead th {\n",
       "        text-align: right;\n",
       "    }\n",
       "</style>\n",
       "<table border=\"1\" class=\"dataframe\">\n",
       "  <thead>\n",
       "    <tr style=\"text-align: right;\">\n",
       "      <th></th>\n",
       "      <th>Surname</th>\n",
       "      <th>CreditScore</th>\n",
       "      <th>Geography</th>\n",
       "      <th>Gender</th>\n",
       "      <th>Age</th>\n",
       "      <th>Tenure</th>\n",
       "      <th>Balance</th>\n",
       "      <th>NumOfProducts</th>\n",
       "      <th>HasCrCard</th>\n",
       "      <th>IsActiveMember</th>\n",
       "      <th>EstimatedSalary</th>\n",
       "    </tr>\n",
       "  </thead>\n",
       "  <tbody>\n",
       "    <tr>\n",
       "      <th>0</th>\n",
       "      <td>Hill</td>\n",
       "      <td>608</td>\n",
       "      <td>Spain</td>\n",
       "      <td>Female</td>\n",
       "      <td>41</td>\n",
       "      <td>1</td>\n",
       "      <td>83807.86</td>\n",
       "      <td>1</td>\n",
       "      <td>0</td>\n",
       "      <td>1</td>\n",
       "      <td>112542.58</td>\n",
       "    </tr>\n",
       "    <tr>\n",
       "      <th>1</th>\n",
       "      <td>Onio</td>\n",
       "      <td>502</td>\n",
       "      <td>France</td>\n",
       "      <td>Female</td>\n",
       "      <td>42</td>\n",
       "      <td>8</td>\n",
       "      <td>159660.80</td>\n",
       "      <td>3</td>\n",
       "      <td>1</td>\n",
       "      <td>0</td>\n",
       "      <td>113931.57</td>\n",
       "    </tr>\n",
       "    <tr>\n",
       "      <th>2</th>\n",
       "      <td>Boni</td>\n",
       "      <td>699</td>\n",
       "      <td>France</td>\n",
       "      <td>Female</td>\n",
       "      <td>39</td>\n",
       "      <td>1</td>\n",
       "      <td>0.00</td>\n",
       "      <td>2</td>\n",
       "      <td>0</td>\n",
       "      <td>0</td>\n",
       "      <td>93826.63</td>\n",
       "    </tr>\n",
       "    <tr>\n",
       "      <th>3</th>\n",
       "      <td>Chu</td>\n",
       "      <td>645</td>\n",
       "      <td>Spain</td>\n",
       "      <td>Male</td>\n",
       "      <td>44</td>\n",
       "      <td>8</td>\n",
       "      <td>113755.78</td>\n",
       "      <td>2</td>\n",
       "      <td>1</td>\n",
       "      <td>0</td>\n",
       "      <td>149756.71</td>\n",
       "    </tr>\n",
       "    <tr>\n",
       "      <th>4</th>\n",
       "      <td>Goforth</td>\n",
       "      <td>616</td>\n",
       "      <td>Germany</td>\n",
       "      <td>Male</td>\n",
       "      <td>45</td>\n",
       "      <td>3</td>\n",
       "      <td>143129.41</td>\n",
       "      <td>2</td>\n",
       "      <td>0</td>\n",
       "      <td>1</td>\n",
       "      <td>64327.26</td>\n",
       "    </tr>\n",
       "  </tbody>\n",
       "</table>\n",
       "</div>"
      ],
      "text/plain": [
       "   Surname  CreditScore Geography  Gender  Age  ...    Balance  NumOfProducts  HasCrCard  IsActiveMember  EstimatedSalary\n",
       "0     Hill          608     Spain  Female   41  ...   83807.86              1          0               1        112542.58\n",
       "1     Onio          502    France  Female   42  ...  159660.80              3          1               0        113931.57\n",
       "2     Boni          699    France  Female   39  ...       0.00              2          0               0         93826.63\n",
       "3      Chu          645     Spain    Male   44  ...  113755.78              2          1               0        149756.71\n",
       "4  Goforth          616   Germany    Male   45  ...  143129.41              2          0               1         64327.26\n",
       "\n",
       "[5 rows x 11 columns]"
      ]
     },
     "execution_count": 233,
     "metadata": {},
     "output_type": "execute_result"
    }
   ],
   "source": [
    "test.head()"
   ]
  },
  {
   "cell_type": "markdown",
   "metadata": {},
   "source": [
    "***\n",
    "\n",
    "## 2. Data Wrangling & EDA\n",
    "\n",
    "이제 데이터 전처리와 탐색적 데이터 분석을 해보도록 하곘습니다.<br>\n",
    "이름에 해당하는 'Surname'은 모델링에 사용하기 어려우니 삭제하도록 하겠습니다."
   ]
  },
  {
   "cell_type": "code",
   "execution_count": 234,
   "metadata": {
    "scrolled": true
   },
   "outputs": [],
   "source": [
    "train.drop('Surname', axis = 1, inplace = True)\n",
    "test.drop('Surname', axis = 1, inplace = True)"
   ]
  },
  {
   "cell_type": "code",
   "execution_count": 235,
   "metadata": {
    "scrolled": true
   },
   "outputs": [
    {
     "data": {
      "text/plain": [
       "0    6363\n",
       "1    1637\n",
       "Name: Exited, dtype: int64"
      ]
     },
     "execution_count": 235,
     "metadata": {},
     "output_type": "execute_result"
    }
   ],
   "source": [
    "train.Exited.value_counts()"
   ]
  },
  {
   "cell_type": "markdown",
   "metadata": {},
   "source": [
    "우리가 예측해야할 변수인 Exited 변수의 클래스 비율은 위와 같습니다."
   ]
  },
  {
   "cell_type": "code",
   "execution_count": 236,
   "metadata": {},
   "outputs": [
    {
     "data": {
      "text/html": [
       "<div>\n",
       "<style scoped>\n",
       "    .dataframe tbody tr th:only-of-type {\n",
       "        vertical-align: middle;\n",
       "    }\n",
       "\n",
       "    .dataframe tbody tr th {\n",
       "        vertical-align: top;\n",
       "    }\n",
       "\n",
       "    .dataframe thead th {\n",
       "        text-align: right;\n",
       "    }\n",
       "</style>\n",
       "<table border=\"1\" class=\"dataframe\">\n",
       "  <thead>\n",
       "    <tr style=\"text-align: right;\">\n",
       "      <th></th>\n",
       "      <th>Geography</th>\n",
       "      <th>mean_Exited</th>\n",
       "    </tr>\n",
       "  </thead>\n",
       "  <tbody>\n",
       "    <tr>\n",
       "      <th>0</th>\n",
       "      <td>France</td>\n",
       "      <td>0.162061</td>\n",
       "    </tr>\n",
       "    <tr>\n",
       "      <th>1</th>\n",
       "      <td>Germany</td>\n",
       "      <td>0.325720</td>\n",
       "    </tr>\n",
       "    <tr>\n",
       "      <th>2</th>\n",
       "      <td>Spain</td>\n",
       "      <td>0.167598</td>\n",
       "    </tr>\n",
       "  </tbody>\n",
       "</table>\n",
       "</div>"
      ],
      "text/plain": [
       "  Geography  mean_Exited\n",
       "0    France     0.162061\n",
       "1   Germany     0.325720\n",
       "2     Spain     0.167598"
      ]
     },
     "execution_count": 236,
     "metadata": {},
     "output_type": "execute_result"
    }
   ],
   "source": [
    "train.groupby('Geography').Exited.mean().reset_index(name = 'mean_Exited')"
   ]
  },
  {
   "cell_type": "code",
   "execution_count": 237,
   "metadata": {},
   "outputs": [
    {
     "data": {
      "image/png": "[encoded data removed]",
      "text/plain": [
       "<Figure size 432x288 with 1 Axes>"
      ]
     },
     "metadata": {
      "needs_background": "light"
     },
     "output_type": "display_data"
    }
   ],
   "source": [
    "sns.pointplot(train.Gender, train.Exited, hue = 'Geography', data = train)\n",
    "plt.show()"
   ]
  },
  {
   "cell_type": "markdown",
   "metadata": {},
   "source": [
    "Geography와 성별에 따른 Exited의 분포를 확인해보니 모든 국가에서 여성이 더 파산확률이 높은 것을 알 수 있습니다."
   ]
  },
  {
   "cell_type": "code",
   "execution_count": 238,
   "metadata": {},
   "outputs": [
    {
     "data": {
      "image/png": "[encoded data removed]",
      "text/plain": [
       "<Figure size 432x288 with 1 Axes>"
      ]
     },
     "metadata": {
      "needs_background": "light"
     },
     "output_type": "display_data"
    }
   ],
   "source": [
    "sns.pointplot(train.NumOfProducts, train.Exited, hue = 'Geography', data = train)\n",
    "plt.show()"
   ]
  },
  {
   "cell_type": "markdown",
   "metadata": {},
   "source": [
    "Geography 및 NumOfProducts에 따른 Exited의 분포를 확인해보니 모든 국가에서 3, 4개의 제품을 소유한 고객들의 파산확률이 더 높은 것을 알 수 있다.\n",
    "\n",
    "train의 Gender 컬럼을 0과 1의 이진 변수로 변환해줍니다."
   ]
  },
  {
   "cell_type": "code",
   "execution_count": 239,
   "metadata": {},
   "outputs": [],
   "source": [
    "train.Gender = train.Gender.map({'Female' : 0, 'Male' : 1})\n",
    "test.Gender = test.Gender.map({'Female' : 0, 'Male' : 1})"
   ]
  },
  {
   "cell_type": "markdown",
   "metadata": {},
   "source": [
    "범주형 변수는 원-핫 인코딩 형태로 더미화 해준다."
   ]
  },
  {
   "cell_type": "code",
   "execution_count": 240,
   "metadata": {},
   "outputs": [],
   "source": [
    "train = pd.get_dummies(columns = ['Geography','NumOfProducts'], data = train)\n",
    "test = pd.get_dummies(columns = ['Geography','NumOfProducts'], data = test)"
   ]
  },
  {
   "cell_type": "markdown",
   "metadata": {},
   "source": [
    "***\n",
    "## 3. Modeling & Evaluation\n",
    "\n",
    "전처리가 끝난 데이터로 모델링을 해보도록 하겠습니다."
   ]
  },
  {
   "cell_type": "code",
   "execution_count": 274,
   "metadata": {},
   "outputs": [],
   "source": [
    "X = train.drop('Exited', axis = 1)\n",
    "y = train.Exited"
   ]
  },
  {
   "cell_type": "code",
   "execution_count": 275,
   "metadata": {
    "scrolled": true
   },
   "outputs": [],
   "source": [
    "X_train, X_test, y_train, y_test = train_test_split(X, y, test_size = .2, random_state = 1214)"
   ]
  },
  {
   "cell_type": "code",
   "execution_count": 276,
   "metadata": {},
   "outputs": [],
   "source": [
    "model1 = GradientBoostingClassifier(random_state = 1214)\n",
    "model2 = XGBClassifier(random_state = 1214)\n",
    "model3 = LGBMClassifier(random_state = 1214)\n",
    "model4 = RandomForestClassifier(random_state = 1214)"
   ]
  },
  {
   "cell_type": "code",
   "execution_count": 277,
   "metadata": {},
   "outputs": [
    {
     "data": {
      "text/plain": [
       "RandomForestClassifier(random_state=1214)"
      ]
     },
     "execution_count": 277,
     "metadata": {},
     "output_type": "execute_result"
    }
   ],
   "source": [
    "model1.fit(X_train, y_train)\n",
    "model2.fit(X_train, y_train)\n",
    "model3.fit(X_train, y_train)\n",
    "model4.fit(X_train, y_train)"
   ]
  },
  {
   "cell_type": "markdown",
   "metadata": {},
   "source": [
    "### accuracy_score 확인"
   ]
  },
  {
   "cell_type": "code",
   "execution_count": 278,
   "metadata": {},
   "outputs": [],
   "source": [
    "pred1 = model1.predict(X_test)\n",
    "pred2 = model2.predict(X_test)\n",
    "pred3 = model3.predict(X_test)\n",
    "pred4 = model4.predict(X_test)"
   ]
  },
  {
   "cell_type": "code",
   "execution_count": 279,
   "metadata": {},
   "outputs": [],
   "source": [
    "acc1 = accuracy_score(y_test, pred1)\n",
    "acc2 = accuracy_score(y_test, pred2)\n",
    "acc3 = accuracy_score(y_test, pred3)\n",
    "acc4 = accuracy_score(y_test, pred4)"
   ]
  },
  {
   "cell_type": "code",
   "execution_count": 280,
   "metadata": {
    "scrolled": true
   },
   "outputs": [
    {
     "name": "stdout",
     "output_type": "stream",
     "text": [
      "GradientBoostingClassifier의 accuracy는 0.8712이다.\n",
      "XGBClassifier의 accuracy는 0.8581이다.\n",
      "LGBMClassifier의 accuracy는 0.8781이다.\n",
      "RandomForestClassifier의 accuracy는 0.8694이다.\n"
     ]
    }
   ],
   "source": [
    "print(f'{model1.__class__.__name__}의 accuracy는 {np.round(acc1, 4)}이다.')\n",
    "print(f'{model2.__class__.__name__}의 accuracy는 {np.round(acc2, 4)}이다.')\n",
    "print(f'{model3.__class__.__name__}의 accuracy는 {np.round(acc3, 4)}이다.')\n",
    "print(f'{model4.__class__.__name__}의 accuracy는 {np.round(acc4, 4)}이다.')"
   ]
  },
  {
   "cell_type": "markdown",
   "metadata": {},
   "source": [
    "### roc_auc_score 확인"
   ]
  },
  {
   "cell_type": "code",
   "execution_count": 281,
   "metadata": {},
   "outputs": [],
   "source": [
    "prob1 = model1.predict_proba(X_test)[:, 1]\n",
    "prob2 = model2.predict_proba(X_test)[:, 1]\n",
    "prob3 = model3.predict_proba(X_test)[:, 1]\n",
    "prob4 = model4.predict_proba(X_test)[:, 1]"
   ]
  },
  {
   "cell_type": "code",
   "execution_count": 282,
   "metadata": {},
   "outputs": [],
   "source": [
    "roc_auc1 = roc_auc_score(y_test, prob1)\n",
    "roc_auc2 = roc_auc_score(y_test, prob2)\n",
    "roc_auc3 = roc_auc_score(y_test, prob3)\n",
    "roc_auc4 = roc_auc_score(y_test, prob4)"
   ]
  },
  {
   "cell_type": "code",
   "execution_count": 283,
   "metadata": {
    "scrolled": true
   },
   "outputs": [
    {
     "name": "stdout",
     "output_type": "stream",
     "text": [
      "GradientBoostingClassifier의 roc_auc는 0.8718이다.\n",
      "XGBClassifier의 roc_auc는 0.8633이다.\n",
      "LGBMClassifier의 roc_auc는 0.872이다.\n",
      "RandomForestClassifier의 roc_auc는 0.8615이다.\n"
     ]
    }
   ],
   "source": [
    "print(f'{model1.__class__.__name__}의 roc_auc는 {np.round(roc_auc1, 4)}이다.')\n",
    "print(f'{model2.__class__.__name__}의 roc_auc는 {np.round(roc_auc2, 4)}이다.')\n",
    "print(f'{model3.__class__.__name__}의 roc_auc는 {np.round(roc_auc3, 4)}이다.')\n",
    "print(f'{model4.__class__.__name__}의 roc_auc는 {np.round(roc_auc4, 4)}이다.')"
   ]
  },
  {
   "cell_type": "markdown",
   "metadata": {},
   "source": [
    "***\n",
    "\n",
    "## 4. Submission\n",
    "\n",
    "실제 예측해야할 데이터로 최종 예측후 submission의 정답과 비교해보도록 하겠습니다.\n",
    "최종 예측을 할 때는 전체데이터로 학습을 한 후 진행해야 합니다."
   ]
  },
  {
   "cell_type": "code",
   "execution_count": 284,
   "metadata": {},
   "outputs": [
    {
     "data": {
      "text/plain": [
       "RandomForestClassifier(random_state=1214)"
      ]
     },
     "execution_count": 284,
     "metadata": {},
     "output_type": "execute_result"
    }
   ],
   "source": [
    "model1.fit(X, y)\n",
    "model2.fit(X, y)\n",
    "model3.fit(X, y)\n",
    "model4.fit(X, y)"
   ]
  },
  {
   "cell_type": "code",
   "execution_count": 285,
   "metadata": {},
   "outputs": [],
   "source": [
    "sub_pred1 = model1.predict(test)\n",
    "sub_pred2 = model2.predict(test)\n",
    "sub_pred3 = model3.predict(test)\n",
    "sub_pred4 = model4.predict(test)"
   ]
  },
  {
   "cell_type": "code",
   "execution_count": 286,
   "metadata": {},
   "outputs": [
    {
     "name": "stdout",
     "output_type": "stream",
     "text": [
      "GradientBoostingClassifier의 최종 accuracy는 0.866이다.\n",
      "XGBClassifier의 최종 accuracy는 0.86이다.\n",
      "LGBMClassifier의 최종 accuracy는 0.865이다.\n",
      "RandomForestClassifier의 최종 accuracy는 0.8595이다.\n"
     ]
    }
   ],
   "source": [
    "print(f'{model1.__class__.__name__}의 최종 accuracy는 {np.round(accuracy_score(submission.Exited, sub_pred1), 4)}이다.')\n",
    "print(f'{model2.__class__.__name__}의 최종 accuracy는 {np.round(accuracy_score(submission.Exited, sub_pred2), 4)}이다.')\n",
    "print(f'{model3.__class__.__name__}의 최종 accuracy는 {np.round(accuracy_score(submission.Exited, sub_pred3), 4)}이다.')\n",
    "print(f'{model4.__class__.__name__}의 최종 accuracy는 {np.round(accuracy_score(submission.Exited, sub_pred4), 4)}이다.')"
   ]
  },
  {
   "cell_type": "markdown",
   "metadata": {},
   "source": [
    "앙상블 기법을 통해서 성능을 더 올려보도록 하겠습니다."
   ]
  },
  {
   "cell_type": "code",
   "execution_count": 287,
   "metadata": {},
   "outputs": [],
   "source": [
    "vot_clf = VotingClassifier(estimators = [('gbm', model1), ('xgb', model2), ('lgbm', model3), ('rf', model4)], voting = 'soft')"
   ]
  },
  {
   "cell_type": "code",
   "execution_count": 288,
   "metadata": {},
   "outputs": [
    {
     "data": {
      "text/plain": [
       "VotingClassifier(estimators=[('gbm',\n",
       "                              GradientBoostingClassifier(random_state=1214)),\n",
       "                             ('xgb',\n",
       "                              XGBClassifier(base_score=0.5, booster='gbtree',\n",
       "                                            colsample_bylevel=1,\n",
       "                                            colsample_bynode=1,\n",
       "                                            colsample_bytree=1, gamma=0,\n",
       "                                            gpu_id=-1, importance_type='gain',\n",
       "                                            interaction_constraints='',\n",
       "                                            learning_rate=0.300000012,\n",
       "                                            max_delta_step=0, max_depth=6,\n",
       "                                            min_child_weight=1, missing=nan,\n",
       "                                            monotone_constraints='()',\n",
       "                                            n_estimators=100, n_jobs=0,\n",
       "                                            num_parallel_tree=1,\n",
       "                                            random_state=1214, reg_alpha=0,\n",
       "                                            reg_lambda=1, scale_pos_weight=1,\n",
       "                                            subsample=1, tree_method='exact',\n",
       "                                            validate_parameters=1,\n",
       "                                            verbosity=None)),\n",
       "                             ('lgbm', LGBMClassifier(random_state=1214)),\n",
       "                             ('rf', RandomForestClassifier(random_state=1214))],\n",
       "                 voting='soft')"
      ]
     },
     "execution_count": 288,
     "metadata": {},
     "output_type": "execute_result"
    }
   ],
   "source": [
    "vot_clf.fit(X, y)"
   ]
  },
  {
   "cell_type": "code",
   "execution_count": 289,
   "metadata": {
    "scrolled": false
   },
   "outputs": [
    {
     "name": "stdout",
     "output_type": "stream",
     "text": [
      "GradientBoostingClassifier의 최종 accuracy는 0.868이다.\n"
     ]
    }
   ],
   "source": [
    "print(f'{model1.__class__.__name__}의 최종 accuracy는 {np.round(accuracy_score(submission.Exited, vot_clf.predict(test)), 4)}이다.')"
   ]
  },
  {
   "cell_type": "code",
   "execution_count": 292,
   "metadata": {},
   "outputs": [
    {
     "name": "stdout",
     "output_type": "stream",
     "text": [
      "GradientBoostingClassifier의 최종 accuracy는 0.8701이다.\n"
     ]
    }
   ],
   "source": [
    "print(f'{model1.__class__.__name__}의 최종 accuracy는 {np.round(roc_auc_score(submission.Exited, vot_clf.predict_proba(test)[:, 1]), 4)}이다.')"
   ]
  },
  {
   "cell_type": "markdown",
   "metadata": {},
   "source": [
    "정확도는 더 높아졌지만 roc_auc는 좀 더 낮아진 것을 알 수 있습니다."
   ]
  },
  {
   "cell_type": "code",
   "execution_count": 293,
   "metadata": {},
   "outputs": [],
   "source": [
    "pred = model1.predict_proba(test)[:, 1] * model2.predict_proba(test)[:, 1] * model3.predict_proba(test)[:, 1] * model4.predict_proba(test)[:, 1]"
   ]
  },
  {
   "cell_type": "code",
   "execution_count": 294,
   "metadata": {},
   "outputs": [],
   "source": [
    "pred **= .25"
   ]
  },
  {
   "cell_type": "code",
   "execution_count": 298,
   "metadata": {},
   "outputs": [],
   "source": [
    "pred = [1 if x > .5 else 0 for x in pred]"
   ]
  },
  {
   "cell_type": "code",
   "execution_count": 303,
   "metadata": {
    "scrolled": true
   },
   "outputs": [
    {
     "name": "stdout",
     "output_type": "stream",
     "text": [
      "앙상블 기법의 최종 accuracy는 0.8665이다.\n"
     ]
    }
   ],
   "source": [
    "print(f'앙상블 기법의 최종 accuracy는 {np.round(accuracy_score(submission.Exited, pred), 4)}이다.')"
   ]
  },
  {
   "cell_type": "markdown",
   "metadata": {},
   "source": [
    "지금까지 간단한 예제를 통해서 분류문제를 해결해보았습니다.<br>\n",
    "실제 문제를 해결할 때 독립적인 모델들을 여러 개 사용하고 다양한 앙상블 기법활용은 물론 하이퍼 파라미터 튜닝 등 다양한 접근법을 통해서 모델의 성능을 올릴 수 있습니다.\n",
    "***\n",
    "다음 챕터에서는 예측 class의 불균형 분포를 가지는 데이터를 예측할 때 사용되는 기법에 대해서 알아보도록 하겠습니다. 감사합니다."
   ]
  }
 ],
 "metadata": {
  "kernelspec": {
   "display_name": "Python 3",
   "language": "python",
   "name": "python3"
  },
  "language_info": {
   "codemirror_mode": {
    "name": "ipython",
    "version": 3
   },
   "file_extension": ".py",
   "mimetype": "text/x-python",
   "name": "python",
   "nbconvert_exporter": "python",
   "pygments_lexer": "ipython3",
   "version": "3.7.6"
  }
 },
 "nbformat": 4,
 "nbformat_minor": 4
}
