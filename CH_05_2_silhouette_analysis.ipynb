{
 "cells": [
  {
   "cell_type": "markdown",
   "metadata": {},
   "source": [
    "# 실루엣 분석\n",
    "***\n",
    "\n",
    "**실루엣 분석**은 군집화 평가 방법으로 **각 군집 간의 거리**가 얼마나 효율적으로 분리돼 있는지를 평가하는 지표입니다. 일반적으로 군집화가 잘 됐다는 것은 군집간에는 **거리가 멀고** 군집 내부의 데이터들은 **거리가 가까운 것**을 의미합니다. 실루엣 분석은 **실루엣 계수**를 기반으로 합니다. \n",
    "\n",
    "실루엣 계수는 -1에서 1 사이의 값을 가지며 1로 가까울수록 다른 군집과 거리가 멀고 0에 가까울수록 다른 군집과 가깝다는 의미입니다. 음수 값은 다른 군집에 데이터가 들어있는 것을 의미합니다.\n",
    "\n",
    "***\n",
    "\n",
    "군집화가 잘되려면 다음 조건을 만족해야합니다.\n",
    "\n",
    "1. 전체 실루엣 계수의 평균값은 1에 가까워야 한다.\n",
    "\n",
    "2. 개별 군집의 실루엣 계수 평균값이 전체 실루엣 계수의 평균 값과 큰 차이가 존재하지 않아야 한다. -> 편차가 작아야한다."
   ]
  },
  {
   "cell_type": "code",
   "execution_count": 7,
   "metadata": {},
   "outputs": [],
   "source": [
    "from sklearn.preprocessing import scale\n",
    "from sklearn.datasets import load_iris\n",
    "from sklearn.cluster import KMeans\n",
    "from sklearn.metrics import silhouette_samples, silhouette_score\n",
    "import pandas as pd\n",
    "import matplotlib.pyplot as plt\n",
    "%matplotlib inline"
   ]
  },
  {
   "cell_type": "code",
   "execution_count": 8,
   "metadata": {},
   "outputs": [],
   "source": [
    "iris = load_iris()\n",
    "df = pd.DataFrame(iris.data, columns = iris.feature_names)"
   ]
  },
  {
   "cell_type": "code",
   "execution_count": 10,
   "metadata": {},
   "outputs": [],
   "source": [
    "km = KMeans(n_clusters = 3, init = 'k-means++', random_state = 208).fit(df)"
   ]
  },
  {
   "cell_type": "code",
   "execution_count": 11,
   "metadata": {},
   "outputs": [],
   "source": [
    "df['cluster'] = km.labels_"
   ]
  },
  {
   "cell_type": "code",
   "execution_count": 13,
   "metadata": {},
   "outputs": [],
   "source": [
    "s_score = silhouette_samples(iris.data, df['cluster'])"
   ]
  },
  {
   "cell_type": "code",
   "execution_count": 16,
   "metadata": {},
   "outputs": [],
   "source": [
    "df['s_score'] = s_score"
   ]
  },
  {
   "cell_type": "code",
   "execution_count": 17,
   "metadata": {},
   "outputs": [],
   "source": [
    "avg_score = silhouette_score(iris.data, df['cluster']) # s_score 평균 값"
   ]
  },
  {
   "cell_type": "code",
   "execution_count": 18,
   "metadata": {},
   "outputs": [
    {
     "data": {
      "text/plain": [
       "0.552819012356409"
      ]
     },
     "execution_count": 18,
     "metadata": {},
     "output_type": "execute_result"
    }
   ],
   "source": [
    "avg_score"
   ]
  },
  {
   "cell_type": "code",
   "execution_count": 22,
   "metadata": {
    "scrolled": true
   },
   "outputs": [
    {
     "data": {
      "text/plain": [
       "0.552819012356409"
      ]
     },
     "execution_count": 22,
     "metadata": {},
     "output_type": "execute_result"
    }
   ],
   "source": [
    "s_score.mean()"
   ]
  },
  {
   "cell_type": "markdown",
   "metadata": {},
   "source": [
    "군집별로 실루엣 계수의 평균을 보도록하겠습니다. 첫번째 군집이 0.79이지만 다른 군집들이 0.5 미만이기 때문에 평균 계수가 0.55에 근접했던 것을 알 수 있습니다."
   ]
  },
  {
   "cell_type": "code",
   "execution_count": 23,
   "metadata": {},
   "outputs": [
    {
     "data": {
      "text/plain": [
       "cluster\n",
       "0    0.798140\n",
       "1    0.417320\n",
       "2    0.451105\n",
       "Name: s_score, dtype: float64"
      ]
     },
     "execution_count": 23,
     "metadata": {},
     "output_type": "execute_result"
    }
   ],
   "source": [
    "df.groupby('cluster').s_score.mean()"
   ]
  },
  {
   "cell_type": "markdown",
   "metadata": {},
   "source": [
    "지금까지 군집화 평가 방법인 실루엣 분석에 대해서 알아보았습니다. 다음 챕터에서는 **평균 이동(Mean Shfit)**에 대해서 알아보도록 하겠습니다."
   ]
  }
 ],
 "metadata": {
  "kernelspec": {
   "display_name": "Python 3",
   "language": "python",
   "name": "python3"
  },
  "language_info": {
   "codemirror_mode": {
    "name": "ipython",
    "version": 3
   },
   "file_extension": ".py",
   "mimetype": "text/x-python",
   "name": "python",
   "nbconvert_exporter": "python",
   "pygments_lexer": "ipython3",
   "version": "3.8.5"
  }
 },
 "nbformat": 4,
 "nbformat_minor": 4
}
