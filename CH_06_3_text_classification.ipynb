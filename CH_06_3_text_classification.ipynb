{
 "cells": [
  {
   "cell_type": "markdown",
   "id": "738b155c",
   "metadata": {},
   "source": [
    "# 텍스트 분석\n",
    "***\n",
    "\n",
    "사이킷런의 내장 데이터인 20 뉴스그룹 데이터를 이용해 텍스트 분류를 적용."
   ]
  },
  {
   "cell_type": "code",
   "execution_count": 1,
   "id": "dd682c6f",
   "metadata": {},
   "outputs": [],
   "source": [
    "from sklearn.datasets import fetch_20newsgroups"
   ]
  },
  {
   "cell_type": "markdown",
   "id": "e3eedc4c",
   "metadata": {},
   "source": [
    "불필요한 정보가 있는 headers, footers, quotes를 제거한다."
   ]
  },
  {
   "cell_type": "code",
   "execution_count": 11,
   "id": "a4c8f85b",
   "metadata": {},
   "outputs": [],
   "source": [
    "train = fetch_20newsgroups(subset = 'train', random_state = 42, remove = ('headers', 'footers', 'quotes'))"
   ]
  },
  {
   "cell_type": "code",
   "execution_count": 13,
   "id": "43b8a7c2",
   "metadata": {},
   "outputs": [],
   "source": [
    "test = fetch_20newsgroups(subset = 'test', random_state = 42, remove = ('headers', 'footers', 'quotes'))"
   ]
  },
  {
   "cell_type": "code",
   "execution_count": 12,
   "id": "832df35d",
   "metadata": {
    "scrolled": true
   },
   "outputs": [
    {
     "data": {
      "text/plain": [
       "dict_keys(['data', 'filenames', 'target_names', 'target', 'DESCR'])"
      ]
     },
     "execution_count": 12,
     "metadata": {},
     "output_type": "execute_result"
    }
   ],
   "source": [
    "train.keys()"
   ]
  },
  {
   "cell_type": "code",
   "execution_count": 14,
   "id": "6ab63c36",
   "metadata": {
    "scrolled": true
   },
   "outputs": [
    {
     "data": {
      "text/plain": [
       "dict_keys(['data', 'filenames', 'target_names', 'target', 'DESCR'])"
      ]
     },
     "execution_count": 14,
     "metadata": {},
     "output_type": "execute_result"
    }
   ],
   "source": [
    "test.keys()"
   ]
  },
  {
   "cell_type": "code",
   "execution_count": 7,
   "id": "09805dcc",
   "metadata": {},
   "outputs": [],
   "source": [
    "import pandas as pd\n",
    "import numpy as np"
   ]
  },
  {
   "cell_type": "code",
   "execution_count": 16,
   "id": "da47ff35",
   "metadata": {},
   "outputs": [],
   "source": [
    "X = train['data']\n",
    "target = test['data']"
   ]
  },
  {
   "cell_type": "code",
   "execution_count": 22,
   "id": "b831b65c",
   "metadata": {},
   "outputs": [],
   "source": [
    "y = train['target']\n",
    "actual_target = test['target']"
   ]
  },
  {
   "cell_type": "markdown",
   "id": "9c51f784",
   "metadata": {},
   "source": [
    "학습 데이터와 예측 데이터를 분할한다."
   ]
  },
  {
   "cell_type": "code",
   "execution_count": 19,
   "id": "4d37122e",
   "metadata": {
    "scrolled": true
   },
   "outputs": [
    {
     "data": {
      "text/plain": [
       "(11314, 7532)"
      ]
     },
     "execution_count": 19,
     "metadata": {},
     "output_type": "execute_result"
    }
   ],
   "source": [
    "len(X), len(target)"
   ]
  },
  {
   "cell_type": "markdown",
   "id": "2aae99d1",
   "metadata": {},
   "source": [
    "총 2가지 벡터 변환을 사용한다.\n",
    "- 1. CountVectorizer\n",
    "- 2. TfidfVectorizer"
   ]
  },
  {
   "cell_type": "code",
   "execution_count": 20,
   "id": "c1060e8d",
   "metadata": {},
   "outputs": [],
   "source": [
    "from sklearn.feature_extraction.text import CountVectorizer, TfidfVectorizer"
   ]
  },
  {
   "cell_type": "code",
   "execution_count": 33,
   "id": "b55213c6",
   "metadata": {},
   "outputs": [],
   "source": [
    "count_vect = CountVectorizer(max_features = 5000)"
   ]
  },
  {
   "cell_type": "markdown",
   "id": "aa942f10",
   "metadata": {},
   "source": [
    "전체 단어 중 빈도 기준 상위 5000개 단어만 사용한다."
   ]
  },
  {
   "cell_type": "code",
   "execution_count": 34,
   "id": "6c1f1f82",
   "metadata": {},
   "outputs": [],
   "source": [
    "X_count_vect = count_vect.fit_transform(X)"
   ]
  },
  {
   "cell_type": "code",
   "execution_count": 35,
   "id": "fbc29fde",
   "metadata": {
    "scrolled": true
   },
   "outputs": [
    {
     "data": {
      "text/plain": [
       "(11314, 5000)"
      ]
     },
     "execution_count": 35,
     "metadata": {},
     "output_type": "execute_result"
    }
   ],
   "source": [
    "X_count_vect.shape"
   ]
  },
  {
   "cell_type": "code",
   "execution_count": 36,
   "id": "66a02ddf",
   "metadata": {},
   "outputs": [],
   "source": [
    "target_count_vect = count_vect.transform(target)"
   ]
  },
  {
   "cell_type": "code",
   "execution_count": 44,
   "id": "ecc58b82",
   "metadata": {},
   "outputs": [],
   "source": [
    "from sklearn.linear_model import LogisticRegression\n",
    "\n",
    "import warnings\n",
    "warnings.filterwarnings('ignore')"
   ]
  },
  {
   "cell_type": "code",
   "execution_count": 37,
   "id": "0f23831e",
   "metadata": {},
   "outputs": [],
   "source": [
    "lr_clf = LogisticRegression()"
   ]
  },
  {
   "cell_type": "code",
   "execution_count": 45,
   "id": "04ab8ab4",
   "metadata": {},
   "outputs": [
    {
     "data": {
      "text/plain": [
       "LogisticRegression()"
      ]
     },
     "execution_count": 45,
     "metadata": {},
     "output_type": "execute_result"
    }
   ],
   "source": [
    "lr_clf.fit(X_count_vect, y)"
   ]
  },
  {
   "cell_type": "code",
   "execution_count": 39,
   "id": "ae3436cf",
   "metadata": {},
   "outputs": [],
   "source": [
    "pred = lr_clf.predict(target_count_vect)"
   ]
  },
  {
   "cell_type": "code",
   "execution_count": 40,
   "id": "485aa25b",
   "metadata": {},
   "outputs": [],
   "source": [
    "from sklearn.metrics import accuracy_score"
   ]
  },
  {
   "cell_type": "code",
   "execution_count": 41,
   "id": "1e858f73",
   "metadata": {},
   "outputs": [],
   "source": [
    "acc = accuracy_score(actual_target, pred)"
   ]
  },
  {
   "cell_type": "code",
   "execution_count": 43,
   "id": "5364f87c",
   "metadata": {
    "scrolled": true
   },
   "outputs": [
    {
     "name": "stdout",
     "output_type": "stream",
     "text": [
      "Count기반의 벡터화 적용 모델의 정확도는 0.580323951141795\n"
     ]
    }
   ],
   "source": [
    "print(f'Count기반의 벡터화 적용 모델의 정확도는 {acc}')"
   ]
  },
  {
   "cell_type": "markdown",
   "id": "f3b4c9f8",
   "metadata": {},
   "source": [
    "TfidfVectorizer 적용"
   ]
  },
  {
   "cell_type": "code",
   "execution_count": 52,
   "id": "c2d525b6",
   "metadata": {},
   "outputs": [],
   "source": [
    "tfidf_vect = TfidfVectorizer(max_features = 5000, stop_words = 'english')"
   ]
  },
  {
   "cell_type": "code",
   "execution_count": 53,
   "id": "e1ddb802",
   "metadata": {},
   "outputs": [],
   "source": [
    "X_tfidf_vect = tfidf_vect.fit_transform(X)"
   ]
  },
  {
   "cell_type": "code",
   "execution_count": 54,
   "id": "adb892ac",
   "metadata": {},
   "outputs": [],
   "source": [
    "target_tfidf_vect = tfidf_vect.transform(target)"
   ]
  },
  {
   "cell_type": "code",
   "execution_count": 55,
   "id": "d12a6ca0",
   "metadata": {},
   "outputs": [
    {
     "data": {
      "text/plain": [
       "LogisticRegression()"
      ]
     },
     "execution_count": 55,
     "metadata": {},
     "output_type": "execute_result"
    }
   ],
   "source": [
    "lr_clf.fit(X_tfidf_vect, y)"
   ]
  },
  {
   "cell_type": "code",
   "execution_count": 56,
   "id": "22594dd5",
   "metadata": {},
   "outputs": [],
   "source": [
    "pred = lr_clf.predict(target_tfidf_vect)"
   ]
  },
  {
   "cell_type": "code",
   "execution_count": 57,
   "id": "ec1b5ffd",
   "metadata": {},
   "outputs": [],
   "source": [
    "acc = accuracy_score(actual_target, pred)"
   ]
  },
  {
   "cell_type": "code",
   "execution_count": 58,
   "id": "8eaeac55",
   "metadata": {},
   "outputs": [
    {
     "name": "stdout",
     "output_type": "stream",
     "text": [
      "Tfidf기반의 벡터화 적용 모델의 정확도는 0.6471056824216675\n"
     ]
    }
   ],
   "source": [
    "print(f'Tfidf기반의 벡터화 적용 모델의 정확도는 {acc}')"
   ]
  },
  {
   "cell_type": "markdown",
   "id": "214656f8",
   "metadata": {},
   "source": [
    "Tfidf 기반의 벡터화 적용 모델이 정확도가 6% 높은 것으로 나타났다.\n",
    "***\n",
    "### 추가 실험 - Pipeline + GridSearchCV이용\n",
    "\n",
    "- ngram_range\n",
    "- max_df"
   ]
  },
  {
   "cell_type": "code",
   "execution_count": 59,
   "id": "192cc2f1",
   "metadata": {},
   "outputs": [],
   "source": [
    "from sklearn.pipeline import Pipeline"
   ]
  },
  {
   "cell_type": "code",
   "execution_count": 75,
   "id": "f867b9d3",
   "metadata": {},
   "outputs": [],
   "source": [
    "pl = Pipeline([('tfidf_vec', TfidfVectorizer(stop_words = 'english', max_features = 5000, lowercase = True)),\n",
    "              ('lr_clf', LogisticRegression(random_state = 42))])"
   ]
  },
  {
   "cell_type": "code",
   "execution_count": 76,
   "id": "8797778c",
   "metadata": {},
   "outputs": [],
   "source": [
    "param = {'tfidf_vec__ngram_range' : [(1, 1), (1, 2), (1, 3)],\n",
    "        'tfidf_vec__max_df' : [100, 300, 500, 700],\n",
    "        'lr_clf__C' : [1, 5, 10]}"
   ]
  },
  {
   "cell_type": "code",
   "execution_count": 77,
   "id": "336877c0",
   "metadata": {},
   "outputs": [],
   "source": [
    "from sklearn.model_selection import GridSearchCV"
   ]
  },
  {
   "cell_type": "code",
   "execution_count": 78,
   "id": "f935b094",
   "metadata": {},
   "outputs": [],
   "source": [
    "cv = GridSearchCV(pl, param_grid = param, cv = 5, scoring = 'accuracy', verbose = 0)"
   ]
  },
  {
   "cell_type": "code",
   "execution_count": 79,
   "id": "ae9afd8b",
   "metadata": {},
   "outputs": [
    {
     "data": {
      "text/plain": [
       "GridSearchCV(cv=5,\n",
       "             estimator=Pipeline(steps=[('tfidf_vec',\n",
       "                                        TfidfVectorizer(max_features=5000,\n",
       "                                                        stop_words='english')),\n",
       "                                       ('lr_clf',\n",
       "                                        LogisticRegression(random_state=42))]),\n",
       "             param_grid={'lr_clf__C': [1, 5, 10],\n",
       "                         'tfidf_vec__max_df': [100, 300, 500, 700],\n",
       "                         'tfidf_vec__ngram_range': [(1, 1), (1, 2), (1, 3)]},\n",
       "             scoring='accuracy')"
      ]
     },
     "execution_count": 79,
     "metadata": {},
     "output_type": "execute_result"
    }
   ],
   "source": [
    "cv.fit(X, y)"
   ]
  },
  {
   "cell_type": "code",
   "execution_count": 80,
   "id": "820e2401",
   "metadata": {},
   "outputs": [],
   "source": [
    "pred = cv.predict(target)"
   ]
  },
  {
   "cell_type": "code",
   "execution_count": 82,
   "id": "52aac978",
   "metadata": {},
   "outputs": [],
   "source": [
    "acc = accuracy_score(actual_target, pred)"
   ]
  },
  {
   "cell_type": "code",
   "execution_count": 83,
   "id": "d8c0c6f2",
   "metadata": {},
   "outputs": [
    {
     "name": "stdout",
     "output_type": "stream",
     "text": [
      "Pipeline + GridSearchCV 모델의 정확도는 0.6469729155602761\n"
     ]
    }
   ],
   "source": [
    "print(f'Pipeline + GridSearchCV 모델의 정확도는 {acc}')"
   ]
  }
 ],
 "metadata": {
  "kernelspec": {
   "display_name": "Python 3",
   "language": "python",
   "name": "python3"
  },
  "language_info": {
   "codemirror_mode": {
    "name": "ipython",
    "version": 3
   },
   "file_extension": ".py",
   "mimetype": "text/x-python",
   "name": "python",
   "nbconvert_exporter": "python",
   "pygments_lexer": "ipython3",
   "version": "3.8.8"
  }
 },
 "nbformat": 4,
 "nbformat_minor": 5
}
