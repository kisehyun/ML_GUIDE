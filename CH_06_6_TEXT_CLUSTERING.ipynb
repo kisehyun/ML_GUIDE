{
 "cells": [
  {
   "cell_type": "code",
   "execution_count": 1,
   "id": "12697927",
   "metadata": {},
   "outputs": [],
   "source": [
    "import pandas as pd\n",
    "\n",
    "import glob, os"
   ]
  },
  {
   "cell_type": "code",
   "execution_count": 19,
   "id": "7a085d43",
   "metadata": {},
   "outputs": [],
   "source": [
    "path = './topics'"
   ]
  },
  {
   "cell_type": "code",
   "execution_count": 20,
   "id": "acda69fa",
   "metadata": {},
   "outputs": [],
   "source": [
    "all_files = glob.glob(os.path.join(path, '*.data'))"
   ]
  },
  {
   "cell_type": "code",
   "execution_count": 37,
   "id": "d1e60bac",
   "metadata": {},
   "outputs": [],
   "source": [
    "file_names = []\n",
    "opinions = []"
   ]
  },
  {
   "cell_type": "code",
   "execution_count": 38,
   "id": "baeddf93",
   "metadata": {},
   "outputs": [],
   "source": [
    "for file in all_files :\n",
    "    \n",
    "    df = pd.read_table(file, index_col = None, header = 0, encoding = 'latin1')\n",
    "    \n",
    "    file_name = file.split('\\\\')[-1].split('.')[1].split('/')[-1]\n",
    "    \n",
    "    file_names.append(file_name)\n",
    "    opinions.append(df.to_string())"
   ]
  },
  {
   "cell_type": "code",
   "execution_count": 66,
   "id": "81a6889d",
   "metadata": {},
   "outputs": [],
   "source": [
    "doc_data = pd.DataFrame({'filename' : file_names, 'opnion_text' : opinions})"
   ]
  },
  {
   "cell_type": "code",
   "execution_count": 41,
   "id": "6135c633",
   "metadata": {},
   "outputs": [
    {
     "data": {
      "text/html": [
       "<div>\n",
       "<style scoped>\n",
       "    .dataframe tbody tr th:only-of-type {\n",
       "        vertical-align: middle;\n",
       "    }\n",
       "\n",
       "    .dataframe tbody tr th {\n",
       "        vertical-align: top;\n",
       "    }\n",
       "\n",
       "    .dataframe thead th {\n",
       "        text-align: right;\n",
       "    }\n",
       "</style>\n",
       "<table border=\"1\" class=\"dataframe\">\n",
       "  <thead>\n",
       "    <tr style=\"text-align: right;\">\n",
       "      <th></th>\n",
       "      <th>filename</th>\n",
       "      <th>opnion_text</th>\n",
       "    </tr>\n",
       "  </thead>\n",
       "  <tbody>\n",
       "    <tr>\n",
       "      <th>0</th>\n",
       "      <td>battery-life_ipod_nano_8gb</td>\n",
       "      <td>...</td>\n",
       "    </tr>\n",
       "    <tr>\n",
       "      <th>1</th>\n",
       "      <td>gas_mileage_toyota_camry_2007</td>\n",
       "      <td>...</td>\n",
       "    </tr>\n",
       "    <tr>\n",
       "      <th>2</th>\n",
       "      <td>room_holiday_inn_london</td>\n",
       "      <td>...</td>\n",
       "    </tr>\n",
       "    <tr>\n",
       "      <th>3</th>\n",
       "      <td>location_holiday_inn_london</td>\n",
       "      <td>...</td>\n",
       "    </tr>\n",
       "    <tr>\n",
       "      <th>4</th>\n",
       "      <td>staff_bestwestern_hotel_sfo</td>\n",
       "      <td>...</td>\n",
       "    </tr>\n",
       "  </tbody>\n",
       "</table>\n",
       "</div>"
      ],
      "text/plain": [
       "                        filename  \\\n",
       "0     battery-life_ipod_nano_8gb   \n",
       "1  gas_mileage_toyota_camry_2007   \n",
       "2        room_holiday_inn_london   \n",
       "3    location_holiday_inn_london   \n",
       "4    staff_bestwestern_hotel_sfo   \n",
       "\n",
       "                                         opnion_text  \n",
       "0                                                ...  \n",
       "1                                                ...  \n",
       "2                                                ...  \n",
       "3                                                ...  \n",
       "4                                                ...  "
      ]
     },
     "execution_count": 41,
     "metadata": {},
     "output_type": "execute_result"
    }
   ],
   "source": [
    "doc_data.head()"
   ]
  },
  {
   "cell_type": "code",
   "execution_count": 43,
   "id": "ce8d48e9",
   "metadata": {
    "scrolled": true
   },
   "outputs": [
    {
     "data": {
      "text/plain": [
       "(51, 2)"
      ]
     },
     "execution_count": 43,
     "metadata": {},
     "output_type": "execute_result"
    }
   ],
   "source": [
    "doc_data.shape"
   ]
  },
  {
   "cell_type": "code",
   "execution_count": 44,
   "id": "c73ae9d6",
   "metadata": {},
   "outputs": [],
   "source": [
    "from sklearn.feature_extraction.text import TfidfVectorizer"
   ]
  },
  {
   "cell_type": "code",
   "execution_count": 48,
   "id": "a952b6ff",
   "metadata": {},
   "outputs": [],
   "source": [
    "tfidf = TfidfVectorizer(lowercase = True, ngram_range = (1, 2), min_df = 0.05, max_df = 0.9, stop_words = 'english')"
   ]
  },
  {
   "cell_type": "code",
   "execution_count": 54,
   "id": "2220d410",
   "metadata": {},
   "outputs": [],
   "source": [
    "features = tfidf.fit_transform(doc_data['opnion_text'])"
   ]
  },
  {
   "cell_type": "code",
   "execution_count": 55,
   "id": "cb954119",
   "metadata": {},
   "outputs": [],
   "source": [
    "from sklearn.cluster import KMeans"
   ]
  },
  {
   "cell_type": "code",
   "execution_count": 56,
   "id": "48a751d4",
   "metadata": {},
   "outputs": [],
   "source": [
    "km = KMeans(n_clusters = 5, max_iter = 15000, random_state = 42)"
   ]
  },
  {
   "cell_type": "code",
   "execution_count": 57,
   "id": "98d1f136",
   "metadata": {},
   "outputs": [
    {
     "data": {
      "text/plain": [
       "KMeans(max_iter=15000, n_clusters=5, random_state=42)"
      ]
     },
     "execution_count": 57,
     "metadata": {},
     "output_type": "execute_result"
    }
   ],
   "source": [
    "km.fit(features)"
   ]
  },
  {
   "cell_type": "code",
   "execution_count": 58,
   "id": "e1bfa6e8",
   "metadata": {},
   "outputs": [],
   "source": [
    "cls = km.labels_"
   ]
  },
  {
   "cell_type": "code",
   "execution_count": 59,
   "id": "76f6977c",
   "metadata": {},
   "outputs": [],
   "source": [
    "cls_center = km.cluster_centers_"
   ]
  },
  {
   "cell_type": "code",
   "execution_count": 67,
   "id": "1e1ed1db",
   "metadata": {},
   "outputs": [],
   "source": [
    "doc_data['cluster'] = cls"
   ]
  },
  {
   "cell_type": "code",
   "execution_count": 68,
   "id": "aac4f65a",
   "metadata": {},
   "outputs": [
    {
     "data": {
      "text/html": [
       "<div>\n",
       "<style scoped>\n",
       "    .dataframe tbody tr th:only-of-type {\n",
       "        vertical-align: middle;\n",
       "    }\n",
       "\n",
       "    .dataframe tbody tr th {\n",
       "        vertical-align: top;\n",
       "    }\n",
       "\n",
       "    .dataframe thead th {\n",
       "        text-align: right;\n",
       "    }\n",
       "</style>\n",
       "<table border=\"1\" class=\"dataframe\">\n",
       "  <thead>\n",
       "    <tr style=\"text-align: right;\">\n",
       "      <th></th>\n",
       "      <th>filename</th>\n",
       "      <th>opnion_text</th>\n",
       "      <th>cluster</th>\n",
       "    </tr>\n",
       "  </thead>\n",
       "  <tbody>\n",
       "    <tr>\n",
       "      <th>0</th>\n",
       "      <td>battery-life_ipod_nano_8gb</td>\n",
       "      <td>...</td>\n",
       "      <td>1</td>\n",
       "    </tr>\n",
       "    <tr>\n",
       "      <th>1</th>\n",
       "      <td>gas_mileage_toyota_camry_2007</td>\n",
       "      <td>...</td>\n",
       "      <td>2</td>\n",
       "    </tr>\n",
       "    <tr>\n",
       "      <th>2</th>\n",
       "      <td>room_holiday_inn_london</td>\n",
       "      <td>...</td>\n",
       "      <td>0</td>\n",
       "    </tr>\n",
       "    <tr>\n",
       "      <th>3</th>\n",
       "      <td>location_holiday_inn_london</td>\n",
       "      <td>...</td>\n",
       "      <td>4</td>\n",
       "    </tr>\n",
       "    <tr>\n",
       "      <th>4</th>\n",
       "      <td>staff_bestwestern_hotel_sfo</td>\n",
       "      <td>...</td>\n",
       "      <td>4</td>\n",
       "    </tr>\n",
       "  </tbody>\n",
       "</table>\n",
       "</div>"
      ],
      "text/plain": [
       "                        filename  \\\n",
       "0     battery-life_ipod_nano_8gb   \n",
       "1  gas_mileage_toyota_camry_2007   \n",
       "2        room_holiday_inn_london   \n",
       "3    location_holiday_inn_london   \n",
       "4    staff_bestwestern_hotel_sfo   \n",
       "\n",
       "                                         opnion_text  cluster  \n",
       "0                                                ...        1  \n",
       "1                                                ...        2  \n",
       "2                                                ...        0  \n",
       "3                                                ...        4  \n",
       "4                                                ...        4  "
      ]
     },
     "execution_count": 68,
     "metadata": {},
     "output_type": "execute_result"
    }
   ],
   "source": [
    "doc_data.head()"
   ]
  },
  {
   "cell_type": "code",
   "execution_count": 70,
   "id": "e8880f07",
   "metadata": {
    "scrolled": true
   },
   "outputs": [
    {
     "data": {
      "text/html": [
       "<div>\n",
       "<style scoped>\n",
       "    .dataframe tbody tr th:only-of-type {\n",
       "        vertical-align: middle;\n",
       "    }\n",
       "\n",
       "    .dataframe tbody tr th {\n",
       "        vertical-align: top;\n",
       "    }\n",
       "\n",
       "    .dataframe thead th {\n",
       "        text-align: right;\n",
       "    }\n",
       "</style>\n",
       "<table border=\"1\" class=\"dataframe\">\n",
       "  <thead>\n",
       "    <tr style=\"text-align: right;\">\n",
       "      <th></th>\n",
       "      <th>filename</th>\n",
       "      <th>opnion_text</th>\n",
       "      <th>cluster</th>\n",
       "    </tr>\n",
       "  </thead>\n",
       "  <tbody>\n",
       "    <tr>\n",
       "      <th>2</th>\n",
       "      <td>room_holiday_inn_london</td>\n",
       "      <td>...</td>\n",
       "      <td>0</td>\n",
       "    </tr>\n",
       "    <tr>\n",
       "      <th>30</th>\n",
       "      <td>rooms_swissotel_chicago</td>\n",
       "      <td>...</td>\n",
       "      <td>0</td>\n",
       "    </tr>\n",
       "    <tr>\n",
       "      <th>31</th>\n",
       "      <td>bathroom_bestwestern_hotel_sfo</td>\n",
       "      <td>...</td>\n",
       "      <td>0</td>\n",
       "    </tr>\n",
       "    <tr>\n",
       "      <th>46</th>\n",
       "      <td>rooms_bestwestern_hotel_sfo</td>\n",
       "      <td>...</td>\n",
       "      <td>0</td>\n",
       "    </tr>\n",
       "  </tbody>\n",
       "</table>\n",
       "</div>"
      ],
      "text/plain": [
       "                          filename  \\\n",
       "2          room_holiday_inn_london   \n",
       "30         rooms_swissotel_chicago   \n",
       "31  bathroom_bestwestern_hotel_sfo   \n",
       "46     rooms_bestwestern_hotel_sfo   \n",
       "\n",
       "                                          opnion_text  cluster  \n",
       "2                                                 ...        0  \n",
       "30                                                ...        0  \n",
       "31                                                ...        0  \n",
       "46                                                ...        0  "
      ]
     },
     "execution_count": 70,
     "metadata": {},
     "output_type": "execute_result"
    }
   ],
   "source": [
    "doc_data[doc_data.cluster == 0]"
   ]
  },
  {
   "cell_type": "code",
   "execution_count": 71,
   "id": "88302628",
   "metadata": {
    "scrolled": true
   },
   "outputs": [
    {
     "data": {
      "text/html": [
       "<div>\n",
       "<style scoped>\n",
       "    .dataframe tbody tr th:only-of-type {\n",
       "        vertical-align: middle;\n",
       "    }\n",
       "\n",
       "    .dataframe tbody tr th {\n",
       "        vertical-align: top;\n",
       "    }\n",
       "\n",
       "    .dataframe thead th {\n",
       "        text-align: right;\n",
       "    }\n",
       "</style>\n",
       "<table border=\"1\" class=\"dataframe\">\n",
       "  <thead>\n",
       "    <tr style=\"text-align: right;\">\n",
       "      <th></th>\n",
       "      <th>filename</th>\n",
       "      <th>opnion_text</th>\n",
       "      <th>cluster</th>\n",
       "    </tr>\n",
       "  </thead>\n",
       "  <tbody>\n",
       "    <tr>\n",
       "      <th>0</th>\n",
       "      <td>battery-life_ipod_nano_8gb</td>\n",
       "      <td>...</td>\n",
       "      <td>1</td>\n",
       "    </tr>\n",
       "    <tr>\n",
       "      <th>9</th>\n",
       "      <td>battery-life_amazon_kindle</td>\n",
       "      <td>...</td>\n",
       "      <td>1</td>\n",
       "    </tr>\n",
       "    <tr>\n",
       "      <th>11</th>\n",
       "      <td>battery-life_netbook_1005ha</td>\n",
       "      <td>...</td>\n",
       "      <td>1</td>\n",
       "    </tr>\n",
       "    <tr>\n",
       "      <th>15</th>\n",
       "      <td>performance_netbook_1005ha</td>\n",
       "      <td>...</td>\n",
       "      <td>1</td>\n",
       "    </tr>\n",
       "    <tr>\n",
       "      <th>24</th>\n",
       "      <td>sound_ipod_nano_8gb</td>\n",
       "      <td>headphone jack i got a clear case for it a...</td>\n",
       "      <td>1</td>\n",
       "    </tr>\n",
       "  </tbody>\n",
       "</table>\n",
       "</div>"
      ],
      "text/plain": [
       "                       filename  \\\n",
       "0    battery-life_ipod_nano_8gb   \n",
       "9    battery-life_amazon_kindle   \n",
       "11  battery-life_netbook_1005ha   \n",
       "15   performance_netbook_1005ha   \n",
       "24          sound_ipod_nano_8gb   \n",
       "\n",
       "                                          opnion_text  cluster  \n",
       "0                                                 ...        1  \n",
       "9                                                 ...        1  \n",
       "11                                                ...        1  \n",
       "15                                                ...        1  \n",
       "24      headphone jack i got a clear case for it a...        1  "
      ]
     },
     "execution_count": 71,
     "metadata": {},
     "output_type": "execute_result"
    }
   ],
   "source": [
    "doc_data[doc_data.cluster == 1]"
   ]
  },
  {
   "cell_type": "code",
   "execution_count": 76,
   "id": "2174cd60",
   "metadata": {},
   "outputs": [],
   "source": [
    "km = KMeans(n_clusters = 3, max_iter = 15000, random_state = 42)"
   ]
  },
  {
   "cell_type": "code",
   "execution_count": 77,
   "id": "5259fcf3",
   "metadata": {},
   "outputs": [
    {
     "data": {
      "text/plain": [
       "KMeans(max_iter=15000, n_clusters=3, random_state=42)"
      ]
     },
     "execution_count": 77,
     "metadata": {},
     "output_type": "execute_result"
    }
   ],
   "source": [
    "km.fit(features)"
   ]
  },
  {
   "cell_type": "code",
   "execution_count": 78,
   "id": "14fc2840",
   "metadata": {},
   "outputs": [],
   "source": [
    "cls = km.labels_"
   ]
  },
  {
   "cell_type": "code",
   "execution_count": 79,
   "id": "65607d9e",
   "metadata": {},
   "outputs": [],
   "source": [
    "cls_center = km.cluster_centers_"
   ]
  },
  {
   "cell_type": "code",
   "execution_count": 80,
   "id": "818cb4bf",
   "metadata": {},
   "outputs": [],
   "source": [
    "doc_data['cluster'] = cls"
   ]
  },
  {
   "cell_type": "code",
   "execution_count": 81,
   "id": "c7df1d0c",
   "metadata": {
    "scrolled": true
   },
   "outputs": [
    {
     "data": {
      "text/html": [
       "<div>\n",
       "<style scoped>\n",
       "    .dataframe tbody tr th:only-of-type {\n",
       "        vertical-align: middle;\n",
       "    }\n",
       "\n",
       "    .dataframe tbody tr th {\n",
       "        vertical-align: top;\n",
       "    }\n",
       "\n",
       "    .dataframe thead th {\n",
       "        text-align: right;\n",
       "    }\n",
       "</style>\n",
       "<table border=\"1\" class=\"dataframe\">\n",
       "  <thead>\n",
       "    <tr style=\"text-align: right;\">\n",
       "      <th></th>\n",
       "      <th>filename</th>\n",
       "      <th>opnion_text</th>\n",
       "      <th>cluster</th>\n",
       "    </tr>\n",
       "  </thead>\n",
       "  <tbody>\n",
       "    <tr>\n",
       "      <th>0</th>\n",
       "      <td>battery-life_ipod_nano_8gb</td>\n",
       "      <td>...</td>\n",
       "      <td>0</td>\n",
       "    </tr>\n",
       "    <tr>\n",
       "      <th>1</th>\n",
       "      <td>gas_mileage_toyota_camry_2007</td>\n",
       "      <td>...</td>\n",
       "      <td>1</td>\n",
       "    </tr>\n",
       "    <tr>\n",
       "      <th>2</th>\n",
       "      <td>room_holiday_inn_london</td>\n",
       "      <td>...</td>\n",
       "      <td>2</td>\n",
       "    </tr>\n",
       "    <tr>\n",
       "      <th>3</th>\n",
       "      <td>location_holiday_inn_london</td>\n",
       "      <td>...</td>\n",
       "      <td>2</td>\n",
       "    </tr>\n",
       "    <tr>\n",
       "      <th>4</th>\n",
       "      <td>staff_bestwestern_hotel_sfo</td>\n",
       "      <td>...</td>\n",
       "      <td>2</td>\n",
       "    </tr>\n",
       "  </tbody>\n",
       "</table>\n",
       "</div>"
      ],
      "text/plain": [
       "                        filename  \\\n",
       "0     battery-life_ipod_nano_8gb   \n",
       "1  gas_mileage_toyota_camry_2007   \n",
       "2        room_holiday_inn_london   \n",
       "3    location_holiday_inn_london   \n",
       "4    staff_bestwestern_hotel_sfo   \n",
       "\n",
       "                                         opnion_text  cluster  \n",
       "0                                                ...        0  \n",
       "1                                                ...        1  \n",
       "2                                                ...        2  \n",
       "3                                                ...        2  \n",
       "4                                                ...        2  "
      ]
     },
     "execution_count": 81,
     "metadata": {},
     "output_type": "execute_result"
    }
   ],
   "source": [
    "doc_data.head()"
   ]
  },
  {
   "cell_type": "code",
   "execution_count": 83,
   "id": "520d58bc",
   "metadata": {
    "scrolled": true
   },
   "outputs": [
    {
     "data": {
      "text/html": [
       "<div>\n",
       "<style scoped>\n",
       "    .dataframe tbody tr th:only-of-type {\n",
       "        vertical-align: middle;\n",
       "    }\n",
       "\n",
       "    .dataframe tbody tr th {\n",
       "        vertical-align: top;\n",
       "    }\n",
       "\n",
       "    .dataframe thead th {\n",
       "        text-align: right;\n",
       "    }\n",
       "</style>\n",
       "<table border=\"1\" class=\"dataframe\">\n",
       "  <thead>\n",
       "    <tr style=\"text-align: right;\">\n",
       "      <th></th>\n",
       "      <th>filename</th>\n",
       "      <th>opnion_text</th>\n",
       "      <th>cluster</th>\n",
       "    </tr>\n",
       "  </thead>\n",
       "  <tbody>\n",
       "    <tr>\n",
       "      <th>37</th>\n",
       "      <td>screen_netbook_1005ha</td>\n",
       "      <td>...</td>\n",
       "      <td>0</td>\n",
       "    </tr>\n",
       "    <tr>\n",
       "      <th>38</th>\n",
       "      <td>navigation_amazon_kindle</td>\n",
       "      <td>...</td>\n",
       "      <td>0</td>\n",
       "    </tr>\n",
       "    <tr>\n",
       "      <th>10</th>\n",
       "      <td>satellite_garmin_nuvi_255W_gps</td>\n",
       "      <td>...</td>\n",
       "      <td>0</td>\n",
       "    </tr>\n",
       "    <tr>\n",
       "      <th>40</th>\n",
       "      <td>speed_windows7</td>\n",
       "      <td>...</td>\n",
       "      <td>0</td>\n",
       "    </tr>\n",
       "    <tr>\n",
       "      <th>19</th>\n",
       "      <td>updates_garmin_nuvi_255W_gps</td>\n",
       "      <td>...</td>\n",
       "      <td>0</td>\n",
       "    </tr>\n",
       "    <tr>\n",
       "      <th>36</th>\n",
       "      <td>eyesight-issues_amazon_kindle</td>\n",
       "      <td>...</td>\n",
       "      <td>0</td>\n",
       "    </tr>\n",
       "    <tr>\n",
       "      <th>7</th>\n",
       "      <td>size_asus_netbook_1005ha</td>\n",
       "      <td>...</td>\n",
       "      <td>0</td>\n",
       "    </tr>\n",
       "    <tr>\n",
       "      <th>6</th>\n",
       "      <td>speed_garmin_nuvi_255W_gps</td>\n",
       "      <td>...</td>\n",
       "      <td>0</td>\n",
       "    </tr>\n",
       "    <tr>\n",
       "      <th>8</th>\n",
       "      <td>screen_garmin_nuvi_255W_gps</td>\n",
       "      <td>...</td>\n",
       "      <td>0</td>\n",
       "    </tr>\n",
       "    <tr>\n",
       "      <th>41</th>\n",
       "      <td>price_amazon_kindle</td>\n",
       "      <td>...</td>\n",
       "      <td>0</td>\n",
       "    </tr>\n",
       "  </tbody>\n",
       "</table>\n",
       "</div>"
      ],
      "text/plain": [
       "                          filename  \\\n",
       "37           screen_netbook_1005ha   \n",
       "38        navigation_amazon_kindle   \n",
       "10  satellite_garmin_nuvi_255W_gps   \n",
       "40                  speed_windows7   \n",
       "19    updates_garmin_nuvi_255W_gps   \n",
       "36   eyesight-issues_amazon_kindle   \n",
       "7         size_asus_netbook_1005ha   \n",
       "6       speed_garmin_nuvi_255W_gps   \n",
       "8      screen_garmin_nuvi_255W_gps   \n",
       "41             price_amazon_kindle   \n",
       "\n",
       "                                          opnion_text  cluster  \n",
       "37                                                ...        0  \n",
       "38                                                ...        0  \n",
       "10                                                ...        0  \n",
       "40                                                ...        0  \n",
       "19                                                ...        0  \n",
       "36                                                ...        0  \n",
       "7                                                 ...        0  \n",
       "6                                                 ...        0  \n",
       "8                                                 ...        0  \n",
       "41                                                ...        0  "
      ]
     },
     "execution_count": 83,
     "metadata": {},
     "output_type": "execute_result"
    }
   ],
   "source": [
    "doc_data[doc_data.cluster == 0].sample(10)"
   ]
  },
  {
   "cell_type": "code",
   "execution_count": 84,
   "id": "c97b4d73",
   "metadata": {
    "scrolled": true
   },
   "outputs": [
    {
     "data": {
      "text/html": [
       "<div>\n",
       "<style scoped>\n",
       "    .dataframe tbody tr th:only-of-type {\n",
       "        vertical-align: middle;\n",
       "    }\n",
       "\n",
       "    .dataframe tbody tr th {\n",
       "        vertical-align: top;\n",
       "    }\n",
       "\n",
       "    .dataframe thead th {\n",
       "        text-align: right;\n",
       "    }\n",
       "</style>\n",
       "<table border=\"1\" class=\"dataframe\">\n",
       "  <thead>\n",
       "    <tr style=\"text-align: right;\">\n",
       "      <th></th>\n",
       "      <th>filename</th>\n",
       "      <th>opnion_text</th>\n",
       "      <th>cluster</th>\n",
       "    </tr>\n",
       "  </thead>\n",
       "  <tbody>\n",
       "    <tr>\n",
       "      <th>18</th>\n",
       "      <td>comfort_honda_accord_2008</td>\n",
       "      <td>...</td>\n",
       "      <td>1</td>\n",
       "    </tr>\n",
       "    <tr>\n",
       "      <th>45</th>\n",
       "      <td>interior_honda_accord_2008</td>\n",
       "      <td>...</td>\n",
       "      <td>1</td>\n",
       "    </tr>\n",
       "    <tr>\n",
       "      <th>35</th>\n",
       "      <td>mileage_honda_accord_2008</td>\n",
       "      <td>...</td>\n",
       "      <td>1</td>\n",
       "    </tr>\n",
       "    <tr>\n",
       "      <th>22</th>\n",
       "      <td>interior_toyota_camry_2007</td>\n",
       "      <td>...</td>\n",
       "      <td>1</td>\n",
       "    </tr>\n",
       "    <tr>\n",
       "      <th>42</th>\n",
       "      <td>quality_toyota_camry_2007</td>\n",
       "      <td>...</td>\n",
       "      <td>1</td>\n",
       "    </tr>\n",
       "    <tr>\n",
       "      <th>43</th>\n",
       "      <td>comfort_toyota_camry_2007</td>\n",
       "      <td>...</td>\n",
       "      <td>1</td>\n",
       "    </tr>\n",
       "    <tr>\n",
       "      <th>1</th>\n",
       "      <td>gas_mileage_toyota_camry_2007</td>\n",
       "      <td>...</td>\n",
       "      <td>1</td>\n",
       "    </tr>\n",
       "    <tr>\n",
       "      <th>23</th>\n",
       "      <td>transmission_toyota_camry_2007</td>\n",
       "      <td>...</td>\n",
       "      <td>1</td>\n",
       "    </tr>\n",
       "    <tr>\n",
       "      <th>47</th>\n",
       "      <td>performance_honda_accord_2008</td>\n",
       "      <td>...</td>\n",
       "      <td>1</td>\n",
       "    </tr>\n",
       "    <tr>\n",
       "      <th>29</th>\n",
       "      <td>seats_honda_accord_2008</td>\n",
       "      <td>...</td>\n",
       "      <td>1</td>\n",
       "    </tr>\n",
       "  </tbody>\n",
       "</table>\n",
       "</div>"
      ],
      "text/plain": [
       "                          filename  \\\n",
       "18       comfort_honda_accord_2008   \n",
       "45      interior_honda_accord_2008   \n",
       "35       mileage_honda_accord_2008   \n",
       "22      interior_toyota_camry_2007   \n",
       "42       quality_toyota_camry_2007   \n",
       "43       comfort_toyota_camry_2007   \n",
       "1    gas_mileage_toyota_camry_2007   \n",
       "23  transmission_toyota_camry_2007   \n",
       "47   performance_honda_accord_2008   \n",
       "29         seats_honda_accord_2008   \n",
       "\n",
       "                                          opnion_text  cluster  \n",
       "18                                                ...        1  \n",
       "45                                                ...        1  \n",
       "35                                                ...        1  \n",
       "22                                                ...        1  \n",
       "42                                                ...        1  \n",
       "43                                                ...        1  \n",
       "1                                                 ...        1  \n",
       "23                                                ...        1  \n",
       "47                                                ...        1  \n",
       "29                                                ...        1  "
      ]
     },
     "execution_count": 84,
     "metadata": {},
     "output_type": "execute_result"
    }
   ],
   "source": [
    "doc_data[doc_data.cluster == 1].sample(10)"
   ]
  },
  {
   "cell_type": "code",
   "execution_count": 85,
   "id": "91f047f4",
   "metadata": {
    "scrolled": true
   },
   "outputs": [
    {
     "data": {
      "text/html": [
       "<div>\n",
       "<style scoped>\n",
       "    .dataframe tbody tr th:only-of-type {\n",
       "        vertical-align: middle;\n",
       "    }\n",
       "\n",
       "    .dataframe tbody tr th {\n",
       "        vertical-align: top;\n",
       "    }\n",
       "\n",
       "    .dataframe thead th {\n",
       "        text-align: right;\n",
       "    }\n",
       "</style>\n",
       "<table border=\"1\" class=\"dataframe\">\n",
       "  <thead>\n",
       "    <tr style=\"text-align: right;\">\n",
       "      <th></th>\n",
       "      <th>filename</th>\n",
       "      <th>opnion_text</th>\n",
       "      <th>cluster</th>\n",
       "    </tr>\n",
       "  </thead>\n",
       "  <tbody>\n",
       "    <tr>\n",
       "      <th>17</th>\n",
       "      <td>food_holiday_inn_london</td>\n",
       "      <td>...</td>\n",
       "      <td>2</td>\n",
       "    </tr>\n",
       "    <tr>\n",
       "      <th>3</th>\n",
       "      <td>location_holiday_inn_london</td>\n",
       "      <td>...</td>\n",
       "      <td>2</td>\n",
       "    </tr>\n",
       "    <tr>\n",
       "      <th>50</th>\n",
       "      <td>parking_bestwestern_hotel_sfo</td>\n",
       "      <td>...</td>\n",
       "      <td>2</td>\n",
       "    </tr>\n",
       "    <tr>\n",
       "      <th>32</th>\n",
       "      <td>food_swissotel_chicago</td>\n",
       "      <td>...</td>\n",
       "      <td>2</td>\n",
       "    </tr>\n",
       "    <tr>\n",
       "      <th>31</th>\n",
       "      <td>bathroom_bestwestern_hotel_sfo</td>\n",
       "      <td>...</td>\n",
       "      <td>2</td>\n",
       "    </tr>\n",
       "    <tr>\n",
       "      <th>13</th>\n",
       "      <td>service_swissotel_hotel_chicago</td>\n",
       "      <td>...</td>\n",
       "      <td>2</td>\n",
       "    </tr>\n",
       "    <tr>\n",
       "      <th>30</th>\n",
       "      <td>rooms_swissotel_chicago</td>\n",
       "      <td>...</td>\n",
       "      <td>2</td>\n",
       "    </tr>\n",
       "    <tr>\n",
       "      <th>27</th>\n",
       "      <td>service_holiday_inn_london</td>\n",
       "      <td>...</td>\n",
       "      <td>2</td>\n",
       "    </tr>\n",
       "    <tr>\n",
       "      <th>2</th>\n",
       "      <td>room_holiday_inn_london</td>\n",
       "      <td>...</td>\n",
       "      <td>2</td>\n",
       "    </tr>\n",
       "    <tr>\n",
       "      <th>28</th>\n",
       "      <td>price_holiday_inn_london</td>\n",
       "      <td>...</td>\n",
       "      <td>2</td>\n",
       "    </tr>\n",
       "  </tbody>\n",
       "</table>\n",
       "</div>"
      ],
      "text/plain": [
       "                           filename  \\\n",
       "17          food_holiday_inn_london   \n",
       "3       location_holiday_inn_london   \n",
       "50    parking_bestwestern_hotel_sfo   \n",
       "32           food_swissotel_chicago   \n",
       "31   bathroom_bestwestern_hotel_sfo   \n",
       "13  service_swissotel_hotel_chicago   \n",
       "30          rooms_swissotel_chicago   \n",
       "27       service_holiday_inn_london   \n",
       "2           room_holiday_inn_london   \n",
       "28         price_holiday_inn_london   \n",
       "\n",
       "                                          opnion_text  cluster  \n",
       "17                                                ...        2  \n",
       "3                                                 ...        2  \n",
       "50                                                ...        2  \n",
       "32                                                ...        2  \n",
       "31                                                ...        2  \n",
       "13                                                ...        2  \n",
       "30                                                ...        2  \n",
       "27                                                ...        2  \n",
       "2                                                 ...        2  \n",
       "28                                                ...        2  "
      ]
     },
     "execution_count": 85,
     "metadata": {},
     "output_type": "execute_result"
    }
   ],
   "source": [
    "doc_data[doc_data.cluster == 2].sample(10)"
   ]
  },
  {
   "cell_type": "code",
   "execution_count": 87,
   "id": "733c384b",
   "metadata": {
    "scrolled": true
   },
   "outputs": [
    {
     "data": {
      "text/plain": [
       "(3, 4403)"
      ]
     },
     "execution_count": 87,
     "metadata": {},
     "output_type": "execute_result"
    }
   ],
   "source": [
    "km.cluster_centers_.shape"
   ]
  },
  {
   "cell_type": "code",
   "execution_count": 102,
   "id": "34a7a6f5",
   "metadata": {},
   "outputs": [],
   "source": [
    "word_result = pd.DataFrame(km.cluster_centers_, columns = tfidf.get_feature_names())"
   ]
  },
  {
   "cell_type": "code",
   "execution_count": 103,
   "id": "3bea9253",
   "metadata": {},
   "outputs": [
    {
     "data": {
      "text/html": [
       "<div>\n",
       "<style scoped>\n",
       "    .dataframe tbody tr th:only-of-type {\n",
       "        vertical-align: middle;\n",
       "    }\n",
       "\n",
       "    .dataframe tbody tr th {\n",
       "        vertical-align: top;\n",
       "    }\n",
       "\n",
       "    .dataframe thead th {\n",
       "        text-align: right;\n",
       "    }\n",
       "</style>\n",
       "<table border=\"1\" class=\"dataframe\">\n",
       "  <thead>\n",
       "    <tr style=\"text-align: right;\">\n",
       "      <th></th>\n",
       "      <th>00</th>\n",
       "      <th>000</th>\n",
       "      <th>000 miles</th>\n",
       "      <th>05</th>\n",
       "      <th>06</th>\n",
       "      <th>07</th>\n",
       "      <th>08</th>\n",
       "      <th>10 did</th>\n",
       "      <th>10 great</th>\n",
       "      <th>10 inch</th>\n",
       "      <th>...</th>\n",
       "      <th>year</th>\n",
       "      <th>year old</th>\n",
       "      <th>years</th>\n",
       "      <th>years ago</th>\n",
       "      <th>years old</th>\n",
       "      <th>yellow</th>\n",
       "      <th>yes</th>\n",
       "      <th>yes rooms</th>\n",
       "      <th>yields</th>\n",
       "      <th>zoom</th>\n",
       "    </tr>\n",
       "  </thead>\n",
       "  <tbody>\n",
       "    <tr>\n",
       "      <th>0</th>\n",
       "      <td>0.001304</td>\n",
       "      <td>0.000000</td>\n",
       "      <td>0.000000</td>\n",
       "      <td>0.000000</td>\n",
       "      <td>0.000000</td>\n",
       "      <td>0.000551</td>\n",
       "      <td>0.000</td>\n",
       "      <td>0.000000</td>\n",
       "      <td>0.000000</td>\n",
       "      <td>0.003177</td>\n",
       "      <td>...</td>\n",
       "      <td>0.005708</td>\n",
       "      <td>0.003491</td>\n",
       "      <td>0.005240</td>\n",
       "      <td>0.002440</td>\n",
       "      <td>0.001773</td>\n",
       "      <td>0.000000</td>\n",
       "      <td>0.002975</td>\n",
       "      <td>0.000000</td>\n",
       "      <td>0.000411</td>\n",
       "      <td>0.007338</td>\n",
       "    </tr>\n",
       "    <tr>\n",
       "      <th>1</th>\n",
       "      <td>0.000931</td>\n",
       "      <td>0.007159</td>\n",
       "      <td>0.004859</td>\n",
       "      <td>0.003369</td>\n",
       "      <td>0.003248</td>\n",
       "      <td>0.004268</td>\n",
       "      <td>0.007</td>\n",
       "      <td>0.000000</td>\n",
       "      <td>0.000000</td>\n",
       "      <td>0.000000</td>\n",
       "      <td>...</td>\n",
       "      <td>0.004121</td>\n",
       "      <td>0.002509</td>\n",
       "      <td>0.005442</td>\n",
       "      <td>0.000000</td>\n",
       "      <td>0.000000</td>\n",
       "      <td>0.002379</td>\n",
       "      <td>0.001886</td>\n",
       "      <td>0.000000</td>\n",
       "      <td>0.002923</td>\n",
       "      <td>0.000000</td>\n",
       "    </tr>\n",
       "    <tr>\n",
       "      <th>2</th>\n",
       "      <td>0.004466</td>\n",
       "      <td>0.000000</td>\n",
       "      <td>0.000000</td>\n",
       "      <td>0.000000</td>\n",
       "      <td>0.000195</td>\n",
       "      <td>0.000000</td>\n",
       "      <td>0.000</td>\n",
       "      <td>0.000857</td>\n",
       "      <td>0.001729</td>\n",
       "      <td>0.000000</td>\n",
       "      <td>...</td>\n",
       "      <td>0.001365</td>\n",
       "      <td>0.001024</td>\n",
       "      <td>0.002556</td>\n",
       "      <td>0.000864</td>\n",
       "      <td>0.000700</td>\n",
       "      <td>0.000951</td>\n",
       "      <td>0.003261</td>\n",
       "      <td>0.001657</td>\n",
       "      <td>0.000000</td>\n",
       "      <td>0.000000</td>\n",
       "    </tr>\n",
       "  </tbody>\n",
       "</table>\n",
       "<p>3 rows × 4403 columns</p>\n",
       "</div>"
      ],
      "text/plain": [
       "         00       000  000 miles        05        06        07     08  \\\n",
       "0  0.001304  0.000000   0.000000  0.000000  0.000000  0.000551  0.000   \n",
       "1  0.000931  0.007159   0.004859  0.003369  0.003248  0.004268  0.007   \n",
       "2  0.004466  0.000000   0.000000  0.000000  0.000195  0.000000  0.000   \n",
       "\n",
       "     10 did  10 great   10 inch  ...      year  year old     years  years ago  \\\n",
       "0  0.000000  0.000000  0.003177  ...  0.005708  0.003491  0.005240   0.002440   \n",
       "1  0.000000  0.000000  0.000000  ...  0.004121  0.002509  0.005442   0.000000   \n",
       "2  0.000857  0.001729  0.000000  ...  0.001365  0.001024  0.002556   0.000864   \n",
       "\n",
       "   years old    yellow       yes  yes rooms    yields      zoom  \n",
       "0   0.001773  0.000000  0.002975   0.000000  0.000411  0.007338  \n",
       "1   0.000000  0.002379  0.001886   0.000000  0.002923  0.000000  \n",
       "2   0.000700  0.000951  0.003261   0.001657  0.000000  0.000000  \n",
       "\n",
       "[3 rows x 4403 columns]"
      ]
     },
     "execution_count": 103,
     "metadata": {},
     "output_type": "execute_result"
    }
   ],
   "source": [
    "word_result"
   ]
  },
  {
   "cell_type": "code",
   "execution_count": 124,
   "id": "db6ae88e",
   "metadata": {},
   "outputs": [
    {
     "name": "stdout",
     "output_type": "stream",
     "text": [
      "### Cluster0 ###\n",
      "\n",
      "Top 10 Words = ['screen', 'battery', 'battery life', 'keyboard', 'kindle', 'life', 'directions', 'size', 'voice', 'speed']\n",
      "\n",
      "Review File : ['battery-life_ipod_nano_8gb', 'voice_garmin_nuvi_255W_gps', 'speed_garmin_nuvi_255W_gps', 'size_asus_netbook_1005ha', 'screen_garmin_nuvi_255W_gps']\n",
      "\n",
      "\n",
      "### Cluster1 ###\n",
      "\n",
      "Top 10 Words = ['interior', 'mileage', 'seats', 'comfortable', 'gas', 'gas mileage', 'transmission', 'car', 'performance', 'quality']\n",
      "\n",
      "Review File : ['gas_mileage_toyota_camry_2007', 'comfort_honda_accord_2008', 'interior_toyota_camry_2007', 'transmission_toyota_camry_2007', 'seats_honda_accord_2008']\n",
      "\n",
      "\n",
      "### Cluster2 ###\n",
      "\n",
      "Top 10 Words = ['hotel', 'service', 'rooms', 'staff', 'room', 'food', 'location', 'clean', 'bathroom', 'parking']\n",
      "\n",
      "Review File : ['room_holiday_inn_london', 'location_holiday_inn_london', 'staff_bestwestern_hotel_sfo', 'service_swissotel_hotel_chicago', 'service_bestwestern_hotel_sfo']\n",
      "\n",
      "\n"
     ]
    }
   ],
   "source": [
    "for n in range(3) :\n",
    "    top10_idx = km.cluster_centers_[n].argsort()[::-1][:10]\n",
    "    top10_features = [tfidf.get_feature_names()[ind] for ind in top10_idx]\n",
    "    \n",
    "    filenames = doc_data[doc_data.cluster == n].filename.tolist()\n",
    "    \n",
    "    print(f'### Cluster{n} ###\\n')\n",
    "    print(f'Top 10 Words = {top10_features}\\n')\n",
    "    print(f'Review File : {filenames[:5]}\\n\\n')"
   ]
  }
 ],
 "metadata": {
  "kernelspec": {
   "display_name": "Python 3",
   "language": "python",
   "name": "python3"
  },
  "language_info": {
   "codemirror_mode": {
    "name": "ipython",
    "version": 3
   },
   "file_extension": ".py",
   "mimetype": "text/x-python",
   "name": "python",
   "nbconvert_exporter": "python",
   "pygments_lexer": "ipython3",
   "version": "3.8.8"
  }
 },
 "nbformat": 4,
 "nbformat_minor": 5
}
