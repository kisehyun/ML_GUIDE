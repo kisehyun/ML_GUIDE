{
 "cells": [
  {
   "cell_type": "markdown",
   "metadata": {},
   "source": [
    "# SVD(Singular Value Decomposition)\n",
    "***\n",
    "\n",
    "**SVD**는 **특이값 분해**라고 불리며 **추천시스템**에서 아주 중요한 기본적 방법론으로 사용되고 있습니다. 특이값 분해를 통해 **잠재적인 요인**을 발견하고 분해되었던 행렬을 다시 조합하는 경우에도 큰 강점을 발휘합니다. 기본적으로 특이값 분해는 **정방행렬(행과 열의 크기가 같은 행렬)** 뿐만 아니라 **행과 열의 크기가 다른 행렬**에도 적용이 가능합니다.\n",
    "\n",
    "사실 SVD는 수학적 이해가 전제가 되어야 하는데 여기서 전부 다룰 수는 없지만 제가 공부할 때 참고를 많이한 사이트의 url을 올려두겠습니다.\n",
    "https://angeloyeo.github.io/2019/08/01/SVD.html\n",
    "\n",
    "***\n",
    "## SVD"
   ]
  },
  {
   "cell_type": "code",
   "execution_count": 2,
   "metadata": {},
   "outputs": [],
   "source": [
    "import numpy as np\n",
    "from numpy.linalg import svd"
   ]
  },
  {
   "cell_type": "code",
   "execution_count": 5,
   "metadata": {
    "scrolled": true
   },
   "outputs": [
    {
     "data": {
      "text/plain": [
       "array([[0.848, 0.189, 0.451, 0.625],\n",
       "       [0.97 , 0.208, 0.594, 0.911],\n",
       "       [0.246, 0.774, 0.636, 0.788],\n",
       "       [0.88 , 0.366, 0.593, 0.506]])"
      ]
     },
     "execution_count": 5,
     "metadata": {},
     "output_type": "execute_result"
    }
   ],
   "source": [
    "np.random.seed(203)\n",
    "\n",
    "n = np.random.rand(4, 4)\n",
    "np.round(n, 3)"
   ]
  },
  {
   "cell_type": "code",
   "execution_count": 22,
   "metadata": {},
   "outputs": [],
   "source": [
    "U, sigma, V_ = svd(n)"
   ]
  },
  {
   "cell_type": "code",
   "execution_count": 23,
   "metadata": {
    "scrolled": true
   },
   "outputs": [
    {
     "name": "stdout",
     "output_type": "stream",
     "text": [
      "U 행렬의 값 \n",
      "\n",
      " [[-0.45996214  0.31616228  0.05319299 -0.82803789]\n",
      " [-0.58549738  0.29556604  0.58609414  0.47573857]\n",
      " [-0.45567645 -0.88463827  0.05666705 -0.08101205]\n",
      " [-0.48783872  0.17348561 -0.80650667  0.28541743]] \n",
      "\n",
      "U 행렬의 사이즈  (4, 4)\n"
     ]
    }
   ],
   "source": [
    "print('U 행렬의 값 \\n\\n',U,'\\n')\n",
    "print('U 행렬의 사이즈 ', U.shape)"
   ]
  },
  {
   "cell_type": "code",
   "execution_count": 32,
   "metadata": {
    "scrolled": true
   },
   "outputs": [
    {
     "name": "stdout",
     "output_type": "stream",
     "text": [
      "sigma 값 \n",
      "\n",
      " [2.47379254 0.72870108 0.2599761  0.03336976] \n",
      "\n",
      "sigma행렬 사이즈 (4,)\n"
     ]
    }
   ],
   "source": [
    "print('sigma 값 \\n\\n', sigma, '\\n')\n",
    "print('sigma행렬 사이즈 ' ,sigma.shape)"
   ]
  },
  {
   "cell_type": "code",
   "execution_count": 33,
   "metadata": {},
   "outputs": [
    {
     "name": "stdout",
     "output_type": "stream",
     "text": [
      "V_ 값 \n",
      "\n",
      " [[-0.60600737 -0.2990354  -0.45869599 -0.57700163]\n",
      " [ 0.67250822 -0.68670111 -0.19454978 -0.19576685]\n",
      " [-0.31733889 -0.458203   -0.26977316  0.78521875]\n",
      " [-0.28246024 -0.47861198  0.82399685 -0.11034483]]\n",
      "V_ 행렬 사이즈  (4, 4)\n"
     ]
    }
   ],
   "source": [
    "print('V_ 값 \\n\\n', V_)\n",
    "print('V_ 행렬 사이즈 ' , V_.shape)"
   ]
  },
  {
   "cell_type": "markdown",
   "metadata": {},
   "source": [
    "#### U, sigma, V_를 내적하면 다시 원래 행렬 값을 반환한다."
   ]
  },
  {
   "cell_type": "code",
   "execution_count": 37,
   "metadata": {},
   "outputs": [],
   "source": [
    "sigma_ = np.diag(sigma) # 대각행렬로 변환\n",
    "re_n = np.dot(np.dot(U, sigma_), V_)"
   ]
  },
  {
   "cell_type": "markdown",
   "metadata": {},
   "source": [
    "#### 내적한 값을 원래 행렬과 비교하면 값이 똑같은 것을 확인할 수 있다."
   ]
  },
  {
   "cell_type": "code",
   "execution_count": 40,
   "metadata": {},
   "outputs": [
    {
     "data": {
      "text/plain": [
       "array([[0.848, 0.189, 0.451, 0.625],\n",
       "       [0.97 , 0.208, 0.594, 0.911],\n",
       "       [0.246, 0.774, 0.636, 0.788],\n",
       "       [0.88 , 0.366, 0.593, 0.506]])"
      ]
     },
     "execution_count": 40,
     "metadata": {},
     "output_type": "execute_result"
    }
   ],
   "source": [
    "np.round(n, 3)"
   ]
  },
  {
   "cell_type": "code",
   "execution_count": 39,
   "metadata": {},
   "outputs": [
    {
     "data": {
      "text/plain": [
       "array([[0.848, 0.189, 0.451, 0.625],\n",
       "       [0.97 , 0.208, 0.594, 0.911],\n",
       "       [0.246, 0.774, 0.636, 0.788],\n",
       "       [0.88 , 0.366, 0.593, 0.506]])"
      ]
     },
     "execution_count": 39,
     "metadata": {},
     "output_type": "execute_result"
    }
   ],
   "source": [
    "np.round(re_n, 3)"
   ]
  },
  {
   "cell_type": "markdown",
   "metadata": {},
   "source": [
    "## Truncated SVD\n",
    "\n",
    "Truncated SVD는 대각행렬(sigma)의 일부분만 사용하여 분해하는 방식으로 원본 행렬로 완벽하게 복원할 수 없지만 압축된 정보로 빠른 결과는 물론 원본 행렬에 근사하게 분해가 가능하다."
   ]
  },
  {
   "cell_type": "code",
   "execution_count": 41,
   "metadata": {},
   "outputs": [],
   "source": [
    "from scipy.sparse.linalg import svds\n",
    "from scipy.linalg import svd"
   ]
  },
  {
   "cell_type": "code",
   "execution_count": 61,
   "metadata": {},
   "outputs": [],
   "source": [
    "m = np.random.random((5, 5))"
   ]
  },
  {
   "cell_type": "code",
   "execution_count": 62,
   "metadata": {},
   "outputs": [
    {
     "data": {
      "text/plain": [
       "array([[0.8260974 , 0.25432838, 0.83570768, 0.23849853, 0.80587368],\n",
       "       [0.54736306, 0.1676868 , 0.21669553, 0.9309792 , 0.65826426],\n",
       "       [0.10845495, 0.66955956, 0.52544674, 0.05451561, 0.24535654],\n",
       "       [0.63949895, 0.70095524, 0.66983844, 0.35934525, 0.20359652],\n",
       "       [0.45752531, 0.77289103, 0.22980446, 0.11237386, 0.85174203]])"
      ]
     },
     "execution_count": 62,
     "metadata": {},
     "output_type": "execute_result"
    }
   ],
   "source": [
    "m"
   ]
  },
  {
   "cell_type": "code",
   "execution_count": 63,
   "metadata": {},
   "outputs": [],
   "source": [
    "U, sigma, V_ = svd(m, full_matrices = False)"
   ]
  },
  {
   "cell_type": "code",
   "execution_count": 70,
   "metadata": {},
   "outputs": [
    {
     "data": {
      "text/plain": [
       "((5, 5), (5,), (5, 5))"
      ]
     },
     "execution_count": 70,
     "metadata": {},
     "output_type": "execute_result"
    }
   ],
   "source": [
    "U.shape, sigma.shape, V_.shape"
   ]
  },
  {
   "cell_type": "code",
   "execution_count": 64,
   "metadata": {},
   "outputs": [
    {
     "data": {
      "text/plain": [
       "array([[-0.55716686,  0.09045963, -0.41319826,  0.70513678,  0.11589422],\n",
       "       [-0.42908228,  0.77104378,  0.14292255, -0.39041298,  0.22029691],\n",
       "       [-0.29190094, -0.52113005,  0.01464624, -0.27878269,  0.75185305],\n",
       "       [-0.45798574, -0.26985203, -0.43111403, -0.49135642, -0.53864506],\n",
       "       [-0.45879885, -0.23002585,  0.78915558,  0.17666045, -0.28743048]])"
      ]
     },
     "execution_count": 64,
     "metadata": {},
     "output_type": "execute_result"
    }
   ],
   "source": [
    "U"
   ]
  },
  {
   "cell_type": "code",
   "execution_count": 65,
   "metadata": {},
   "outputs": [
    {
     "data": {
      "text/plain": [
       "array([2.48862793, 0.89483601, 0.61740818, 0.56173853, 0.22870518])"
      ]
     },
     "execution_count": 65,
     "metadata": {},
     "output_type": "execute_result"
    }
   ],
   "source": [
    "sigma"
   ]
  },
  {
   "cell_type": "code",
   "execution_count": 66,
   "metadata": {},
   "outputs": [
    {
     "data": {
      "text/plain": [
       "array([[-0.49408329, -0.43587426, -0.45173395, -0.30715532, -0.51719182],\n",
       "       [ 0.18152766, -0.62979853, -0.29588076,  0.65729536,  0.22543048],\n",
       "       [-0.28532396,  0.38293037, -0.67066125, -0.0500951 ,  0.56538353],\n",
       "       [ 0.18724613, -0.49964884,  0.12402561, -0.65369357,  0.52210371],\n",
       "       [-0.77875448, -0.13070125,  0.49317558,  0.20926922,  0.29907004]])"
      ]
     },
     "execution_count": 66,
     "metadata": {},
     "output_type": "execute_result"
    }
   ],
   "source": [
    "V_"
   ]
  },
  {
   "cell_type": "code",
   "execution_count": 67,
   "metadata": {},
   "outputs": [],
   "source": [
    "tr_U, tr_sigma, tr_V = svds(m, k = 3) # 특이값(k)을 4로 설정."
   ]
  },
  {
   "cell_type": "code",
   "execution_count": 69,
   "metadata": {},
   "outputs": [
    {
     "data": {
      "text/plain": [
       "((5, 3), (3,), (3, 5))"
      ]
     },
     "execution_count": 69,
     "metadata": {},
     "output_type": "execute_result"
    }
   ],
   "source": [
    "tr_U.shape, tr_sigma.shape, tr_V.shape"
   ]
  },
  {
   "cell_type": "code",
   "execution_count": 73,
   "metadata": {},
   "outputs": [],
   "source": [
    "tr_m = np.dot(np.dot(tr_U, np.diag(tr_sigma)), tr_V)"
   ]
  },
  {
   "cell_type": "code",
   "execution_count": 75,
   "metadata": {},
   "outputs": [
    {
     "data": {
      "text/plain": [
       "array([[ 0.77257011,  0.45570485,  0.77350891,  0.49188138,  0.59114006],\n",
       "       [ 0.62766404,  0.06469393,  0.2190479 ,  0.77707403,  0.75769877],\n",
       "       [ 0.27168717,  0.61378749,  0.46006665, -0.08383916,  0.27569364],\n",
       "       [ 0.59524599,  0.54694404,  0.76482597,  0.20469685,  0.38454708],\n",
       "       [ 0.38775071,  0.81388278,  0.24991634,  0.19100114,  0.81958996]])"
      ]
     },
     "execution_count": 75,
     "metadata": {},
     "output_type": "execute_result"
    }
   ],
   "source": [
    "tr_m"
   ]
  },
  {
   "cell_type": "code",
   "execution_count": 74,
   "metadata": {},
   "outputs": [
    {
     "data": {
      "text/plain": [
       "array([[ 0.0535273 , -0.20137647,  0.06219877, -0.25338285,  0.21473362],\n",
       "       [-0.08030097,  0.10299287, -0.00235237,  0.15390517, -0.09943451],\n",
       "       [-0.16323223,  0.05577207,  0.06538009,  0.13835477, -0.0303371 ],\n",
       "       [ 0.04425296,  0.1540112 , -0.09498753,  0.1546484 , -0.18095056],\n",
       "       [ 0.0697746 , -0.04099175, -0.02011188, -0.07862727,  0.03215208]])"
      ]
     },
     "execution_count": 74,
     "metadata": {},
     "output_type": "execute_result"
    }
   ],
   "source": [
    "m - tr_m"
   ]
  },
  {
   "cell_type": "code",
   "execution_count": 78,
   "metadata": {},
   "outputs": [],
   "source": [
    "from sklearn.decomposition import TruncatedSVD\n",
    "from sklearn.datasets import load_iris\n",
    "import matplotlib.pyplot as plt\n",
    "%matplotlib inline"
   ]
  },
  {
   "cell_type": "code",
   "execution_count": 79,
   "metadata": {},
   "outputs": [],
   "source": [
    "iris = load_iris()\n",
    "data = iris.data"
   ]
  },
  {
   "cell_type": "code",
   "execution_count": 81,
   "metadata": {},
   "outputs": [],
   "source": [
    "tsvd = TruncatedSVD(n_components = 2)\n",
    "iris_ts = tsvd.fit_transform(data)"
   ]
  },
  {
   "cell_type": "code",
   "execution_count": 85,
   "metadata": {},
   "outputs": [
    {
     "data": {
      "image/png": "[encoded data removed]",
      "text/plain": [
       "<Figure size 432x288 with 1 Axes>"
      ]
     },
     "metadata": {
      "needs_background": "light"
     },
     "output_type": "display_data"
    }
   ],
   "source": [
    "plt.scatter(iris_ts[:, 0], iris_ts[:, 1], c = iris.target)\n",
    "plt.show()"
   ]
  }
 ],
 "metadata": {
  "kernelspec": {
   "display_name": "Python 3",
   "language": "python",
   "name": "python3"
  },
  "language_info": {
   "codemirror_mode": {
    "name": "ipython",
    "version": 3
   },
   "file_extension": ".py",
   "mimetype": "text/x-python",
   "name": "python",
   "nbconvert_exporter": "python",
   "pygments_lexer": "ipython3",
   "version": "3.8.5"
  }
 },
 "nbformat": 4,
 "nbformat_minor": 4
}
