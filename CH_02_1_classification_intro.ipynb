{
 "cells": [
  {
   "cell_type": "markdown",
   "metadata": {},
   "source": [
    "\n",
    "# What is ML & sklearn ?\n",
    "***\n",
    "머신러닝(Machine Learning)이란 무엇일까요? 학부생인 저의 지식과 경험에 비추어 보면 머신러닝은 간단하게 알고리즘 정도로 설명이 가능할 것 같습니다. 조금더 보태면 데이터로 어떠한 현상을 예측하고자 하는 기법을 일컫는다고 생각하면 될 것 입니다.\n",
    "\n",
    "현재 머신러닝 기법이 사회 전반적인 분야는 물론 개인의 취향 및 건강 관련 서비스에도 통용이 되고 있습니다. 데이터가 내포하고 있는 패턴을 학습시켜서 새로운 형태의 데이터가 주어졌을 때 해당 데이터가 의미하는 바를 정확하게 잡아내기 위한 것이 중요한데요. 스팸메일을 필터링하는 모델을 만든다고 가정했을 때 특정 단어가 해당 메일에 등장했다는 이유만으로 메일을 스팸메일로 분류한다면 또 다른 문제점을 낳을 수 있다고 생각합니다.\n",
    "\n",
    "이러한 이유들로 날이 갈수록 머신러닝의 기법들의 수준도 점점 고도화 되어가고 있고 머신러닝이 더 상용화 되고 보편화 돼가고 있습니다.\n",
    "\n",
    "그렇다면 머신러닝의 종류에는 어떤 것들이 있을까요? 머신러닝에는 크게 지도학습(supervised learning)과 비지도학습(unsupervised leaerning)이 있습니다.\n",
    "\n",
    "대표적인 지도학습의 종류는 아래와 같습니다.\n",
    "- 분류\n",
    "- 회귀\n",
    "- NLP(자연어 처리)\n",
    "\n",
    "또한 대표적인 비지도학습의 종류는 아래와 같습니다.\n",
    "\n",
    "- 군집화\n",
    "- 차원축소\n",
    "- 강화학습\n",
    "\n",
    "지도학습과 비지도학습의 차이점은 이후 다른 챕터에서 구체적으로 설명을 드리도록 하겠습니다. 머신러닝에서 가장 중요한 요소는 무엇일까요? 뛰어난 알고리즘과 많은 데이터 등 한 요소만을 특정해서 중요하다고 할 수가 없습니다. 하지만 빅데이터가 급부상하는 현재 데이터는 이곳 저곳에 정말 무수히 많습니다. 그렇다면 이런 데이터들을 무작정 가져다 사용한다고 좋은 결과가 나오고 만약 좋은 결과가 나온다고 해도 그 결과를 신뢰할 수 있을까요?\n",
    "\n",
    "편중된 1억개의 데이터 보다 대표성이 높은 100개의 데이터가 더 좋은 성능과 높은 신뢰도를 가져다 줄 수 있습니다. 그렇기 때문에 좋은 품질의 데이터를 갖추었을 때 머신러닝의 수행 결과도 좋다고 할 수 있겠습니다. 즉 좋은 품질의 데이터와 해당 데이터에 맞는 적절한 알고리즘 등 여러가지 요소가 조화를 이루었을 때 우리는 비로소 뛰어나고 신뢰할만한 머신러닝의 수행 결과를 얻을 수 있습니다.\n",
    "\n",
    "자, 그럼 이제 실제로 머신러닝이 어떤 과정을 통해서 수행이 되는지 살펴보도록 하겠습니다. 우선 '사이킷런(scikit-learn)은 파이썬에서 사용되는 ML 라이브러리 중 가장 많이 사용되는 라이브러리입니다. 특히 정형 데이터를 활용한 머신러닝에서 우수한 성능을 보여줍니다. 주로 코드를 활용해서 설명이 진행되겠고 각 코드에는 주석을 달아놔서 쉽게 이해할 수 있도록 하겠습니다.\n",
    "\n",
    "먼저 머신러닝에서 아주 대표적 데이터셋인 붓꽃 데이터 세트 일명 iris를 활용해서 분류 모델을 만들어보도록 하겠습니다. 분류는 앞서 말씀드렸듯이 지도학습의 대표적 기법 중 하나인데요. 지도학습은 정답(label 혹은 target)이 있는 데이터로 모델을 학습한 후 정답이 주어지지 않은 데이터에 대해 정답을 예측하는 방법입니다. 수능 성적 배치표를 가지고 내가 어느 대학에 갈 수 있을지 판단해보는것과 같다고 보시면 될 것 같습니다."
   ]
  },
  {
   "cell_type": "code",
   "execution_count": 2,
   "metadata": {},
   "outputs": [],
   "source": [
    "# 사이킷런이 설치가 안되어 있다면 아래 코드를 실행해 주세요.\n",
    "!pip install scikit-learn # jupyternotebook 상에서 실행"
   ]
  },
  {
   "cell_type": "markdown",
   "metadata": {},
   "source": [
    "#### 사이킷런의 다양한 패키지들에 대해 보고싶은 분들은 scikit-learn 공식 문서를 참고하시길 바랍니다.\n"
   ]
  },
  {
   "cell_type": "markdown",
   "metadata": {},
   "source": [
    "간단한 의사결정트리(DecisionTreeClassifier) 알고리즘을 활용하여 붓꽃 분류 문제를 진행해보도록 하겠습니다.\n",
    "\n",
    "우선 필요한 패키지들을 호출합니다."
   ]
  },
  {
   "cell_type": "code",
   "execution_count": 3,
   "metadata": {},
   "outputs": [],
   "source": [
    "from sklearn.datasets import load_iris # 붓꽃 데이터셋 호출\n",
    "from sklearn.tree import DecisionTreeClassifier # 의사결정트리 호출\n",
    "from sklearn.model_selection import train_test_split # 학습용 데이터와 테스트용 데이터로 분할 함수\n",
    "from sklearn.metrics import accuracy_score # 평가지표에서 정확도 호출\n",
    "import pandas as pd # 데이터 전처리용 패키지"
   ]
  },
  {
   "cell_type": "code",
   "execution_count": 4,
   "metadata": {},
   "outputs": [],
   "source": [
    "iris = load_iris() # 붓꽃 데이터 data 변수에 저장\n",
    "\n",
    "data = iris.data # 붓꽃 데이터의 정답을 제외한 데이터\n",
    "target = iris.target # 붓꽃 데이터의 정답 데이터"
   ]
  },
  {
   "cell_type": "code",
   "execution_count": 5,
   "metadata": {},
   "outputs": [
    {
     "data": {
      "text/plain": [
       "array([[5.1, 3.5, 1.4, 0.2],\n",
       "       [4.9, 3. , 1.4, 0.2],\n",
       "       [4.7, 3.2, 1.3, 0.2]])"
      ]
     },
     "execution_count": 5,
     "metadata": {},
     "output_type": "execute_result"
    }
   ],
   "source": [
    "data[:3] # 3번째 데이터까지만 호출\n"
   ]
  },
  {
   "cell_type": "code",
   "execution_count": 7,
   "metadata": {},
   "outputs": [
    {
     "data": {
      "text/plain": [
       "array([0, 0, 0])"
      ]
     },
     "execution_count": 7,
     "metadata": {},
     "output_type": "execute_result"
    }
   ],
   "source": [
    "target[:3] # 3번째 정답 데이터까지만 호출"
   ]
  },
  {
   "cell_type": "code",
   "execution_count": 8,
   "metadata": {},
   "outputs": [
    {
     "data": {
      "text/html": [
       "<div>\n",
       "<style scoped>\n",
       "    .dataframe tbody tr th:only-of-type {\n",
       "        vertical-align: middle;\n",
       "    }\n",
       "\n",
       "    .dataframe tbody tr th {\n",
       "        vertical-align: top;\n",
       "    }\n",
       "\n",
       "    .dataframe thead th {\n",
       "        text-align: right;\n",
       "    }\n",
       "</style>\n",
       "<table border=\"1\" class=\"dataframe\">\n",
       "  <thead>\n",
       "    <tr style=\"text-align: right;\">\n",
       "      <th></th>\n",
       "      <th>sepal length (cm)</th>\n",
       "      <th>sepal width (cm)</th>\n",
       "      <th>petal length (cm)</th>\n",
       "      <th>petal width (cm)</th>\n",
       "      <th>정답</th>\n",
       "    </tr>\n",
       "  </thead>\n",
       "  <tbody>\n",
       "    <tr>\n",
       "      <th>0</th>\n",
       "      <td>5.1</td>\n",
       "      <td>3.5</td>\n",
       "      <td>1.4</td>\n",
       "      <td>0.2</td>\n",
       "      <td>0</td>\n",
       "    </tr>\n",
       "    <tr>\n",
       "      <th>1</th>\n",
       "      <td>4.9</td>\n",
       "      <td>3.0</td>\n",
       "      <td>1.4</td>\n",
       "      <td>0.2</td>\n",
       "      <td>0</td>\n",
       "    </tr>\n",
       "    <tr>\n",
       "      <th>2</th>\n",
       "      <td>4.7</td>\n",
       "      <td>3.2</td>\n",
       "      <td>1.3</td>\n",
       "      <td>0.2</td>\n",
       "      <td>0</td>\n",
       "    </tr>\n",
       "    <tr>\n",
       "      <th>3</th>\n",
       "      <td>4.6</td>\n",
       "      <td>3.1</td>\n",
       "      <td>1.5</td>\n",
       "      <td>0.2</td>\n",
       "      <td>0</td>\n",
       "    </tr>\n",
       "    <tr>\n",
       "      <th>4</th>\n",
       "      <td>5.0</td>\n",
       "      <td>3.6</td>\n",
       "      <td>1.4</td>\n",
       "      <td>0.2</td>\n",
       "      <td>0</td>\n",
       "    </tr>\n",
       "  </tbody>\n",
       "</table>\n",
       "</div>"
      ],
      "text/plain": [
       "   sepal length (cm)  sepal width (cm)  petal length (cm)  petal width (cm)  \\\n",
       "0                5.1               3.5                1.4               0.2   \n",
       "1                4.9               3.0                1.4               0.2   \n",
       "2                4.7               3.2                1.3               0.2   \n",
       "3                4.6               3.1                1.5               0.2   \n",
       "4                5.0               3.6                1.4               0.2   \n",
       "\n",
       "   정답  \n",
       "0   0  \n",
       "1   0  \n",
       "2   0  \n",
       "3   0  \n",
       "4   0  "
      ]
     },
     "execution_count": 8,
     "metadata": {},
     "output_type": "execute_result"
    }
   ],
   "source": [
    "df = pd.DataFrame(data, columns = iris.feature_names) # 컬럼명과 함께 보기 위해 데이터 프레임으로 변환\n",
    "df['정답'] = target # 데이터의 정답 컬럼에 iris target값 대입\n",
    "df.head() # 최종 데이터의 5행까지 출력"
   ]
  },
  {
   "cell_type": "code",
   "execution_count": 11,
   "metadata": {},
   "outputs": [],
   "source": [
    "X_train, X_test, y_train, y_test = train_test_split(data, target, test_size = .2, random_state = 203)\n",
    "# 데이터를 학습용(train)과 검증용(test)으로 나눕니다."
   ]
  },
  {
   "cell_type": "code",
   "execution_count": 12,
   "metadata": {},
   "outputs": [],
   "source": [
    "dt = DecisionTreeClassifier(random_state = 333) # 의사결정나무를 생성합니다."
   ]
  },
  {
   "cell_type": "code",
   "execution_count": 13,
   "metadata": {},
   "outputs": [
    {
     "data": {
      "text/plain": [
       "DecisionTreeClassifier(random_state=333)"
      ]
     },
     "execution_count": 13,
     "metadata": {},
     "output_type": "execute_result"
    }
   ],
   "source": [
    "dt.fit(X_train, y_train) # 학습용 데이터를 모델로 학습합니다."
   ]
  },
  {
   "cell_type": "code",
   "execution_count": 14,
   "metadata": {},
   "outputs": [],
   "source": [
    "pred = dt.predict(X_test) # 학습시킨 모델로 검증용 데이터를 예측합니다."
   ]
  },
  {
   "cell_type": "code",
   "execution_count": 15,
   "metadata": {},
   "outputs": [
    {
     "name": "stdout",
     "output_type": "stream",
     "text": [
      "정확도는 0.9333333333333333\n"
     ]
    }
   ],
   "source": [
    "# accuracy_score(예측값, 실제값)을 호출하면 정확도를 계산합니다.\n",
    "print('정확도는 {}'.format(accuracy_score(pred, y_test)))"
   ]
  },
  {
   "cell_type": "markdown",
   "metadata": {},
   "source": [
    "지금까지 아주 간단한 분류 문제를 해결해보았습니다. 93.3%라는 높은 정확도를 가지는 모델도 만들었습니다. 일반적인 머신러닝 모델 알고리즘 적용은 데이터를 학습한 후 예측하고자 하는 데이터를 예측하는 과정으로 진행됩니다.\n",
    "\n",
    "\n",
    "사이킷런에는 기본적으로 내장되어 있는 데이터들이 있습니다. 회귀와 분류용 데이터셋들이 있으며 종류는 아래와 같습니다.\n",
    "\n",
    "- load_boston() : 보스턴 주택 가격 데이터셋\n",
    "- load_breast_cancer() : 위스콘신 유방암 악성/음성 데이터셋\n",
    "- load_diabetes() : 당뇨 데이터셋\n",
    "- load_digits() : 0에서 9까지 숫자 이미지 데이터셋\n",
    "- load_iris() : 붓꽃 데이터셋\n",
    "\n",
    "따라서 이후에 다양한 실습을 하고 싶으신 분들은 위의 데이터셋을 활용하시면 될 것 같습니다.\n",
    "\n",
    "사이킷런에는 데이터 전처리, 모델 검증 및 파라미터 튜닝 등 머신러닝 문제를 해결하기 위한 다양한 패키지들이 존재합니다. 따라서 본인이 풀고자 하는 문제에 대한 적절한 접근법을 활용하여 해당 문제를 해결하면 되겠습니다.\n",
    "\n",
    "지금까지 머신러닝과 사이킷런에 대해서 매우 간단하고 얕게 살펴보았습니다. 이후에는 다양한 코드들과 함께 보다 자세하게 내용을 다룰 예정입니다. 다음 챕터에서는 분류(classification)에 대해 설명을 드리도록 하겠습니다."
   ]
  }
 ],
 "metadata": {
  "kernelspec": {
   "display_name": "Python 3",
   "language": "python",
   "name": "python3"
  },
  "language_info": {
   "codemirror_mode": {
    "name": "ipython",
    "version": 3
   },
   "file_extension": ".py",
   "mimetype": "text/x-python",
   "name": "python",
   "nbconvert_exporter": "python",
   "pygments_lexer": "ipython3",
   "version": "3.8.5"
  }
 },
 "nbformat": 4,
 "nbformat_minor": 4
}
